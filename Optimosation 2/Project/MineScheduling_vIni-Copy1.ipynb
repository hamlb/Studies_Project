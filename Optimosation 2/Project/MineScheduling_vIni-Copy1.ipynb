{
 "cells": [
  {
   "cell_type": "raw",
   "metadata": {},
   "source": [
    "### Read the data from the input Excel file"
   ]
  },
  {
   "cell_type": "code",
   "execution_count": 5,
   "metadata": {},
   "outputs": [],
   "source": [
    "import pandas as pd\n",
    "inputFileName = \"MineScheduling_miniDataSet.xlsx\"\n",
    "paramDF = pd.read_excel(inputFileName, \"Param\", skiprows=0)\n",
    "jobDF = pd.read_excel(inputFileName, \"Job\", skiprows=0)\n",
    "jobMachineDF = pd.read_excel(inputFileName, \"JobMachine\", skiprows=0)\n",
    "switchingDF = pd.read_excel(inputFileName, \"Switching\", skiprows=0)"
   ]
  },
  {
   "cell_type": "markdown",
   "metadata": {},
   "source": [
    "### Set the data into dict + compute maxDuration"
   ]
  },
  {
   "cell_type": "code",
   "execution_count": 7,
   "metadata": {
    "tags": []
   },
   "outputs": [],
   "source": [
    "horizonDuration = paramDF['Duration (day)'][0]\n",
    "\n",
    "duration = dict()  #duration[vJob][vMachine]\n",
    "maxDuration = 0.0\n",
    "for iJob,vJob in enumerate(jobMachineDF['Job']):\n",
    "    vMachine = jobMachineDF['Machine'][iJob]\n",
    "    if not vJob in duration : duration[vJob] = dict() \n",
    "    duration[vJob][vMachine] = jobMachineDF['Duration'][iJob]\n",
    "    if duration[vJob][vMachine] > maxDuration : maxDuration = duration[vJob][vMachine]"
   ]
  },
  {
   "cell_type": "markdown",
   "metadata": {},
   "source": [
    "### Create your linear program"
   ]
  },
  {
   "cell_type": "code",
   "execution_count": 8,
   "metadata": {},
   "outputs": [],
   "source": [
    "from pulp import\n",
    "prob = LpProblem(\"MineSchedulingProblem\", LpMaximize)  "
   ]
  },
  {
   "cell_type": "code",
   "execution_count": 24,
   "metadata": {},
   "outputs": [
    {
     "name": "stdout",
     "output_type": "stream",
     "text": [
      "{'Job1': {'Bull': isFirst_Bull__Job1_}, 'Job2': {'Bull': isFirst_Bull__Job2_}, 'Job3': {'Bull': isFirst_Bull__Job3_, 'Dragline': isFirst_Dragline__Job3_}, 'Job4': {'Dragline': isFirst_Dragline__Job4_}, 'Job5': {'Dragline': isFirst_Dragline__Job5_}, 'Job6': {'Dragline': isFirst_Dragline__Job6_}, 'Job7': {'Bull': isFirst_Bull__Job7_, 'Dragline': isFirst_Dragline__Job7_}, 'Job8': {'Dragline': isFirst_Dragline__Job8_}, 'Job9': {'Dragline': isFirst_Dragline__Job9_}, 'Job10': {'Dragline': isFirst_Dragline__Job10_}}\n"
     ]
    }
   ],
   "source": []
  },
  {
   "cell_type": "markdown",
   "metadata": {},
   "source": [
    "### Add variables"
   ]
  },
  {
   "cell_type": "code",
   "execution_count": 9,
   "metadata": {},
   "outputs": [],
   "source": [
    " #allocationVar[vJob][vMachine] & isFirst[vJob][vMachine]\n",
    "    \n",
    "allocationVar = dict()\n",
    "isFirstVar = dict()\n",
    "for iJob,vJob in enumerate(jobMachineDF['Job']):\n",
    "    vMachine = jobMachineDF['Machine'][iJob]\n",
    "    if not vJob in allocationVar : allocationVar[vJob] = dict() \n",
    "    if not vJob in isFirstVar : isFirstVar[vJob] = dict() \n",
    "    allocationVar[vJob][vMachine] = LpVariable(\"Allocation[%s][%s]\"%(vJob,vMachine), cat='Binary')\n",
    "    isFirstVar[vJob][vMachine] = LpVariable(\"isFirst[%s][%s]\"%(vMachine, vJob), cat='Binary') \n",
    "    \n",
    "#startVar[vJob] and isOver[vJob]\n",
    "\n",
    "startVar = dict()\n",
    "isOverVar = dict()\n",
    "for vJob in jobDF['Id'] :\n",
    "    startVar[vJob] = LpVariable(\"Start[%s]\"%(vJob), lowBound=0, upBound=horizonDuration, cat='Continuous')\n",
    "    isOverVar[vJob] = LpVariable(\"IsOver[%s]\"%(vJob), lowBound=0, cat='Binary')\n",
    "    \n",
    "#isSuccessor[vMachine][vJob1-vJob2] = 1 if vJob2 is the direct successor of vJob1\n",
    "\n",
    "isSuccessorVar = dict()  \n",
    "for iMachine,vMachine in enumerate(switchingDF['Machine']):\n",
    "    vJob1 = switchingDF['Job1'][iMachine]\n",
    "    vJob2 = switchingDF['Job2'][iMachine]\n",
    "    if not vMachine in isSuccessorVar : isSuccessorVar[vMachine] = dict()\n",
    "    if not vJob1 in isSuccessorVar[vMachine] : isSuccessorVar[vMachine][vJob1] = dict() \n",
    "    if not vJob2 in isSuccessorVar[vMachine] : isSuccessorVar[vMachine][vJob2] = dict() \n",
    "    isSuccessorVar[vMachine][vJob1][vJob2] = LpVariable(\"IsSuccessor[%s][%s][%s]\"%(vMachine, vJob1, vJob2), cat='Binary')\n",
    "    isSuccessorVar[vMachine][vJob2][vJob1] = LpVariable(\"IsSuccessor[%s][%s][%s]\"%(vMachine, vJob2, vJob1), cat='Binary')  "
   ]
  },
  {
   "cell_type": "markdown",
   "metadata": {},
   "source": [
    "### Add objective"
   ]
  },
  {
   "cell_type": "code",
   "execution_count": 18,
   "metadata": {},
   "outputs": [
    {
     "name": "stdout",
     "output_type": "stream",
     "text": [
      "MineSchedulingProblem:\n",
      "MAXIMIZE\n",
      "36*IsOver_Job10_ + 58*IsOver_Job1_ + 43*IsOver_Job2_ + 82*IsOver_Job3_ + 40*IsOver_Job4_ + 28*IsOver_Job5_ + 69*IsOver_Job6_ + 34*IsOver_Job7_ + 35*IsOver_Job8_ + 49*IsOver_Job9_ + 0\n",
      "VARIABLES\n",
      "0 <= IsOver_Job10_ <= 1 Integer\n",
      "0 <= IsOver_Job1_ <= 1 Integer\n",
      "0 <= IsOver_Job2_ <= 1 Integer\n",
      "0 <= IsOver_Job3_ <= 1 Integer\n",
      "0 <= IsOver_Job4_ <= 1 Integer\n",
      "0 <= IsOver_Job5_ <= 1 Integer\n",
      "0 <= IsOver_Job6_ <= 1 Integer\n",
      "0 <= IsOver_Job7_ <= 1 Integer\n",
      "0 <= IsOver_Job8_ <= 1 Integer\n",
      "0 <= IsOver_Job9_ <= 1 Integer\n",
      "\n"
     ]
    }
   ],
   "source": [
    "Production=jobDF.set_index('Id').to_dict()['Production']\n",
    "Production\n",
    "obj = lpSum([Production[i]*isOverVar[i] for i in Production.keys()])\n",
    "\n",
    "#obj += lpSum(...)\n",
    "\n",
    "prob += obj\n",
    "print(prob)"
   ]
  },
  {
   "cell_type": "markdown",
   "metadata": {},
   "source": [
    "### Add constraints"
   ]
  },
  {
   "cell_type": "code",
   "execution_count": 21,
   "metadata": {},
   "outputs": [],
   "source": [
    "#Max one allocation per job\n",
    "for vJob in jobDF['Id']:\n",
    "    prob += lpSum([allocationVar[vJob][vMachine] for vMachine in allocationVar[vJob].keys()])<=1\n"
   ]
  },
  {
   "cell_type": "code",
   "execution_count": 41,
   "metadata": {},
   "outputs": [
    {
     "data": {
      "text/html": [
       "<div>\n",
       "<style scoped>\n",
       "    .dataframe tbody tr th:only-of-type {\n",
       "        vertical-align: middle;\n",
       "    }\n",
       "\n",
       "    .dataframe tbody tr th {\n",
       "        vertical-align: top;\n",
       "    }\n",
       "\n",
       "    .dataframe thead th {\n",
       "        text-align: right;\n",
       "    }\n",
       "</style>\n",
       "<table border=\"1\" class=\"dataframe\">\n",
       "  <thead>\n",
       "    <tr style=\"text-align: right;\">\n",
       "      <th></th>\n",
       "      <th>Job</th>\n",
       "      <th>Zone</th>\n",
       "      <th>Trench</th>\n",
       "      <th>Layer</th>\n",
       "      <th>Machine</th>\n",
       "      <th>Duration</th>\n",
       "      <th>Unnamed: 6</th>\n",
       "      <th>Unnamed: 7</th>\n",
       "      <th>Unnamed: 8</th>\n",
       "      <th>Unnamed: 9</th>\n",
       "      <th>Unnamed: 10</th>\n",
       "    </tr>\n",
       "  </thead>\n",
       "  <tbody>\n",
       "    <tr>\n",
       "      <th>0</th>\n",
       "      <td>Job1</td>\n",
       "      <td>Zone1</td>\n",
       "      <td>1</td>\n",
       "      <td>1</td>\n",
       "      <td>Bull</td>\n",
       "      <td>9</td>\n",
       "      <td>NaN</td>\n",
       "      <td>NaN</td>\n",
       "      <td>NaN</td>\n",
       "      <td>NaN</td>\n",
       "      <td>NaN</td>\n",
       "    </tr>\n",
       "    <tr>\n",
       "      <th>1</th>\n",
       "      <td>Job2</td>\n",
       "      <td>Zone1</td>\n",
       "      <td>1</td>\n",
       "      <td>2</td>\n",
       "      <td>Bull</td>\n",
       "      <td>14</td>\n",
       "      <td>NaN</td>\n",
       "      <td>NaN</td>\n",
       "      <td>NaN</td>\n",
       "      <td>NaN</td>\n",
       "      <td>NaN</td>\n",
       "    </tr>\n",
       "    <tr>\n",
       "      <th>2</th>\n",
       "      <td>Job3</td>\n",
       "      <td>Zone1</td>\n",
       "      <td>1</td>\n",
       "      <td>3</td>\n",
       "      <td>Bull</td>\n",
       "      <td>27</td>\n",
       "      <td>NaN</td>\n",
       "      <td>NaN</td>\n",
       "      <td>NaN</td>\n",
       "      <td>NaN</td>\n",
       "      <td>NaN</td>\n",
       "    </tr>\n",
       "    <tr>\n",
       "      <th>3</th>\n",
       "      <td>Job3</td>\n",
       "      <td>Zone1</td>\n",
       "      <td>1</td>\n",
       "      <td>3</td>\n",
       "      <td>Dragline</td>\n",
       "      <td>23</td>\n",
       "      <td>NaN</td>\n",
       "      <td>NaN</td>\n",
       "      <td>NaN</td>\n",
       "      <td>NaN</td>\n",
       "      <td>NaN</td>\n",
       "    </tr>\n",
       "    <tr>\n",
       "      <th>4</th>\n",
       "      <td>Job4</td>\n",
       "      <td>Zone1</td>\n",
       "      <td>1</td>\n",
       "      <td>4</td>\n",
       "      <td>Dragline</td>\n",
       "      <td>18</td>\n",
       "      <td>NaN</td>\n",
       "      <td>NaN</td>\n",
       "      <td>NaN</td>\n",
       "      <td>NaN</td>\n",
       "      <td>NaN</td>\n",
       "    </tr>\n",
       "    <tr>\n",
       "      <th>5</th>\n",
       "      <td>Job5</td>\n",
       "      <td>Zone1</td>\n",
       "      <td>1</td>\n",
       "      <td>5</td>\n",
       "      <td>Dragline</td>\n",
       "      <td>12</td>\n",
       "      <td>NaN</td>\n",
       "      <td>NaN</td>\n",
       "      <td>NaN</td>\n",
       "      <td>NaN</td>\n",
       "      <td>NaN</td>\n",
       "    </tr>\n",
       "    <tr>\n",
       "      <th>6</th>\n",
       "      <td>Job6</td>\n",
       "      <td>Zone1</td>\n",
       "      <td>1</td>\n",
       "      <td>6</td>\n",
       "      <td>Dragline</td>\n",
       "      <td>27</td>\n",
       "      <td>NaN</td>\n",
       "      <td>NaN</td>\n",
       "      <td>NaN</td>\n",
       "      <td>NaN</td>\n",
       "      <td>NaN</td>\n",
       "    </tr>\n",
       "    <tr>\n",
       "      <th>7</th>\n",
       "      <td>Job7</td>\n",
       "      <td>Zone1</td>\n",
       "      <td>2</td>\n",
       "      <td>3</td>\n",
       "      <td>Bull</td>\n",
       "      <td>17</td>\n",
       "      <td>NaN</td>\n",
       "      <td>NaN</td>\n",
       "      <td>NaN</td>\n",
       "      <td>NaN</td>\n",
       "      <td>NaN</td>\n",
       "    </tr>\n",
       "    <tr>\n",
       "      <th>8</th>\n",
       "      <td>Job7</td>\n",
       "      <td>Zone1</td>\n",
       "      <td>2</td>\n",
       "      <td>3</td>\n",
       "      <td>Dragline</td>\n",
       "      <td>15</td>\n",
       "      <td>NaN</td>\n",
       "      <td>NaN</td>\n",
       "      <td>NaN</td>\n",
       "      <td>NaN</td>\n",
       "      <td>NaN</td>\n",
       "    </tr>\n",
       "    <tr>\n",
       "      <th>9</th>\n",
       "      <td>Job8</td>\n",
       "      <td>Zone1</td>\n",
       "      <td>2</td>\n",
       "      <td>4</td>\n",
       "      <td>Dragline</td>\n",
       "      <td>12</td>\n",
       "      <td>NaN</td>\n",
       "      <td>NaN</td>\n",
       "      <td>NaN</td>\n",
       "      <td>NaN</td>\n",
       "      <td>NaN</td>\n",
       "    </tr>\n",
       "    <tr>\n",
       "      <th>10</th>\n",
       "      <td>Job9</td>\n",
       "      <td>Zone1</td>\n",
       "      <td>2</td>\n",
       "      <td>5</td>\n",
       "      <td>Dragline</td>\n",
       "      <td>14</td>\n",
       "      <td>NaN</td>\n",
       "      <td>NaN</td>\n",
       "      <td>NaN</td>\n",
       "      <td>NaN</td>\n",
       "      <td>NaN</td>\n",
       "    </tr>\n",
       "    <tr>\n",
       "      <th>11</th>\n",
       "      <td>Job10</td>\n",
       "      <td>Zone1</td>\n",
       "      <td>2</td>\n",
       "      <td>6</td>\n",
       "      <td>Dragline</td>\n",
       "      <td>12</td>\n",
       "      <td>NaN</td>\n",
       "      <td>NaN</td>\n",
       "      <td>NaN</td>\n",
       "      <td>NaN</td>\n",
       "      <td>NaN</td>\n",
       "    </tr>\n",
       "  </tbody>\n",
       "</table>\n",
       "</div>"
      ],
      "text/plain": [
       "      Job   Zone  Trench  Layer   Machine  Duration  Unnamed: 6  Unnamed: 7  \\\n",
       "0    Job1  Zone1       1      1      Bull         9         NaN         NaN   \n",
       "1    Job2  Zone1       1      2      Bull        14         NaN         NaN   \n",
       "2    Job3  Zone1       1      3      Bull        27         NaN         NaN   \n",
       "3    Job3  Zone1       1      3  Dragline        23         NaN         NaN   \n",
       "4    Job4  Zone1       1      4  Dragline        18         NaN         NaN   \n",
       "5    Job5  Zone1       1      5  Dragline        12         NaN         NaN   \n",
       "6    Job6  Zone1       1      6  Dragline        27         NaN         NaN   \n",
       "7    Job7  Zone1       2      3      Bull        17         NaN         NaN   \n",
       "8    Job7  Zone1       2      3  Dragline        15         NaN         NaN   \n",
       "9    Job8  Zone1       2      4  Dragline        12         NaN         NaN   \n",
       "10   Job9  Zone1       2      5  Dragline        14         NaN         NaN   \n",
       "11  Job10  Zone1       2      6  Dragline        12         NaN         NaN   \n",
       "\n",
       "    Unnamed: 8  Unnamed: 9  Unnamed: 10  \n",
       "0          NaN         NaN          NaN  \n",
       "1          NaN         NaN          NaN  \n",
       "2          NaN         NaN          NaN  \n",
       "3          NaN         NaN          NaN  \n",
       "4          NaN         NaN          NaN  \n",
       "5          NaN         NaN          NaN  \n",
       "6          NaN         NaN          NaN  \n",
       "7          NaN         NaN          NaN  \n",
       "8          NaN         NaN          NaN  \n",
       "9          NaN         NaN          NaN  \n",
       "10         NaN         NaN          NaN  \n",
       "11         NaN         NaN          NaN  "
      ]
     },
     "execution_count": 41,
     "metadata": {},
     "output_type": "execute_result"
    }
   ],
   "source": [
    "jobMachineDF"
   ]
  },
  {
   "cell_type": "code",
   "execution_count": 45,
   "metadata": {},
   "outputs": [
    {
     "name": "stdout",
     "output_type": "stream",
     "text": [
      "0    Job1\n",
      "1    Job2\n",
      "2    Job3\n",
      "7    Job7\n",
      "Name: Job, dtype: object\n",
      "3      Job3\n",
      "4      Job4\n",
      "5      Job5\n",
      "6      Job6\n",
      "8      Job7\n",
      "9      Job8\n",
      "10     Job9\n",
      "11    Job10\n",
      "Name: Job, dtype: object\n"
     ]
    }
   ],
   "source": [
    "#Max one \"isFirst\" job per \n",
    "\n",
    "for vMachine in paramDF['Machine']:\n",
    "        vJobs=jobMachineDF.loc[jobMachineDF['Machine'] == vMachine , 'Job']\n",
    "        print(vJobs)\n",
    "        prob += lpSum([isFirstVar[vJob][vMachine] for vJob in vJobs])<=1\n",
    "    \n"
   ]
  },
  {
   "cell_type": "code",
   "execution_count": 46,
   "metadata": {},
   "outputs": [
    {
     "name": "stdout",
     "output_type": "stream",
     "text": [
      "MineSchedulingProblem:\n",
      "MAXIMIZE\n",
      "36*IsOver_Job10_ + 58*IsOver_Job1_ + 43*IsOver_Job2_ + 82*IsOver_Job3_ + 40*IsOver_Job4_ + 28*IsOver_Job5_ + 69*IsOver_Job6_ + 34*IsOver_Job7_ + 35*IsOver_Job8_ + 49*IsOver_Job9_ + 0\n",
      "SUBJECT TO\n",
      "_C1: Allocation_Job1__Bull_ <= 1\n",
      "\n",
      "_C2: Allocation_Job2__Bull_ <= 1\n",
      "\n",
      "_C3: Allocation_Job3__Bull_ + Allocation_Job3__Dragline_ <= 1\n",
      "\n",
      "_C4: Allocation_Job4__Dragline_ <= 1\n",
      "\n",
      "_C5: Allocation_Job5__Dragline_ <= 1\n",
      "\n",
      "_C6: Allocation_Job6__Dragline_ <= 1\n",
      "\n",
      "_C7: Allocation_Job7__Bull_ + Allocation_Job7__Dragline_ <= 1\n",
      "\n",
      "_C8: Allocation_Job8__Dragline_ <= 1\n",
      "\n",
      "_C9: Allocation_Job9__Dragline_ <= 1\n",
      "\n",
      "_C10: Allocation_Job10__Dragline_ <= 1\n",
      "\n",
      "_C11: isFirst_Bull__Job1_ + isFirst_Bull__Job2_ + isFirst_Bull__Job3_\n",
      " + isFirst_Bull__Job7_ <= 1\n",
      "\n",
      "_C12: isFirst_Dragline__Job10_ + isFirst_Dragline__Job3_\n",
      " + isFirst_Dragline__Job4_ + isFirst_Dragline__Job5_ + isFirst_Dragline__Job6_\n",
      " + isFirst_Dragline__Job7_ + isFirst_Dragline__Job8_ + isFirst_Dragline__Job9_\n",
      " <= 1\n",
      "\n",
      "VARIABLES\n",
      "0 <= Allocation_Job10__Dragline_ <= 1 Integer\n",
      "0 <= Allocation_Job1__Bull_ <= 1 Integer\n",
      "0 <= Allocation_Job2__Bull_ <= 1 Integer\n",
      "0 <= Allocation_Job3__Bull_ <= 1 Integer\n",
      "0 <= Allocation_Job3__Dragline_ <= 1 Integer\n",
      "0 <= Allocation_Job4__Dragline_ <= 1 Integer\n",
      "0 <= Allocation_Job5__Dragline_ <= 1 Integer\n",
      "0 <= Allocation_Job6__Dragline_ <= 1 Integer\n",
      "0 <= Allocation_Job7__Bull_ <= 1 Integer\n",
      "0 <= Allocation_Job7__Dragline_ <= 1 Integer\n",
      "0 <= Allocation_Job8__Dragline_ <= 1 Integer\n",
      "0 <= Allocation_Job9__Dragline_ <= 1 Integer\n",
      "0 <= IsOver_Job10_ <= 1 Integer\n",
      "0 <= IsOver_Job1_ <= 1 Integer\n",
      "0 <= IsOver_Job2_ <= 1 Integer\n",
      "0 <= IsOver_Job3_ <= 1 Integer\n",
      "0 <= IsOver_Job4_ <= 1 Integer\n",
      "0 <= IsOver_Job5_ <= 1 Integer\n",
      "0 <= IsOver_Job6_ <= 1 Integer\n",
      "0 <= IsOver_Job7_ <= 1 Integer\n",
      "0 <= IsOver_Job8_ <= 1 Integer\n",
      "0 <= IsOver_Job9_ <= 1 Integer\n",
      "0 <= isFirst_Bull__Job1_ <= 1 Integer\n",
      "0 <= isFirst_Bull__Job2_ <= 1 Integer\n",
      "0 <= isFirst_Bull__Job3_ <= 1 Integer\n",
      "0 <= isFirst_Bull__Job7_ <= 1 Integer\n",
      "0 <= isFirst_Dragline__Job10_ <= 1 Integer\n",
      "0 <= isFirst_Dragline__Job3_ <= 1 Integer\n",
      "0 <= isFirst_Dragline__Job4_ <= 1 Integer\n",
      "0 <= isFirst_Dragline__Job5_ <= 1 Integer\n",
      "0 <= isFirst_Dragline__Job6_ <= 1 Integer\n",
      "0 <= isFirst_Dragline__Job7_ <= 1 Integer\n",
      "0 <= isFirst_Dragline__Job8_ <= 1 Integer\n",
      "0 <= isFirst_Dragline__Job9_ <= 1 Integer\n",
      "\n"
     ]
    }
   ],
   "source": [
    "print(prob)"
   ]
  },
  {
   "cell_type": "code",
   "execution_count": 38,
   "metadata": {},
   "outputs": [
    {
     "ename": "SyntaxError",
     "evalue": "unexpected EOF while parsing (<ipython-input-38-6b7bfc499a0f>, line 7)",
     "output_type": "error",
     "traceback": [
      "\u001b[0;36m  File \u001b[0;32m\"<ipython-input-38-6b7bfc499a0f>\"\u001b[0;36m, line \u001b[0;32m7\u001b[0m\n\u001b[0;31m    \u001b[0m\n\u001b[0m    ^\u001b[0m\n\u001b[0;31mSyntaxError\u001b[0m\u001b[0;31m:\u001b[0m unexpected EOF while parsing\n"
     ]
    }
   ],
   "source": [
    "#Constraint stating the \"start\" variable\n",
    "#Start[j’] >= Start[j] + duration[j][m] + switchingTime[m][j][j’]  - BigM * (1 - isSuccessor[m][j][j’])\n",
    "#Start[j'] - Start[j] - BigM * isSuccessor[m][j][j'] >= duration[j][m] + switchingTime[m][j][j’] - BigM\n",
    "\n",
    "for iMachine,vMachine in enumerate(switchingDF['Machine']):\n",
    "    #XXX\n",
    "    \n"
   ]
  },
  {
   "cell_type": "code",
   "execution_count": 16,
   "metadata": {},
   "outputs": [],
   "source": [
    "#Constraint stating the \"isOver\" variable\n",
    "#start[j] + Sum[m in isPossible[j] ] duration[j][m] * allocation[j][m] <= durationHorizon + BigM * (1 - isOver[j])\n",
    "#start[j] + Sum[m in isPossible[j] ] duration[j][m] * allocation[j][m] + BigM * isOver[j] <= durationHorizon + BigM\n",
    "\n",
    "for vJob in jobDF['Id']:\n",
    "    #XXX\n"
   ]
  },
  {
   "cell_type": "code",
   "execution_count": 17,
   "metadata": {},
   "outputs": [],
   "source": [
    "#Constraint stating that to be allocated, a job shall either be the first, or be the successor of another job\n",
    "# allocationVar[vJob][vMachine] <= isFirst[vJob][vMachine] + sum[otherJobs oJob] isSuccessor[vMachine][oJob][vJob]\n",
    "\n",
    "\n",
    "for iJob,vJob in enumerate(jobMachineDF['Job']):\n",
    "    #XXX\n"
   ]
  },
  {
   "cell_type": "code",
   "execution_count": 18,
   "metadata": {},
   "outputs": [],
   "source": [
    "#Constraint stating that if isOver = 1, then at least one allocation = 1\n",
    "for vJob in jobDF['Id']:\n",
    "    #XXX"
   ]
  },
  {
   "cell_type": "code",
   "execution_count": 19,
   "metadata": {},
   "outputs": [],
   "source": [
    "#Max one successor per job\n",
    "for iJob,vJob in enumerate(jobMachineDF['Job']):\n",
    "    #XXX\n"
   ]
  },
  {
   "cell_type": "markdown",
   "metadata": {},
   "source": [
    "### Solve and display results"
   ]
  },
  {
   "cell_type": "code",
   "execution_count": 20,
   "metadata": {},
   "outputs": [
    {
     "name": "stdout",
     "output_type": "stream",
     "text": [
      "Status: Optimal\n",
      "Objective =  2900.0\n",
      "Allocation_Job11__Bull_ = 1.0\n",
      "Allocation_Job12__Bull_ = 1.0\n",
      "Allocation_Job13__SmallDragline_ = 1.0\n",
      "Allocation_Job14__BigDragline_ = 1.0\n",
      "Allocation_Job15__BigDragline_ = 1.0\n",
      "Allocation_Job16__BigDragline_ = 1.0\n",
      "Allocation_Job17__BigDragline_ = 1.0\n",
      "Allocation_Job18__SmallDragline_ = 1.0\n",
      "IsOver_Job11_ = 1.0\n",
      "IsOver_Job12_ = 1.0\n",
      "IsOver_Job13_ = 1.0\n",
      "IsOver_Job14_ = 1.0\n",
      "IsOver_Job15_ = 1.0\n",
      "IsOver_Job16_ = 1.0\n",
      "IsOver_Job17_ = 1.0\n",
      "Start_Job11_ = 23.904762\n",
      "Start_Job12_ = 22.0\n",
      "Start_Job13_ = 6.6153846\n",
      "Start_Job14_ = 28.933333\n",
      "Start_Job15_ = 34.0\n",
      "Start_Job16_ = 27.454545\n",
      "Start_Job17_ = 12.133333\n",
      "Start_Job18_ = 50.0\n",
      "Start_Job19_ = 50.0\n"
     ]
    }
   ],
   "source": [
    "prob.writeLP(\"mineSchedulingProblem.lp\", writeSOS=1, mip=1)\n",
    "prob.solve()\n",
    "print(\"Status:\", LpStatus[prob.status])\n",
    "print (\"Objective = \", value(prob.objective))\n",
    "varsDict = {}\n",
    "for v in prob.variables():\n",
    "    varsDict[v.name] = v.varValue\n",
    "    if \"IsOver\" in v.name or \"Start\" in v.name or \"Allocation\" in v.name:\n",
    "        if v.varValue != 0.0 : print(v.name, \"=\", v.varValue)\n",
    "        "
   ]
  }
 ],
 "metadata": {
  "kernelspec": {
   "display_name": "Python 3",
   "language": "python",
   "name": "python3"
  },
  "language_info": {
   "codemirror_mode": {
    "name": "ipython",
    "version": 3
   },
   "file_extension": ".py",
   "mimetype": "text/x-python",
   "name": "python",
   "nbconvert_exporter": "python",
   "pygments_lexer": "ipython3",
   "version": "3.8.8"
  }
 },
 "nbformat": 4,
 "nbformat_minor": 4
}
