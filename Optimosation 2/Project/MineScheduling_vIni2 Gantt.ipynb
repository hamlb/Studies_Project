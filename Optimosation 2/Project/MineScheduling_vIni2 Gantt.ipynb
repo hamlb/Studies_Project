{
 "cells": [
  {
   "cell_type": "markdown",
   "metadata": {
    "id": "UumCOKtk0FKJ"
   },
   "source": [
    "### Read the data from the input Excel file"
   ]
  },
  {
   "cell_type": "code",
   "execution_count": 8,
   "metadata": {
    "id": "f7L2yxKM0FKP"
   },
   "outputs": [],
   "source": [
    "import pandas as pd\n",
    "inputFileName = \"MineScheduling_smallDataSet.xlsx\"\n",
    "paramDF = pd.read_excel(inputFileName, \"Param\", skiprows=0)\n",
    "jobDF = pd.read_excel(inputFileName, \"Job\", skiprows=0)\n",
    "jobMachineDF = pd.read_excel(inputFileName, \"JobMachine\", skiprows=0)\n",
    "switchingDF = pd.read_excel(inputFileName, \"Switching\", skiprows=0)"
   ]
  },
  {
   "cell_type": "markdown",
   "metadata": {
    "id": "PYbT-A2H0FKR"
   },
   "source": [
    "### Set the data into dict + compute maxDuration"
   ]
  },
  {
   "cell_type": "code",
   "execution_count": 9,
   "metadata": {
    "id": "k7b6fkN60FKS",
    "tags": []
   },
   "outputs": [],
   "source": [
    "horizonDuration = paramDF['Duration (day)'][0]\n",
    "\n",
    "duration = dict()  #duration[vJob][vMachine]\n",
    "maxDuration = 0.0\n",
    "for iJob,vJob in enumerate(jobMachineDF['Job']):\n",
    "    vMachine = jobMachineDF['Machine'][iJob]\n",
    "    if not vJob in duration : duration[vJob] = dict() \n",
    "    duration[vJob][vMachine] = jobMachineDF['Duration'][iJob]\n",
    "    if duration[vJob][vMachine] > maxDuration : maxDuration = duration[vJob][vMachine]\n"
   ]
  },
  {
   "cell_type": "markdown",
   "metadata": {
    "id": "YVkYP6sQ0FKT"
   },
   "source": [
    "### Create your linear program"
   ]
  },
  {
   "cell_type": "code",
   "execution_count": 10,
   "metadata": {
    "id": "y53qLNTh0FKU"
   },
   "outputs": [],
   "source": [
    "from pulp import *\n",
    "prob = LpProblem(\"MineSchedulingProblem\", LpMaximize)"
   ]
  },
  {
   "cell_type": "markdown",
   "metadata": {
    "id": "YhWeREMI0FKV"
   },
   "source": [
    "### Add variables"
   ]
  },
  {
   "cell_type": "code",
   "execution_count": 11,
   "metadata": {
    "colab": {
     "base_uri": "https://localhost:8080/"
    },
    "id": "pPdwUNKk0FKW",
    "outputId": "c339fd1a-96a1-4a0f-f36b-27ba359a78f6"
   },
   "outputs": [],
   "source": [
    "#allocationVar[vJob][vMachine] & isFirst[vJob][vMachine]\n",
    "allocationVar = dict()\n",
    "isFirstVar = dict()  #Jobs that each machine can do\n",
    "for iJob,vJob in enumerate(jobMachineDF['Job']):\n",
    "    vMachine = jobMachineDF['Machine'][iJob]\n",
    "    if not vJob in allocationVar : allocationVar[vJob] = dict() \n",
    "    if not vJob in isFirstVar : isFirstVar[vJob] = dict() \n",
    "    allocationVar[vJob][vMachine] = LpVariable(\"Allocation[%s][%s]\"%(vJob,vMachine), cat='Binary')\n",
    "    isFirstVar[vJob][vMachine] = LpVariable(\"isFirst[%s][%s]\"%(vMachine, vJob), cat='Binary') \n",
    "\n",
    "#startVar[vJob] and isOver[vJob]\n",
    "startVar = dict()\n",
    "isOverVar = dict() # \n",
    "for vJob in jobDF['Id'] :\n",
    "    startVar[vJob] = LpVariable(\"Start[%s]\"%(vJob), lowBound=0, upBound=horizonDuration, cat='Continuous')\n",
    "    isOverVar[vJob] = LpVariable(\"IsOver[%s]\"%(vJob), lowBound=0, cat='Binary')\n",
    "\n",
    "    \n",
    "#isSuccessor[vMachine][vJob1-vJob2] = 1 if vJob2 is the direct successor of vJob1\n",
    "isSuccessorVar = dict()  # successor job after the previous job is done regarding a machine \n",
    "for iMachine,vMachine in enumerate(switchingDF['Machine']):\n",
    "    vJob1 = switchingDF['Job1'][iMachine]\n",
    "    vJob2 = switchingDF['Job2'][iMachine]\n",
    "    if not vMachine in isSuccessorVar : isSuccessorVar[vMachine] = dict()\n",
    "    if not vJob1 in isSuccessorVar[vMachine] : isSuccessorVar[vMachine][vJob1] = dict() \n",
    "    if not vJob2 in isSuccessorVar[vMachine] : isSuccessorVar[vMachine][vJob2] = dict() \n",
    "    isSuccessorVar[vMachine][vJob1][vJob2] = LpVariable(\"IsSuccessor[%s][%s][%s]\"%(vMachine, vJob1, vJob2), cat='Binary')\n",
    "    isSuccessorVar[vMachine][vJob2][vJob1] = LpVariable(\"IsSuccessor[%s][%s][%s]\"%(vMachine, vJob2, vJob1), cat='Binary')  \n"
   ]
  },
  {
   "cell_type": "markdown",
   "metadata": {
    "id": "ZSQAFYpV0FKX"
   },
   "source": [
    "### Add objective"
   ]
  },
  {
   "cell_type": "code",
   "execution_count": 12,
   "metadata": {
    "id": "X0KlAbVn0FKY"
   },
   "outputs": [],
   "source": [
    "Production=jobDF.set_index('Id').to_dict()['Production']  # Job & Production\n",
    "\n",
    "\n",
    "obj = LpAffineExpression()\n",
    "obj += lpSum([isOverVar[j] * Production[j] for j in jobDF['Id']])\n",
    "prob += obj\n"
   ]
  },
  {
   "cell_type": "markdown",
   "metadata": {
    "id": "8JQLn-mR0FKY"
   },
   "source": [
    "### Add constraints"
   ]
  },
  {
   "cell_type": "code",
   "execution_count": 13,
   "metadata": {
    "id": "r9_J704w0FKZ"
   },
   "outputs": [],
   "source": [
    "#1 Max one allocation per job\n",
    "#Define a dictionary : key = Job, value = Associated machines\n",
    "for vJob in jobDF['Id']:\n",
    "    prob += lpSum([allocationVar[vJob][vMachine] for vMachine in allocationVar[vJob].keys()])<=1\n"
   ]
  },
  {
   "cell_type": "code",
   "execution_count": 14,
   "metadata": {
    "id": "JVez0Q9x0FKZ"
   },
   "outputs": [],
   "source": [
    "#2 Max one \"isFirst\" job per\n",
    "for vMachine in paramDF['Machine']:\n",
    "        vJobs=jobMachineDF.loc[jobMachineDF['Machine'] == vMachine , 'Job']\n",
    "        prob += lpSum([isFirstVar[vJob][vMachine] for vJob in vJobs])<=1, \"IsFirstOnMachine[%s]\"%(vMachine)"
   ]
  },
  {
   "cell_type": "code",
   "execution_count": 15,
   "metadata": {
    "id": "5DJCB0-A0FKZ"
   },
   "outputs": [],
   "source": [
    "#3 Constraint stating the \"start\" variable\n",
    "#Start[j’] >= Start[j] + duration[j][m] + switchingTime[m][j][j’]  - BigM * (1 - isSuccessor[m][j][j’])\n",
    "#Start[j'] - Start[j] - BigM * isSuccessor[m][j][j'] >= duration[j][m] + switchingTime[m][j][j’] - BigM\n",
    "BigM=100000\n",
    "for iMachine,vMachine in enumerate(switchingDF['Machine']):\n",
    "    Job1=str(switchingDF['Job1'][iMachine])\n",
    "    Job2=str(switchingDF['Job2'][iMachine])\n",
    "    duration = float(jobMachineDF.loc[(jobMachineDF['Machine']==vMachine)&(jobMachineDF['Job']==Job1),'Duration'])\n",
    "    duration2 = float(jobMachineDF.loc[(jobMachineDF['Machine']==vMachine)&(jobMachineDF['Job']==Job2),'Duration'])\n",
    "    SwitchingTime = float(switchingDF['SwitchingTime (day)'][iMachine])\n",
    "    #print(Job1)\n",
    "    #print(Job2)\n",
    "    #print(duration)\n",
    "    #print(SwitchingTime)\n",
    "    prob+=startVar[Job2]>=startVar[Job1] + duration + SwitchingTime-BigM*(1-isSuccessorVar[vMachine][Job1][Job2])\n",
    "    prob+=startVar[Job1]>=startVar[Job2] + duration2 + SwitchingTime-BigM*(1-isSuccessorVar[vMachine][Job2][Job1])\n",
    "    "
   ]
  },
  {
   "cell_type": "code",
   "execution_count": 16,
   "metadata": {
    "id": "8YB56z1E0FKa"
   },
   "outputs": [],
   "source": [
    "#4Constraint stating the \"isOver\" variable\n",
    "#start[j] + Sum[m in isPossible[j] ] duration[j][m] * allocation[j][m] <= durationHorizon + BigM * (1 - isOver[j])\n",
    "#start[j] + Sum[m in isPossible[j] ] duration[j][m] * allocation[j][m] + BigM * isOver[j] <= durationHorizon + BigM\n",
    "\n",
    "for vJob in jobDF['Id']:\n",
    "    duration = jobMachineDF[jobMachineDF['Job']==vJob]\n",
    "    durationdict=dict(zip(duration.Machine, duration.Duration))\n",
    "    prob+=startVar[vJob]+lpSum([durationdict[vMachine]*allocationVar[vJob][vMachine] for vMachine in durationdict.keys()])<=horizonDuration+BigM*(1-isOverVar[vJob])\n",
    "    "
   ]
  },
  {
   "cell_type": "code",
   "execution_count": 17,
   "metadata": {
    "id": "JCGLS_GZxkr5"
   },
   "outputs": [],
   "source": [
    "#5Define a dictionary : key = Job, value = Associated machines\n",
    "MachineJob_dict = dict(jobMachineDF.groupby('Job')['Machine'].apply(list))"
   ]
  },
  {
   "cell_type": "code",
   "execution_count": 18,
   "metadata": {
    "id": "em2wrvgn0FKa"
   },
   "outputs": [],
   "source": [
    "#6Constraint stating that if isOver = 1, then at least one allocation = 1\n",
    "for vJob in jobDF['Id']:\n",
    "    prob+=  isOverVar[vJob] <= lpSum(allocationVar[vJob][vMachine] for vMachine in MachineJob_dict[vJob] )\n",
    "    "
   ]
  },
  {
   "cell_type": "code",
   "execution_count": 19,
   "metadata": {},
   "outputs": [],
   "source": [
    "#7if a Job happens, it is either a successor or a first to be done :\n",
    "for iJob,vJob in enumerate(jobMachineDF['Job']):\n",
    "    vMachine = jobMachineDF['Machine'][iJob]\n",
    "    if vMachine in isSuccessorVar:\n",
    "        prob += allocationVar[vJob][vMachine] <= isFirstVar[vJob][vMachine] + lpSum(isSuccessorVar[vMachine][vJob2][vJob] for vJob2 in isSuccessorVar[vMachine][vJob])\n",
    "        "
   ]
  },
  {
   "cell_type": "code",
   "execution_count": 20,
   "metadata": {
    "id": "rSXEwOcq0FKb"
   },
   "outputs": [],
   "source": [
    "#8Max one successor per job\n",
    "for iJob,vJob in enumerate(jobMachineDF['Job']):\n",
    "    vMachine = jobMachineDF['Machine'][iJob]\n",
    "    if vMachine in isSuccessorVar:\n",
    "        prob += lpSum(isSuccessorVar[vMachine][vJob][OtherJob] for OtherJob in isSuccessorVar[vMachine][vJob]) <= 1\n",
    "        prob += lpSum(isSuccessorVar[vMachine][OtherJob][vJob] for OtherJob in isSuccessorVar[vMachine][vJob]) <= 1\n"
   ]
  },
  {
   "cell_type": "code",
   "execution_count": 22,
   "metadata": {
    "id": "Q1Sd4XzMx48r"
   },
   "outputs": [],
   "source": [
    "\n",
    "machine = paramDF[['Machine']]\n",
    "machine_names = machine.Machine.unique()\n",
    "Jobmachine_dict=dict(jobMachineDF.groupby('Machine')['Job'].apply(list))   "
   ]
  },
  {
   "cell_type": "code",
   "execution_count": 23,
   "metadata": {
    "id": "W7k8YxWNyCwU"
   },
   "outputs": [],
   "source": [
    "#9Constraint stating that IsSuccessor[m][j1][j2] = 1 --> allocation[j1][m] = 1\n",
    "\n",
    "for i in range(len(switchingDF['Machine'])):\n",
    "    vMachine=switchingDF['Machine'][i]\n",
    "    Job1=switchingDF['Job1'][i]\n",
    "    Job2=switchingDF['Job2'][i]\n",
    "    prob += isSuccessorVar[vMachine][Job1][Job2] <= allocationVar[Job1][vMachine]\n"
   ]
  },
  {
   "cell_type": "code",
   "execution_count": 24,
   "metadata": {
    "id": "aTwLh9UvyCpF"
   },
   "outputs": [],
   "source": [
    "#10Constraint stating that if start > 0, then then at least one allocation = 1\n",
    "for vJob in jobDF['Id'] :\n",
    "    prob += startVar[vJob] <= horizonDuration * lpSum(allocationVar[vJob][vMachine] for vMachine in MachineJob_dict[vJob] )\n",
    "    \n",
    "    "
   ]
  },
  {
   "cell_type": "code",
   "execution_count": 25,
   "metadata": {
    "id": "1GtInM4Gx45-"
   },
   "outputs": [],
   "source": [
    "#11If Sum allocation = 1, then start >= 1.0\n",
    "for vJob in jobDF['Id']:\n",
    "    prob +=  lpSum(allocationVar[vJob][vMachine] for vMachine in MachineJob_dict[vJob]) <= startVar[vJob]\n",
    "    "
   ]
  },
  {
   "cell_type": "code",
   "execution_count": 26,
   "metadata": {
    "id": "_npyt_mvx43P"
   },
   "outputs": [],
   "source": [
    "##12Constraint imposing predecessors : isOver[j] = 1  isOver[vPred] = 1  \n",
    "jPred_dict=dict(zip(jobDF['Id'], jobDF['PredecessorId'])) \n",
    "for j in jobDF['Id']:\n",
    "    if jPred_dict[j] in jobDF['Id']:\n",
    "        prob +=  isOverVar[j] <= isOverVar[jPred_dict[j]]\n"
   ]
  },
  {
   "cell_type": "code",
   "execution_count": 27,
   "metadata": {
    "id": "d1iisqt7x4zA"
   },
   "outputs": [],
   "source": [
    "#13Constraint imposing predecessors :   j shall start only once vPred has finished\n",
    "\n",
    "horizonDuration = paramDF['Duration (day)'][0]\n",
    "\n",
    "duration = dict()  #duration[vJob][vMachine]\n",
    "maxDuration = 0.0\n",
    "for iJob,vJob in enumerate(jobMachineDF['Job']):\n",
    "    vMachine = jobMachineDF['Machine'][iJob]\n",
    "    if not vJob in duration : duration[vJob] = dict() \n",
    "    duration[vJob][vMachine] = jobMachineDF['Duration'][iJob]\n",
    "    if duration[vJob][vMachine] > maxDuration : maxDuration = duration[vJob][vMachine]\n",
    "\n",
    "for j in jobDF['Id']:\n",
    "    jPred=jPred_dict[j]\n",
    "    if jPred not in jobDF['Id']:\n",
    "        continue\n",
    "    prob += StartVar[jPred] + lpSum([duration[jPred][m] * allocationVar[jPred][m] for m in MachineJ_dict[jPred]])<= StartVar[j]+BigM*(1-lpSum([allocationVar[j][m] for m in MachineJ_dict[jPred]])),\"Predecessor_Start[%s]_[%s]\"%(j,jPred)\n",
    "    \n",
    "    "
   ]
  },
  {
   "cell_type": "markdown",
   "metadata": {
    "id": "9K5dNm560FKb"
   },
   "source": [
    "### Solve and display results"
   ]
  },
  {
   "cell_type": "code",
   "execution_count": 28,
   "metadata": {
    "colab": {
     "base_uri": "https://localhost:8080/"
    },
    "id": "AOeVBBry0FKb",
    "outputId": "733a1af8-8320-4367-debd-df4da5b916de"
   },
   "outputs": [
    {
     "name": "stdout",
     "output_type": "stream",
     "text": [
      "Status: Optimal\n",
      "Objective =  436.0\n",
      "Allocation_Job10__BigDragline_ = 1.0\n",
      "Allocation_Job11__Bull_ = 1.0\n",
      "Allocation_Job13__Bull_ = 1.0\n",
      "Allocation_Job18__BigDragline_ = 1.0\n",
      "Allocation_Job1__Bull_ = 1.0\n",
      "Allocation_Job3__SmallDragline_ = 1.0\n",
      "Allocation_Job4__BigDragline_ = 1.0\n",
      "Allocation_Job5__BigDragline_ = 1.0\n",
      "Allocation_Job6__BigDragline_ = 1.0\n",
      "Allocation_Job7__SmallDragline_ = 1.0\n",
      "Allocation_Job8__BigDragline_ = 1.0\n",
      "Allocation_Job9__BigDragline_ = 1.0\n",
      "IsOver_Job10_ = 1.0\n",
      "IsOver_Job11_ = 1.0\n",
      "IsOver_Job18_ = 1.0\n",
      "IsOver_Job1_ = 1.0\n",
      "IsOver_Job3_ = 1.0\n",
      "IsOver_Job7_ = 1.0\n",
      "IsOver_Job8_ = 1.0\n",
      "IsOver_Job9_ = 1.0\n",
      "IsSuccessor_BigDragline__Job14__Job10_ = 1.0\n",
      "IsSuccessor_BigDragline__Job15__Job9_ = 1.0\n",
      "IsSuccessor_BigDragline__Job16__Job8_ = 1.0\n",
      "IsSuccessor_BigDragline__Job17__Job5_ = 1.0\n",
      "IsSuccessor_BigDragline__Job18__Job6_ = 1.0\n",
      "IsSuccessor_BigDragline__Job19__Job4_ = 1.0\n",
      "IsSuccessor_Bull__Job11__Job1_ = 1.0\n",
      "IsSuccessor_Bull__Job1__Job13_ = 1.0\n",
      "IsSuccessor_SmallDragline__Job15__Job7_ = 1.0\n",
      "IsSuccessor_SmallDragline__Job3__Job13_ = 1.0\n",
      "Start_Job10_ = 26.0\n",
      "Start_Job11_ = 1.0\n",
      "Start_Job13_ = 50.0\n",
      "Start_Job18_ = 1.0\n",
      "Start_Job1_ = 31.095238\n",
      "Start_Job3_ = 1.0\n",
      "Start_Job4_ = 50.0\n",
      "Start_Job5_ = 50.0\n",
      "Start_Job6_ = 50.0\n",
      "Start_Job7_ = 21.0\n",
      "Start_Job8_ = 25.714286\n",
      "Start_Job9_ = 21.333333\n"
     ]
    }
   ],
   "source": [
    "prob.writeLP(\"MineSchedulingProblem\", writeSOS=1, mip=1)\n",
    "prob.solve()\n",
    "print(\"Status:\", LpStatus[prob.status])\n",
    "print (\"Objective = \", value(prob.objective))\n",
    "varsDict = {}\n",
    "for v in prob.variables():\n",
    "    varsDict[v.name] = v.varValue\n",
    "    if \"IsOver\" in v.name or \"Start\" in v.name or \"Allocation\" in v.name or \"IsSuccessor\" in v.name:\n",
    "        if v.varValue != 0.0 : print(v.name, \"=\", v.varValue)"
   ]
  },
  {
   "cell_type": "code",
   "execution_count": 29,
   "metadata": {
    "colab": {
     "base_uri": "https://localhost:8080/"
    },
    "id": "UZPQOUBNINj_",
    "outputId": "8c084884-a889-4500-eb14-e6b927316cb9"
   },
   "outputs": [
    {
     "name": "stdout",
     "output_type": "stream",
     "text": [
      "Requirement already satisfied: python-gantt in /Users/mizo/opt/anaconda3/lib/python3.8/site-packages (0.6.0)\n",
      "Requirement already satisfied: clize>=2.0 in /Users/mizo/opt/anaconda3/lib/python3.8/site-packages (from python-gantt) (4.2.1)\n",
      "Requirement already satisfied: python-dateutil>=2.4 in /Users/mizo/opt/anaconda3/lib/python3.8/site-packages (from python-gantt) (2.8.1)\n",
      "Requirement already satisfied: svgwrite>=1.1.6 in /Users/mizo/opt/anaconda3/lib/python3.8/site-packages (from python-gantt) (1.4.1)\n",
      "Requirement already satisfied: docutils~=0.17.0 in /Users/mizo/opt/anaconda3/lib/python3.8/site-packages (from clize>=2.0->python-gantt) (0.17)\n",
      "Requirement already satisfied: six in /Users/mizo/opt/anaconda3/lib/python3.8/site-packages (from clize>=2.0->python-gantt) (1.15.0)\n",
      "Requirement already satisfied: od in /Users/mizo/opt/anaconda3/lib/python3.8/site-packages (from clize>=2.0->python-gantt) (2.0.1)\n",
      "Requirement already satisfied: sigtools>=2.0 in /Users/mizo/opt/anaconda3/lib/python3.8/site-packages (from clize>=2.0->python-gantt) (2.0.3)\n",
      "Requirement already satisfied: attrs<22,>=19.1.0 in /Users/mizo/opt/anaconda3/lib/python3.8/site-packages (from clize>=2.0->python-gantt) (20.3.0)\n"
     ]
    }
   ],
   "source": [
    "!pip install python-gantt"
   ]
  },
  {
   "cell_type": "code",
   "execution_count": 30,
   "metadata": {
    "colab": {
     "base_uri": "https://localhost:8080/"
    },
    "id": "reLMlmF8IUC_",
    "outputId": "b1858534-8e4f-49c6-8062-ff03476aed20"
   },
   "outputs": [
    {
     "name": "stdout",
     "output_type": "stream",
     "text": [
      "Requirement already satisfied: datetime in /Users/mizo/opt/anaconda3/lib/python3.8/site-packages (4.3)\n",
      "Requirement already satisfied: zope.interface in /Users/mizo/opt/anaconda3/lib/python3.8/site-packages (from datetime) (5.3.0)\n",
      "Requirement already satisfied: pytz in /Users/mizo/opt/anaconda3/lib/python3.8/site-packages (from datetime) (2021.1)\n",
      "Requirement already satisfied: setuptools in /Users/mizo/opt/anaconda3/lib/python3.8/site-packages (from zope.interface->datetime) (52.0.0.post20210125)\n"
     ]
    }
   ],
   "source": [
    "!pip install datetime"
   ]
  },
  {
   "cell_type": "code",
   "execution_count": 31,
   "metadata": {
    "colab": {
     "base_uri": "https://localhost:8080/",
     "height": 127
    },
    "id": "0itsPGpaKNI2",
    "outputId": "3d6fb746-c5d6-4fe4-fbc3-c483abf569b1"
   },
   "outputs": [
    {
     "data": {
      "text/plain": [
       "{'Job1': {'Bull': 17.2},\n",
       " 'Job2': {'Bull': 28.266666666666666},\n",
       " 'Job3': {'Bull': 54.0, 'SmallDragline': 45.0},\n",
       " 'Job4': {'SmallDragline': 46.90909090909091,\n",
       "  'BigDragline': 36.857142857142854},\n",
       " 'Job5': {'SmallDragline': 28.8, 'BigDragline': 24.0},\n",
       " 'Job6': {'BigDragline': 54.0},\n",
       " 'Job7': {'Bull': 34.8, 'SmallDragline': 29.0},\n",
       " 'Job8': {'SmallDragline': 30.90909090909091,\n",
       "  'BigDragline': 24.285714285714285},\n",
       " 'Job9': {'SmallDragline': 34.4, 'BigDragline': 28.666666666666668},\n",
       " 'Job10': {'BigDragline': 24.0},\n",
       " 'Job11': {'Bull': 26.095238095238095},\n",
       " 'Job12': {'Bull': 28.0},\n",
       " 'Job13': {'Bull': 51.27272727272727, 'SmallDragline': 43.38461538461539},\n",
       " 'Job14': {'SmallDragline': 26.333333333333332,\n",
       "  'BigDragline': 21.066666666666666},\n",
       " 'Job15': {'SmallDragline': 18.90909090909091, 'BigDragline': 16.0},\n",
       " 'Job16': {'BigDragline': 22.545454545454547},\n",
       " 'Job17': {'SmallDragline': 47.333333333333336,\n",
       "  'BigDragline': 37.86666666666667},\n",
       " 'Job18': {'SmallDragline': 49.09090909090909,\n",
       "  'BigDragline': 41.53846153846154},\n",
       " 'Job19': {'BigDragline': 46.90909090909091}}"
      ]
     },
     "execution_count": 31,
     "metadata": {},
     "output_type": "execute_result"
    }
   ],
   "source": [
    "duration"
   ]
  },
  {
   "cell_type": "code",
   "execution_count": 32,
   "metadata": {
    "colab": {
     "base_uri": "https://localhost:8080/"
    },
    "id": "x5BSEjFbL1E7",
    "outputId": "b71bc1bc-ecc4-4fec-e766-e70d367493ee"
   },
   "outputs": [
    {
     "name": "stdout",
     "output_type": "stream",
     "text": [
      "0.0\n"
     ]
    }
   ],
   "source": [
    "print(isFirstVar[\"Job1\"]['Bull'].varValue)"
   ]
  },
  {
   "cell_type": "code",
   "execution_count": 78,
   "metadata": {
    "colab": {
     "base_uri": "https://localhost:8080/",
     "height": 235
    },
    "id": "xVNFeAAXIYJv",
    "outputId": "7b5c3ef6-f3b4-4518-f8a8-a078678078dd"
   },
   "outputs": [
    {
     "name": "stdout",
     "output_type": "stream",
     "text": [
      "Job11\n",
      "26.095238095238095\n"
     ]
    },
    {
     "ename": "AttributeError",
     "evalue": "'str' object has no attribute 'add_task'",
     "output_type": "error",
     "traceback": [
      "\u001b[0;31m---------------------------------------------------------------------------\u001b[0m",
      "\u001b[0;31mAttributeError\u001b[0m                            Traceback (most recent call last)",
      "\u001b[0;32m<ipython-input-78-81857b19c2ff>\u001b[0m in \u001b[0;36m<module>\u001b[0;34m\u001b[0m\n\u001b[1;32m     62\u001b[0m     \u001b[0mprint\u001b[0m\u001b[0;34m(\u001b[0m\u001b[0mFirstJobDuration\u001b[0m\u001b[0;34m)\u001b[0m\u001b[0;34m\u001b[0m\u001b[0;34m\u001b[0m\u001b[0m\n\u001b[1;32m     63\u001b[0m \u001b[0;34m\u001b[0m\u001b[0m\n\u001b[0;32m---> 64\u001b[0;31m     \u001b[0mtask_vars\u001b[0m\u001b[0;34m[\u001b[0m\u001b[0mFirstJob\u001b[0m\u001b[0;34m]\u001b[0m \u001b[0;34m=\u001b[0m \u001b[0mgantt\u001b[0m\u001b[0;34m.\u001b[0m\u001b[0mTask\u001b[0m\u001b[0;34m(\u001b[0m\u001b[0mname\u001b[0m\u001b[0;34m=\u001b[0m\u001b[0mFirstJob\u001b[0m\u001b[0;34m,\u001b[0m\u001b[0mstart\u001b[0m\u001b[0;34m=\u001b[0m\u001b[0mdatetime\u001b[0m\u001b[0;34m.\u001b[0m\u001b[0mdate\u001b[0m\u001b[0;34m(\u001b[0m\u001b[0;36m2021\u001b[0m\u001b[0;34m,\u001b[0m \u001b[0;36m1\u001b[0m\u001b[0;34m,\u001b[0m \u001b[0;36m1\u001b[0m\u001b[0;34m)\u001b[0m \u001b[0;34m+\u001b[0m \u001b[0mdatetime\u001b[0m\u001b[0;34m.\u001b[0m\u001b[0mtimedelta\u001b[0m\u001b[0;34m(\u001b[0m\u001b[0mdays\u001b[0m\u001b[0;34m=\u001b[0m\u001b[0mstartVar\u001b[0m\u001b[0;34m[\u001b[0m\u001b[0mFirstJob\u001b[0m\u001b[0;34m]\u001b[0m\u001b[0;34m.\u001b[0m\u001b[0mvarValue\u001b[0m\u001b[0;34m)\u001b[0m\u001b[0;34m,\u001b[0m\u001b[0mduration\u001b[0m\u001b[0;34m=\u001b[0m\u001b[0mdurationdict\u001b[0m\u001b[0;34m[\u001b[0m\u001b[0mFirstJob\u001b[0m\u001b[0;34m]\u001b[0m\u001b[0;34m[\u001b[0m\u001b[0mvMachine\u001b[0m\u001b[0;34m]\u001b[0m\u001b[0;34m,\u001b[0m\u001b[0mresources\u001b[0m\u001b[0;34m=\u001b[0m\u001b[0;34m[\u001b[0m\u001b[0mvMachine\u001b[0m\u001b[0;34m]\u001b[0m\u001b[0;34m)\u001b[0m\u001b[0;34m\u001b[0m\u001b[0;34m\u001b[0m\u001b[0m\n\u001b[0m\u001b[1;32m     65\u001b[0m \u001b[0;34m\u001b[0m\u001b[0m\n\u001b[1;32m     66\u001b[0m     \u001b[0msuccessorship\u001b[0m\u001b[0;34m(\u001b[0m\u001b[0mFirstJob\u001b[0m\u001b[0;34m)\u001b[0m\u001b[0;34m\u001b[0m\u001b[0;34m\u001b[0m\u001b[0m\n",
      "\u001b[0;32m~/opt/anaconda3/lib/python3.8/site-packages/gantt/gantt.py\u001b[0m in \u001b[0;36m__init__\u001b[0;34m(self, name, start, stop, duration, depends_of, resources, percent_done, color, fullname, display, state)\u001b[0m\n\u001b[1;32m    675\u001b[0m         \u001b[0;32mif\u001b[0m \u001b[0mresources\u001b[0m \u001b[0;32mis\u001b[0m \u001b[0;32mnot\u001b[0m \u001b[0;32mNone\u001b[0m\u001b[0;34m:\u001b[0m\u001b[0;34m\u001b[0m\u001b[0;34m\u001b[0m\u001b[0m\n\u001b[1;32m    676\u001b[0m             \u001b[0;32mfor\u001b[0m \u001b[0mr\u001b[0m \u001b[0;32min\u001b[0m \u001b[0mresources\u001b[0m\u001b[0;34m:\u001b[0m\u001b[0;34m\u001b[0m\u001b[0;34m\u001b[0m\u001b[0m\n\u001b[0;32m--> 677\u001b[0;31m                 \u001b[0mr\u001b[0m\u001b[0;34m.\u001b[0m\u001b[0madd_task\u001b[0m\u001b[0;34m(\u001b[0m\u001b[0mself\u001b[0m\u001b[0;34m)\u001b[0m\u001b[0;34m\u001b[0m\u001b[0;34m\u001b[0m\u001b[0m\n\u001b[0m\u001b[1;32m    678\u001b[0m \u001b[0;34m\u001b[0m\u001b[0m\n\u001b[1;32m    679\u001b[0m         \u001b[0;32mreturn\u001b[0m\u001b[0;34m\u001b[0m\u001b[0;34m\u001b[0m\u001b[0m\n",
      "\u001b[0;31mAttributeError\u001b[0m: 'str' object has no attribute 'add_task'"
     ]
    }
   ],
   "source": [
    "import datetime\n",
    "import gantt\n",
    "duration = dict()  #duration[vJob][vMachine]\n",
    "maxDuration = 0.0\n",
    "for iJob,vJob in enumerate(jobMachineDF['Job']):\n",
    "    vMachine = jobMachineDF['Machine'][iJob]\n",
    "    if not vJob in duration : duration[vJob] = dict() \n",
    "    duration[vJob][vMachine] = jobMachineDF['Duration'][iJob]\n",
    "    if duration[vJob][vMachine] > maxDuration : maxDuration = duration[vJob][vMachine]\n",
    "\n",
    "durationdict=duration\n",
    "\n",
    "# Change font default\n",
    "gantt.define_font_attributes(fill='black',\n",
    "                             stroke='black',\n",
    "                             stroke_width=0,\n",
    "                             font_family=\"Verdana\")\n",
    "\n",
    "\n",
    "# Création des variables ressources\n",
    "my_vars={}\n",
    "for iMac in paramDF['Machine']:\n",
    "    my_vars[iMac]=gantt.Resource(iMac)\n",
    "       \n",
    "# Create a project\n",
    "p = gantt.Project(name='Mining Scheduling Problem')\n",
    "\n",
    "task_vars={}\n",
    "def successorship(FirstJob):\n",
    "    global task_vars\n",
    "    global p\n",
    "    global isSuccessorVar\n",
    "    global vMachine\n",
    "    for oJob in isSuccessorVar[vMachine][FirstJob].keys():\n",
    "        if isSuccessorVar[vMachine][FirstJob][oJob].varValue==1:\n",
    "            #Add Switching :\n",
    "            SwitchingTask=\"Switching Time\"\n",
    "            try:\n",
    "                SwitchingDuration=float(switchingDF.loc[(switchingDF['Job1']==FirstJob) & (switchingDF['Job2']==oJob) & (switchingDF['Machine']==vMachine) , 'SwitchingTime (day)'])\n",
    "            except:\n",
    "                SwitchingDuration=float(switchingDF.loc[(switchingDF['Job1']==oJob) & (switchingDF['Job2']==FirstJob) & (switchingDF['Machine']==vMachine) , 'SwitchingTime (day)'])\n",
    "            ### herenswitching\n",
    "            print(SwitchingDuration)\n",
    "            print(vMachine,FirstJob,oJob)\n",
    "            #Add to the Task :\n",
    "            Task=oJob\n",
    "            duration=jobMachineDF.loc[(jobMachineDF['Job']==oJob) & (jobMachineDF['Machine']==vMachine),'Duration']\n",
    "            ###add here next task\n",
    "            return successorship(Task)\n",
    "    \n",
    "for vMachine in paramDF['Machine']:\n",
    "    JobsD=jobMachineDF[jobMachineDF['Machine']==vMachine]['Job']\n",
    "    FirstJob=\"\"\n",
    "    for vJob in JobsD :\n",
    "        if isFirstVar[vJob][vMachine].varValue==1 :\n",
    "            FirstJob=vJob\n",
    "\n",
    "    print(FirstJob)\n",
    "    \n",
    "    FirstJobDuration=float(jobMachineDF.loc[(jobMachineDF['Job']==FirstJob) & (jobMachineDF['Machine']==vMachine) , 'Duration'])\n",
    "    \n",
    "    print(FirstJobDuration)\n",
    "    \n",
    "    task_vars[FirstJob] = gantt.Task(name=FirstJob,start=datetime.date(2021, 1, 1) + datetime.timedelta(days=startVar[FirstJob].varValue),duration=durationdict[FirstJob][vMachine],resources=[vMachine])\n",
    "    \n",
    "    successorship(FirstJob)\n",
    "    continue\n",
    "    ##Code to add the task to gantt\n",
    "    \n",
    "    \n",
    "#for n in allocationVar.keys():\n",
    "#    if allocationVar[n]!= 0: \n",
    "#        print(n[0],n[1],startVar[n[0]], jobMachineDF[n[0],n[1]])\n",
    "#\n",
    "#        task_vars[n[0]] = gantt.Task(name=n[0],\n",
    "#                start=datetime.date(2021, 1, 1) + datetime.timedelta(days=startVar[n[0]].varValue),     \n",
    "#                duration=durationdict[n[0],n[1]],\n",
    "#                resources=[my_vars[n[1]]])\n",
    "        \n",
    "#        p.add_task(task_vars[n[0]])\n",
    "\n",
    "############################$ MAKE DRAW ###############\n",
    "#p.make_svg_for_tasks(filename='MSGantt.svg',\n",
    "#                      today=datetime.date(2021, 1, 1))\n",
    "\n",
    "##########################$ /MAKE DRAW ###############"
   ]
  },
  {
   "cell_type": "code",
   "execution_count": 71,
   "metadata": {},
   "outputs": [
    {
     "data": {
      "text/plain": [
       "Series([], Name: SwitchingTime (day), dtype: int64)"
      ]
     },
     "execution_count": 71,
     "metadata": {},
     "output_type": "execute_result"
    }
   ],
   "source": [
    "switchingDF.loc[(switchingDF['Job1']=='Job11') & (switchingDF['Job2']=='Job1') & (switchingDF['Machine']=='Bull') , 'SwitchingTime (day)']"
   ]
  },
  {
   "cell_type": "code",
   "execution_count": 72,
   "metadata": {},
   "outputs": [
    {
     "data": {
      "text/html": [
       "<div>\n",
       "<style scoped>\n",
       "    .dataframe tbody tr th:only-of-type {\n",
       "        vertical-align: middle;\n",
       "    }\n",
       "\n",
       "    .dataframe tbody tr th {\n",
       "        vertical-align: top;\n",
       "    }\n",
       "\n",
       "    .dataframe thead th {\n",
       "        text-align: right;\n",
       "    }\n",
       "</style>\n",
       "<table border=\"1\" class=\"dataframe\">\n",
       "  <thead>\n",
       "    <tr style=\"text-align: right;\">\n",
       "      <th></th>\n",
       "      <th>Machine</th>\n",
       "      <th>Job1</th>\n",
       "      <th>Job2</th>\n",
       "      <th>SwitchingTime (day)</th>\n",
       "      <th>Unnamed: 4</th>\n",
       "    </tr>\n",
       "  </thead>\n",
       "  <tbody>\n",
       "    <tr>\n",
       "      <th>0</th>\n",
       "      <td>BigDragline</td>\n",
       "      <td>Job9</td>\n",
       "      <td>Job10</td>\n",
       "      <td>8</td>\n",
       "      <td>NaN</td>\n",
       "    </tr>\n",
       "    <tr>\n",
       "      <th>1</th>\n",
       "      <td>SmallDragline</td>\n",
       "      <td>Job9</td>\n",
       "      <td>Job13</td>\n",
       "      <td>4</td>\n",
       "      <td>NaN</td>\n",
       "    </tr>\n",
       "    <tr>\n",
       "      <th>2</th>\n",
       "      <td>SmallDragline</td>\n",
       "      <td>Job9</td>\n",
       "      <td>Job14</td>\n",
       "      <td>2</td>\n",
       "      <td>NaN</td>\n",
       "    </tr>\n",
       "    <tr>\n",
       "      <th>3</th>\n",
       "      <td>BigDragline</td>\n",
       "      <td>Job9</td>\n",
       "      <td>Job14</td>\n",
       "      <td>2</td>\n",
       "      <td>NaN</td>\n",
       "    </tr>\n",
       "    <tr>\n",
       "      <th>4</th>\n",
       "      <td>SmallDragline</td>\n",
       "      <td>Job9</td>\n",
       "      <td>Job15</td>\n",
       "      <td>2</td>\n",
       "      <td>NaN</td>\n",
       "    </tr>\n",
       "    <tr>\n",
       "      <th>...</th>\n",
       "      <td>...</td>\n",
       "      <td>...</td>\n",
       "      <td>...</td>\n",
       "      <td>...</td>\n",
       "      <td>...</td>\n",
       "    </tr>\n",
       "    <tr>\n",
       "      <th>137</th>\n",
       "      <td>Bull</td>\n",
       "      <td>Job2</td>\n",
       "      <td>Job3</td>\n",
       "      <td>8</td>\n",
       "      <td>NaN</td>\n",
       "    </tr>\n",
       "    <tr>\n",
       "      <th>138</th>\n",
       "      <td>Bull</td>\n",
       "      <td>Job1</td>\n",
       "      <td>Job3</td>\n",
       "      <td>10</td>\n",
       "      <td>NaN</td>\n",
       "    </tr>\n",
       "    <tr>\n",
       "      <th>139</th>\n",
       "      <td>Bull</td>\n",
       "      <td>Job3</td>\n",
       "      <td>Job7</td>\n",
       "      <td>6</td>\n",
       "      <td>NaN</td>\n",
       "    </tr>\n",
       "    <tr>\n",
       "      <th>140</th>\n",
       "      <td>Bull</td>\n",
       "      <td>Job2</td>\n",
       "      <td>Job7</td>\n",
       "      <td>6</td>\n",
       "      <td>NaN</td>\n",
       "    </tr>\n",
       "    <tr>\n",
       "      <th>141</th>\n",
       "      <td>Bull</td>\n",
       "      <td>Job1</td>\n",
       "      <td>Job7</td>\n",
       "      <td>10</td>\n",
       "      <td>NaN</td>\n",
       "    </tr>\n",
       "  </tbody>\n",
       "</table>\n",
       "<p>142 rows × 5 columns</p>\n",
       "</div>"
      ],
      "text/plain": [
       "           Machine  Job1   Job2  SwitchingTime (day)  Unnamed: 4\n",
       "0      BigDragline  Job9  Job10                    8         NaN\n",
       "1    SmallDragline  Job9  Job13                    4         NaN\n",
       "2    SmallDragline  Job9  Job14                    2         NaN\n",
       "3      BigDragline  Job9  Job14                    2         NaN\n",
       "4    SmallDragline  Job9  Job15                    2         NaN\n",
       "..             ...   ...    ...                  ...         ...\n",
       "137           Bull  Job2   Job3                    8         NaN\n",
       "138           Bull  Job1   Job3                   10         NaN\n",
       "139           Bull  Job3   Job7                    6         NaN\n",
       "140           Bull  Job2   Job7                    6         NaN\n",
       "141           Bull  Job1   Job7                   10         NaN\n",
       "\n",
       "[142 rows x 5 columns]"
      ]
     },
     "execution_count": 72,
     "metadata": {},
     "output_type": "execute_result"
    }
   ],
   "source": [
    "switchingDF"
   ]
  },
  {
   "cell_type": "code",
   "execution_count": null,
   "metadata": {},
   "outputs": [],
   "source": []
  }
 ],
 "metadata": {
  "colab": {
   "collapsed_sections": [],
   "name": "MineScheduling_vIni2.ipynb",
   "provenance": []
  },
  "kernelspec": {
   "display_name": "Python 3",
   "language": "python",
   "name": "python3"
  },
  "language_info": {
   "codemirror_mode": {
    "name": "ipython",
    "version": 3
   },
   "file_extension": ".py",
   "mimetype": "text/x-python",
   "name": "python",
   "nbconvert_exporter": "python",
   "pygments_lexer": "ipython3",
   "version": "3.8.8"
  }
 },
 "nbformat": 4,
 "nbformat_minor": 4
}
