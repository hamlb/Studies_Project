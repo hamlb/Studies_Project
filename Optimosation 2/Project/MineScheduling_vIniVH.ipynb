{
 "cells": [
  {
   "cell_type": "markdown",
   "metadata": {
    "id": "q9D4ashazkAn"
   },
   "source": [
    "### Read the data from the input Excel file"
   ]
  },
  {
   "cell_type": "markdown",
   "metadata": {
    "id": "jOkyUQuW2odY"
   },
   "source": [
    "# Nouvelle section"
   ]
  },
  {
   "cell_type": "code",
   "execution_count": 1,
   "metadata": {
    "id": "q_XO9ccuzkAs"
   },
   "outputs": [],
   "source": [
    "import pandas as pd\n",
    "inputFileName = \"MineScheduling_smallDataSet.xlsx\"\n",
    "paramDF = pd.read_excel(inputFileName, \"Param\", skiprows=0)\n",
    "jobDF = pd.read_excel(inputFileName, \"Job\", skiprows=0)\n",
    "jobMachineDF = pd.read_excel(inputFileName, \"JobMachine\", skiprows=0)\n",
    "switchingDF = pd.read_excel(inputFileName, \"Switching\", skiprows=0)"
   ]
  },
  {
   "cell_type": "markdown",
   "metadata": {
    "id": "NGEkQiXhzkAu"
   },
   "source": [
    "### Set the data into dict + compute maxDuration"
   ]
  },
  {
   "cell_type": "code",
   "execution_count": 2,
   "metadata": {
    "id": "qQ9iOgkhzkAv"
   },
   "outputs": [],
   "source": [
    "horizonDuration = paramDF['Duration (day)'][0]\n",
    "\n",
    "duration = dict()  #duration[vJob][vMachine]\n",
    "maxDuration = 0.0\n",
    "for iJob,vJob in enumerate(jobMachineDF['Job']):\n",
    "    vMachine = jobMachineDF['Machine'][iJob]\n",
    "    if not vJob in duration : duration[vJob] = dict() \n",
    "    duration[vJob][vMachine] = jobMachineDF['Duration'][iJob]\n",
    "    if duration[vJob][vMachine] > maxDuration : maxDuration = duration[vJob][vMachine]"
   ]
  },
  {
   "cell_type": "markdown",
   "metadata": {
    "id": "h4t52BeXzkAv"
   },
   "source": [
    "### Create your linear program"
   ]
  },
  {
   "cell_type": "code",
   "execution_count": 3,
   "metadata": {
    "colab": {
     "base_uri": "https://localhost:8080/"
    },
    "id": "XP5q-hU222qV",
    "outputId": "33c52a06-edff-41bd-b91a-ebf30481cf67"
   },
   "outputs": [
    {
     "name": "stdout",
     "output_type": "stream",
     "text": [
      "Requirement already satisfied: pulp in /Users/mizo/opt/anaconda3/lib/python3.8/site-packages (2.5.1)\n"
     ]
    }
   ],
   "source": [
    "!pip install pulp"
   ]
  },
  {
   "cell_type": "code",
   "execution_count": 4,
   "metadata": {
    "id": "Y2Pr3mMXzkAv"
   },
   "outputs": [],
   "source": [
    "from pulp import *\n",
    "prob = LpProblem(\"MineSchedulingProblem\", LpMaximize)  "
   ]
  },
  {
   "cell_type": "markdown",
   "metadata": {
    "id": "gLCfVIcAzkAw"
   },
   "source": [
    "### Add variables"
   ]
  },
  {
   "cell_type": "code",
   "execution_count": 5,
   "metadata": {
    "id": "vDPgNQmozkAx"
   },
   "outputs": [],
   "source": [
    " #allocationVar[vJob][vMachine] & isFirst[vJob][vMachine]\n",
    "allocationVar = dict()\n",
    "isFirstVar = dict()\n",
    "for iJob,vJob in enumerate(jobMachineDF['Job']):\n",
    "    vMachine = jobMachineDF['Machine'][iJob]\n",
    "    if not vJob in allocationVar : allocationVar[vJob] = dict() \n",
    "    if not vMachine in isFirstVar : isFirstVar[vMachine] = dict() \n",
    "    allocationVar[vJob][vMachine] = LpVariable(\"Allocation[%s][%s]\"%(vJob,vMachine), cat='Binary')\n",
    "    isFirstVar[vMachine][vJob] = LpVariable(\"isFirst[%s][%s]\"%(vMachine, vJob), cat='Binary') \n",
    "    \n",
    "#startVar[vJob] and isOver[vJob]\n",
    "startVar = dict()\n",
    "isOverVar = dict()\n",
    "for vJob in jobDF['Id'] :\n",
    "    startVar[vJob] = LpVariable(\"Start[%s]\"%(vJob), lowBound=0, upBound=horizonDuration, cat='Continuous')\n",
    "    isOverVar[vJob] = LpVariable(\"IsOver[%s]\"%(vJob), lowBound=0, cat='Binary')\n",
    "\n",
    "    \n",
    "#isSuccessor[vMachine][vJob1-vJob2] = 1 if vJob2 is the direct successor of vJob1\n",
    "isSuccessorVar = dict()  \n",
    "for iMachine,vMachine in enumerate(switchingDF['Machine']):\n",
    "    vJob1 = switchingDF['Job1'][iMachine]\n",
    "    vJob2 = switchingDF['Job2'][iMachine]\n",
    "    if not vMachine in isSuccessorVar : isSuccessorVar[vMachine] = dict()\n",
    "    if not vJob1 in isSuccessorVar[vMachine] : isSuccessorVar[vMachine][vJob1] = dict() \n",
    "    if not vJob2 in isSuccessorVar[vMachine] : isSuccessorVar[vMachine][vJob2] = dict() \n",
    "    isSuccessorVar[vMachine][vJob1][vJob2] = LpVariable(\"IsSuccessor[%s][%s][%s]\"%(vMachine, vJob1, vJob2), cat='Binary')\n",
    "    isSuccessorVar[vMachine][vJob2][vJob1] = LpVariable(\"IsSuccessor[%s][%s][%s]\"%(vMachine, vJob2, vJob1), cat='Binary')    \n",
    "                        "
   ]
  },
  {
   "cell_type": "markdown",
   "metadata": {
    "id": "XGKaOuSyzkAy"
   },
   "source": [
    "### Add objective"
   ]
  },
  {
   "cell_type": "code",
   "execution_count": 6,
   "metadata": {
    "id": "7o5BDlHw6CJf"
   },
   "outputs": [],
   "source": [
    "#Define the production dictionary\n",
    "jobProduction = dict(zip(jobDF.Id, jobDF.Production)) \n",
    "jobVolume = dict(zip(jobDF.Id, jobDF.Volume))"
   ]
  },
  {
   "cell_type": "code",
   "execution_count": 7,
   "metadata": {
    "id": "nS_W9RepzkAy"
   },
   "outputs": [],
   "source": [
    "obj = LpAffineExpression()\n",
    "\n",
    "obj += lpSum([isOverVar[j] * jobVolume[j] for j in jobDF['Id']])\n",
    "\n",
    "prob += obj"
   ]
  },
  {
   "cell_type": "markdown",
   "metadata": {
    "id": "M29xeGYuzkAz"
   },
   "source": [
    "### Add constraints"
   ]
  },
  {
   "cell_type": "code",
   "execution_count": 8,
   "metadata": {
    "id": "8GNm4xz7zkAz"
   },
   "outputs": [],
   "source": [
    "#Max one allocation per job\n",
    "#Define a dictionary : key = Job, value = Associated machines\n",
    "MachineJob_dict = dict(jobMachineDF.groupby('Job')['Machine'].apply(list))\n",
    "for vJob in jobDF['Id']:   \n",
    "    prob += lpSum(allocationVar[vJob][vMachine] for vMachine in MachineJob_dict[vJob] ) <= 1"
   ]
  },
  {
   "cell_type": "code",
   "execution_count": 9,
   "metadata": {
    "id": "iE-8IezgzkAz"
   },
   "outputs": [],
   "source": [
    "#Max one \"isFirst\" job per machine\n",
    "JobMachine_dict = dict(jobMachineDF.groupby('Machine')['Job'].apply(list))\n",
    "for vMachine in paramDF['Machine']:\n",
    "    prob += lpSum(isFirstVar[vMachine][vJob] for vJob in JobMachine_dict[vMachine] ) <= 1"
   ]
  },
  {
   "cell_type": "code",
   "execution_count": 10,
   "metadata": {
    "id": "5YDtbdcq9eXL"
   },
   "outputs": [],
   "source": [
    "BigM =1000"
   ]
  },
  {
   "cell_type": "code",
   "execution_count": 11,
   "metadata": {
    "id": "LGGPGwUyzkA0"
   },
   "outputs": [],
   "source": [
    "from os import kill\n",
    "#Constraint stating the \"start\" variable\n",
    "#Start[j’] >= Start[j] + duration[j][m] + switchingTime[m][j][j’]  - BigM * (1 - isSuccessor[m][j][j’])\n",
    "#Start[j'] - Start[j] - BigM * isSuccessor[m][j][j'] >= duration[j][m] + switchingTime[m][j][j’] - BigM\n",
    "\n",
    "for iMachine,vMachine in enumerate(switchingDF['Machine']):\n",
    "   vJob1 = switchingDF['Job1'][iMachine]\n",
    "   vJob2 = switchingDF['Job2'][iMachine]\n",
    "   prob += startVar[vJob1]+duration[vJob1][vMachine]+switchingDF['SwitchingTime (day)'][iMachine]-BigM*(1-isSuccessorVar[vMachine][vJob1][vJob2]) <=startVar[vJob2] , \"SwitchingConst[%s][%s][%s]\"%(iMachine,vJob1,vJob2)\n"
   ]
  },
  {
   "cell_type": "code",
   "execution_count": 12,
   "metadata": {
    "id": "-LvbPxNUzkA0"
   },
   "outputs": [],
   "source": [
    "#Constraint stating the \"isOver\" variable\n",
    "#start[j] + Sum[m in isPossible[j] ] duration[j][m] * allocation[j][m] <= durationHorizon + BigM * (1 - isOver[j])\n",
    "#start[j] + Sum[m in isPossible[j] ] duration[j][m] * allocation[j][m] + BigM * isOver[j] <= durationHorizon + BigM\n",
    "for vJob in jobDF['Id']:\n",
    "  prob += startVar[vJob]+ lpSum(duration[vJob][vMachine] * allocationVar[vJob][vMachine] for vMachine in MachineJob_dict[vJob])  <= horizonDuration + BigM * (1 - isOverVar[vJob])\n",
    "  "
   ]
  },
  {
   "cell_type": "code",
   "execution_count": 13,
   "metadata": {
    "id": "iINfgfckzkA0"
   },
   "outputs": [],
   "source": [
    "#Constraint stating that to be allocated, a job shall either be the first, or be the successor of another job\n",
    "# allocationVar[vJob][vMachine] <= isFirst[vJob][vMachine] + sum[otherJobs oJob] isSuccessor[vMachine][oJob][vJob]\n",
    "\n",
    "for iJob,vJob in enumerate(jobDF['Id']):\n",
    "    for vMachine in MachineJob_dict[vJob]:\n",
    "        otherjobs = switchingDF[switchingDF['Job2'] == vJob ]\n",
    "        otherjobs = otherjobs[otherjobs['Machine'] == vMachine]['Job1']\n",
    "        prob += allocationVar[vJob][vMachine] <= isFirstVar[vMachine][vJob] +lpSum(isSuccessorVar[vMachine][oJob][vJob] for oJob in otherjobs)"
   ]
  },
  {
   "cell_type": "code",
   "execution_count": 14,
   "metadata": {
    "id": "Q3KZPlFfzkA1"
   },
   "outputs": [],
   "source": [
    "#Constraint stating that if isOver = 1, then at least one allocation = 1\n",
    "for vJob in jobDF['Id']:\n",
    "    prob+=  isOverVar[vJob] <= lpSum(allocationVar[vJob][vMachine] for vMachine in MachineJob_dict[vJob] )    "
   ]
  },
  {
   "cell_type": "code",
   "execution_count": 15,
   "metadata": {
    "id": "CrfaGIojOYih"
   },
   "outputs": [],
   "source": [
    "#Max one successor per job\n",
    "for iJob,vJob in enumerate(jobMachineDF['Job']):\n",
    "      prob += lpSum ( isSuccessorVar[vMachine][vJob][oJob] for vMachine in MachineJob_dict[vJob] for oJob in isSuccessorVar[vMachine][vJob] ) <= 1\n"
   ]
  },
  {
   "cell_type": "code",
   "execution_count": 16,
   "metadata": {},
   "outputs": [],
   "source": [
    "#other constraint"
   ]
  },
  {
   "cell_type": "code",
   "execution_count": 17,
   "metadata": {},
   "outputs": [],
   "source": [
    "machine = list(paramDF['Machine'])\n",
    "machine = paramDF[['Machine']]\n",
    "machine_names = machine.Machine.unique()\n",
    "Jobmachine_dict=dict(jobMachineDF.groupby('Machine')['Job'].apply(list))   "
   ]
  },
  {
   "cell_type": "code",
   "execution_count": 18,
   "metadata": {},
   "outputs": [],
   "source": [
    "#Constraint stating that IsSuccessor[m][j1][j2] = 1 --> allocation[j1][m] = 1\n",
    "for m in machine_names:\n",
    "    for j in jobDF['Id']:\n",
    "        if Jobmachine_dict[m] != j:\n",
    "               otherjobmachine=Jobmachine_dict[m]\n",
    "        continue\n",
    "        for oj in otherjobmachine:\n",
    "                prob += isSuccessorVar[m][j][oj] <= allocationVar[vJob][vMachine]"
   ]
  },
  {
   "cell_type": "code",
   "execution_count": 19,
   "metadata": {
    "id": "aCTIzEZne-rS"
   },
   "outputs": [],
   "source": [
    "#9Constraint stating that if start > 0, then then at least one allocation = 1\n",
    "for vJob in jobDF['Id']:\n",
    "    prob += startVar[vJob] <= BigM * lpSum(allocationVar[vJob][vMachine] for vMachine in MachineJob_dict[vJob] )"
   ]
  },
  {
   "cell_type": "code",
   "execution_count": 20,
   "metadata": {},
   "outputs": [],
   "source": [
    "#If Sum allocation = 1, then start >= 1.0\n",
    "\n",
    "for vJob in jobDF['Id']:\n",
    "    prob +=  lpSum(allocationVar[vJob][vMachine] for vMachine in MachineJob_dict[vJob]) <= startVar[vJob] "
   ]
  },
  {
   "cell_type": "code",
   "execution_count": 21,
   "metadata": {},
   "outputs": [],
   "source": [
    "## Constraint imposing predecessors : isOver[j] = 1  isOver[vPred] = 1  \n",
    "jPred_dict=dict(zip(jobDF['Id'], jobDF['PredecessorId'])) \n",
    "for j in jobDF['Id']:\n",
    "    if jPred_dict[j] in jobDF['Id']:\n",
    "        prob +=  isOverVar[j] <= isOverVar[jPred_dict[j]]\n",
    "    continue"
   ]
  },
  {
   "cell_type": "code",
   "execution_count": 22,
   "metadata": {},
   "outputs": [],
   "source": [
    " # Constraint imposing predecessors :   j shall start only once vPred has finished\n",
    "for j in jobDF['Id']:\n",
    "    jPred=jPred_dict[j]\n",
    "    if jPred not in jobDF['Id']:\n",
    "        continue\n",
    "    prob += StartVar[jPred] + lpSum(duration[jPred][m] * allocationVar[jPred][m] for m in MachineJ_dict[jPred])<= StartVar[j]"
   ]
  },
  {
   "cell_type": "markdown",
   "metadata": {
    "id": "rhlOYDEZzkA1"
   },
   "source": [
    "### Solve and display results"
   ]
  },
  {
   "cell_type": "code",
   "execution_count": 23,
   "metadata": {
    "colab": {
     "base_uri": "https://localhost:8080/"
    },
    "id": "tQbZ79iPzkA1",
    "outputId": "fdc2dea7-d6f0-4423-84e3-2092195ff0e9"
   },
   "outputs": [
    {
     "name": "stdout",
     "output_type": "stream",
     "text": [
      "Status: Optimal\n",
      "Objective =  2900.0\n",
      "Allocation_Job11__Bull_ = 1.0\n",
      "Allocation_Job12__Bull_ = 1.0\n",
      "Allocation_Job13__SmallDragline_ = 1.0\n",
      "Allocation_Job14__BigDragline_ = 1.0\n",
      "Allocation_Job15__BigDragline_ = 1.0\n",
      "Allocation_Job16__BigDragline_ = 1.0\n",
      "Allocation_Job17__BigDragline_ = 1.0\n",
      "Allocation_Job18__BigDragline_ = 1.0\n",
      "IsOver_Job11_ = 1.0\n",
      "IsOver_Job12_ = 1.0\n",
      "IsOver_Job13_ = 1.0\n",
      "IsOver_Job14_ = 1.0\n",
      "IsOver_Job15_ = 1.0\n",
      "IsOver_Job16_ = 1.0\n",
      "IsOver_Job17_ = 1.0\n",
      "IsSuccessor_BigDragline__Job10__Job14_ = 1.0\n",
      "IsSuccessor_BigDragline__Job5__Job18_ = 1.0\n",
      "IsSuccessor_BigDragline__Job8__Job16_ = 1.0\n",
      "IsSuccessor_BigDragline__Job9__Job15_ = 1.0\n",
      "IsSuccessor_Bull__Job1__Job11_ = 1.0\n",
      "Start_Job11_ = 23.904762\n",
      "Start_Job12_ = 1.0\n",
      "Start_Job13_ = 1.0\n",
      "Start_Job14_ = 28.933333\n",
      "Start_Job15_ = 34.0\n",
      "Start_Job16_ = 27.454545\n",
      "Start_Job17_ = 1.0\n",
      "Start_Job18_ = 50.0\n"
     ]
    }
   ],
   "source": [
    "prob.writeLP(\"mineSchedulingProblem.lp\", writeSOS=1, mip=1)\n",
    "prob.solve()\n",
    "print(\"Status:\", LpStatus[prob.status])\n",
    "print (\"Objective = \", value(prob.objective))\n",
    "varsDict = {}\n",
    "for v in prob.variables():\n",
    "    varsDict[v.name] = v.varValue\n",
    "    if \"IsOver\" in v.name or \"Start\" in v.name or \"Allocation\" in v.name or \"IsSuccessor\" in v.name:\n",
    "        if v.varValue != 0.0 : print(v.name, \"=\", v.varValue)    "
   ]
  },
  {
   "cell_type": "code",
   "execution_count": null,
   "metadata": {
    "id": "pAx6Y49_VOCD"
   },
   "outputs": [],
   "source": []
  }
 ],
 "metadata": {
  "colab": {
   "collapsed_sections": [],
   "name": "MineScheduling_vIniV1.ipynb",
   "provenance": []
  },
  "kernelspec": {
   "display_name": "Python 3",
   "language": "python",
   "name": "python3"
  },
  "language_info": {
   "codemirror_mode": {
    "name": "ipython",
    "version": 3
   },
   "file_extension": ".py",
   "mimetype": "text/x-python",
   "name": "python",
   "nbconvert_exporter": "python",
   "pygments_lexer": "ipython3",
   "version": "3.8.8"
  }
 },
 "nbformat": 4,
 "nbformat_minor": 4
}
