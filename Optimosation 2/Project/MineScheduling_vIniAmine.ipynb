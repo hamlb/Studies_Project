{
 "cells": [
  {
   "cell_type": "markdown",
   "metadata": {},
   "source": [
    "### Read the data from the input Excel file"
   ]
  },
  {
   "cell_type": "code",
   "execution_count": 6,
   "metadata": {},
   "outputs": [],
   "source": [
    "import pandas as pd\n",
    "inputFileName = \"MineScheduling_smallDataSet.xlsx\"\n",
    "paramDF = pd.read_excel(inputFileName, \"Param\", skiprows=0)\n",
    "jobDF = pd.read_excel(inputFileName, \"Job\", skiprows=0)\n",
    "jobMachineDF = pd.read_excel(inputFileName, \"JobMachine\", skiprows=0)\n",
    "switchingDF = pd.read_excel(inputFileName, \"Switching\", skiprows=0)"
   ]
  },
  {
   "cell_type": "markdown",
   "metadata": {},
   "source": [
    "### Set the data into dict + compute maxDuration"
   ]
  },
  {
   "cell_type": "code",
   "execution_count": 6,
   "metadata": {},
   "outputs": [],
   "source": [
    "horizonDuration = paramDF['Duration (day)'][0]\n",
    "\n",
    "duration = dict()  #duration[vJob][vMachine]\n",
    "maxDuration = 0.0\n",
    "for iJob,vJob in enumerate(jobMachineDF['Job']):\n",
    "    vMachine = jobMachineDF['Machine'][iJob]\n",
    "    if not vJob in duration : duration[vJob] = dict() \n",
    "    duration[vJob][vMachine] = jobMachineDF['Duration'][iJob]\n",
    "    if duration[vJob][vMachine] > maxDuration : maxDuration = duration[vJob][vMachine]"
   ]
  },
  {
   "cell_type": "markdown",
   "metadata": {},
   "source": [
    "### Create your linear program"
   ]
  },
  {
   "cell_type": "code",
   "execution_count": 4,
   "metadata": {},
   "outputs": [],
   "source": [
    "from pulp import *\n",
    "prob = LpProblem(\"MineSchedulingProblem\", LpMaximize)  "
   ]
  },
  {
   "cell_type": "markdown",
   "metadata": {},
   "source": [
    "### Add variables"
   ]
  },
  {
   "cell_type": "code",
   "execution_count": 7,
   "metadata": {},
   "outputs": [],
   "source": [
    " #allocationVar[vJob][vMachine] & isFirst[vJob][vMachine]\n",
    "allocationVar = dict()\n",
    "isFirstVar = dict()\n",
    "for iJob,vJob in enumerate(jobMachineDF['Job']):\n",
    "    vMachine = jobMachineDF['Machine'][iJob]\n",
    "    if not vJob in allocationVar : allocationVar[vJob] = dict() \n",
    "    if not vJob in isFirstVar : isFirstVar[vJob] = dict() \n",
    "    allocationVar[vJob][vMachine] = LpVariable(\"Allocation[%s][%s]\"%(vJob,vMachine), cat='Binary')\n",
    "    isFirstVar[vJob][vMachine] = LpVariable(\"isFirst[%s][%s]\"%(vMachine, vJob), cat='Binary') \n",
    "    \n",
    "#startVar[vJob] and isOver[vJob]\n",
    "startVar = dict()\n",
    "isOverVar = dict()\n",
    "for vJob in jobDF['Id'] :\n",
    "    startVar[vJob] = LpVariable(\"Start[%s]\"%(vJob), lowBound=0, upBound=horizonDuration, cat='Continuous')\n",
    "    isOverVar[vJob] = LpVariable(\"IsOver[%s]\"%(vJob), lowBound=0, cat='Binary')\n",
    "\n",
    "    \n",
    "#isSuccessor[vMachine][vJob1-vJob2] = 1 if vJob2 is the direct successor of vJob1\n",
    "isSuccessorVar = dict()  \n",
    "for iMachine,vMachine in enumerate(switchingDF['Machine']):\n",
    "    vJob1 = switchingDF['Job1'][iMachine]\n",
    "    vJob2 = switchingDF['Job2'][iMachine]\n",
    "    if not vMachine in isSuccessorVar : isSuccessorVar[vMachine] = dict()\n",
    "    if not vJob1 in isSuccessorVar[vMachine] : isSuccessorVar[vMachine][vJob1] = dict() \n",
    "    if not vJob2 in isSuccessorVar[vMachine] : isSuccessorVar[vMachine][vJob2] = dict() \n",
    "    isSuccessorVar[vMachine][vJob1][vJob2] = LpVariable(\"IsSuccessor[%s][%s][%s]\"%(vMachine, vJob1, vJob2), cat='Binary')\n",
    "    isSuccessorVar[vMachine][vJob2][vJob1] = LpVariable(\"IsSuccessor[%s][%s][%s]\"%(vMachine, vJob2, vJob1), cat='Binary')  \n",
    "        \n",
    "\n",
    "                             "
   ]
  },
  {
   "cell_type": "markdown",
   "metadata": {},
   "source": [
    "### Add objective"
   ]
  },
  {
   "cell_type": "code",
   "execution_count": 12,
   "metadata": {},
   "outputs": [],
   "source": [
    "obj = LpAffineExpression()\n",
    "\n",
    "#obj += lpSum(...)\n",
    "\n",
    "prob += obj"
   ]
  },
  {
   "cell_type": "markdown",
   "metadata": {},
   "source": [
    "### Add constraints"
   ]
  },
  {
   "cell_type": "code",
   "execution_count": 13,
   "metadata": {},
   "outputs": [],
   "source": [
    "#Max one allocation per job\n",
    "for vJob in jobDF['Id']:\n",
    "    #XXX"
   ]
  },
  {
   "cell_type": "code",
   "execution_count": 14,
   "metadata": {},
   "outputs": [],
   "source": [
    "#Max one \"isFirst\" job per machine\n",
    "for vMachine in paramDF['Machine']:\n",
    "    #XXX"
   ]
  },
  {
   "cell_type": "code",
   "execution_count": 14,
   "metadata": {},
   "outputs": [
    {
     "name": "stdout",
     "output_type": "stream",
     "text": [
      "Status: Optimal\n",
      "Objective =  210.0\n",
      "Allocation_Job11__Bull_ = 1.0\n",
      "Allocation_Job17__BigDragline_ = 1.0\n",
      "Allocation_Job1__Bull_ = 1.0\n",
      "Allocation_Job7__SmallDragline_ = 1.0\n",
      "IsOver_Job11_ = 1.0\n",
      "IsOver_Job17_ = 1.0\n",
      "IsOver_Job1_ = 1.0\n",
      "IsOver_Job7_ = 1.0\n",
      "IsSuccessor_Bull__Job1__Job11_ = 1.0\n",
      "Start_Job11_ = 22.2\n",
      "Start_Job17_ = 1.0\n",
      "Start_Job1_ = 1.0\n",
      "Start_Job7_ = 1.0\n",
      "isFirst_Job17__BigDragline_ = 1.0\n",
      "isFirst_Job1__Bull_ = 1.0\n",
      "isFirst_Job7__SmallDragline_ = 1.0\n",
      "horizon is 50.0\n"
     ]
    }
   ],
   "source": [
    "from tracemalloc import start\n",
    "from xml.sax.saxutils import prepare_input_source\n",
    "import pandas as pd\n",
    "from pulp import *\n",
    "\n",
    "#Read the data from the input Excel file\n",
    "#inputFileName = \"MineScheduling_nanoDataSet.xlsx\"\n",
    "inputFileName = \"MineScheduling_smallDataSet.xlsx\"\n",
    "#inputFileName = \"MineScheduling_miniDataSet.xlsx\"\n",
    "paramDF = pd.read_excel(inputFileName, \"Param\", skiprows=0)\n",
    "jobDF = pd.read_excel(inputFileName, \"Job\", skiprows=0)\n",
    "jobMachineDF = pd.read_excel(inputFileName, \"JobMachine\", skiprows=0)\n",
    "switchingDF = pd.read_excel(inputFileName, \"Switching\", skiprows=0)\n",
    "\n",
    "#Set the data into dict + compute maxDuration\n",
    "\n",
    "horizonDuration = paramDF['Duration (day)'][0]\n",
    "duration = dict()  #duration[vJob][vMachine]\n",
    "maxDuration = 0.0\n",
    "\n",
    "#create liste of jobs and liste of machines\n",
    "List_Jobs = []\n",
    "for vJob in jobDF['Id']:\n",
    "    List_Jobs.append(vJob)\n",
    "\n",
    "List_Machines = []\n",
    "for vMachine in paramDF['Machine']:\n",
    "    List_Machines.append(vMachine)\n",
    "\n",
    "for iJob,vJob in enumerate(jobMachineDF['Job']):\n",
    "    vMachine = jobMachineDF['Machine'][iJob]\n",
    "    if not vJob in duration : duration[vJob] = dict() \n",
    "    duration[vJob][vMachine] = jobMachineDF['Duration'][iJob]\n",
    "    if duration[vJob][vMachine] > maxDuration : maxDuration = duration[vJob][vMachine]\n",
    "    \n",
    "#Create the linear program\n",
    "prob = LpProblem(\"MineSchedulingProblem\", LpMaximize)  \n",
    "\n",
    "#________________________________Add variables\n",
    "\n",
    "#allocationVar[vJob][vMachine] & isFirst[vJob][vMachine]\n",
    "allocationVar = dict()\n",
    "isFirstVar = dict()\n",
    "\n",
    "for iJob,vJob in enumerate(jobMachineDF['Job']):\n",
    "    vMachine = jobMachineDF['Machine'][iJob]\n",
    "    if not vJob in allocationVar : allocationVar[vJob] = dict() \n",
    "    if not vJob in isFirstVar : isFirstVar[vJob] = dict() \n",
    "    allocationVar[vJob][vMachine] = LpVariable(\"Allocation[%s][%s]\"%(vJob,vMachine), cat='Binary')\n",
    "    isFirstVar[vJob][vMachine] = LpVariable(\"isFirst[%s][%s]\"%(vJob,vMachine), cat='Binary')\n",
    "    #isFirstVar[vJob][vMachine] = LpVariable(\"isFirst[%s][%s]\"%(vMachine, vJob), cat='Binary') \n",
    "    \n",
    "#startVar[vJob] & isOver[vJob]\n",
    "startVar = dict()\n",
    "isOverVar = dict()\n",
    "for vJob in jobDF['Id']:\n",
    "    startVar[vJob] = LpVariable(\"Start[%s]\"%(vJob), lowBound=0, upBound=horizonDuration, cat='Continuous')\n",
    "    isOverVar[vJob] = LpVariable(\"IsOver[%s]\"%(vJob), lowBound=0, cat='Binary')\n",
    " \n",
    "#isSuccessor[vMachine][vJob1-vJob2] = 1 if vJob2 is the direct successor of vJob1\n",
    "isSuccessorVar = dict()  \n",
    "switch_dict = dict()\n",
    "for iMachine,vMachine in enumerate(switchingDF['Machine']):\n",
    "    vJob1 = switchingDF['Job1'][iMachine]\n",
    "    vJob2 = switchingDF['Job2'][iMachine]\n",
    "    if not vMachine in isSuccessorVar : isSuccessorVar[vMachine] = dict()\n",
    "    if not vMachine in switch_dict : switch_dict[vMachine] = dict()\n",
    "    \n",
    "    if not vJob1 in isSuccessorVar[vMachine] : isSuccessorVar[vMachine][vJob1] = dict() \n",
    "    if not vJob1 in switch_dict[vMachine] : switch_dict[vMachine][vJob1] = dict() \n",
    "    \n",
    "    if not vJob2 in isSuccessorVar[vMachine] : isSuccessorVar[vMachine][vJob2] = dict()\n",
    "    if not vJob2 in switch_dict[vMachine] : switch_dict[vMachine][vJob2] = dict() \n",
    "    \n",
    "    isSuccessorVar[vMachine][vJob1][vJob2] = LpVariable(\"IsSuccessor[%s][%s][%s]\"%(vMachine, vJob1, vJob2), cat='Binary')\n",
    "    isSuccessorVar[vMachine][vJob2][vJob1] = LpVariable(\"IsSuccessor[%s][%s][%s]\"%(vMachine, vJob2, vJob1), cat='Binary')  \n",
    "\n",
    "    switch_dict[vMachine][vJob1][vJob2] = switchingDF['SwitchingTime (day)'][iMachine]\n",
    "    switch_dict[vMachine][vJob2][vJob1] = switchingDF['SwitchingTime (day)'][iMachine]\n",
    "    \n",
    "#________________________________Add Objective\n",
    "obj = LpAffineExpression()\n",
    "\n",
    "#obj += lpSum( isOverVar[vJob]*jobDF['Production'][iJob] for iJob,vJob in enumerate(jobDF['Id'])) #Correct one\n",
    "#obj += lpSum( isOverVar[vJob]*jobDF['Volume'][iJob] for iJob,vJob in enumerate(jobDF['Id'])) #just to be aligned with agnes, she made a mistake in the obj function, prod not vol to be optimize\n",
    "obj += lpSum( isOverVar[vJob]*jobDF['Production'][iJob] for iJob,vJob in enumerate(jobDF['Id']))\n",
    "prob += obj\n",
    "\n",
    "#________________________________Add Constraints\n",
    "# 1 ___Max one allocation per job\n",
    "#loop over all machines that do the job, and choose only one\n",
    "for vJob in jobDF['Id']:\n",
    "    prob += lpSum(allocationVar[vJob][Jmachine] for Jmachine in allocationVar[vJob]) <= 1, \"MaxAllocation[%s]\"%(vJob)\n",
    "\n",
    "# 2 ___Max one \"isFirst\" job per machine\n",
    "#loop over all the job that a given machine does, and set only one to be the first \n",
    "for vMachine in paramDF['Machine']:\n",
    "    if isinstance(vMachine, str):\n",
    "        is_Used_Once = []\n",
    "        LHS = LpAffineExpression()\n",
    "        for vJob in jobMachineDF['Job']:\n",
    "            if vMachine in isFirstVar[vJob] and vJob not in is_Used_Once:\n",
    "                is_Used_Once.append(vJob)\n",
    "                LHS += lpSum(isFirstVar[vJob][vMachine])\n",
    "        prob += lpSum(LHS) == 1, \"IsFirstOnMachine[%s]\"%(vMachine)\n",
    "        #, \"DefIsFirstIn[%s]\"%(vMachine)\n",
    "                        \n",
    "#old one generates double values (case job3)\n",
    "#for vMachine in paramDF['Machine']:\n",
    "    #prob += lpSum(isFirstVar[vJob][vMachine] for vJob in jobMachineDF['Job'] if vMachine in isFirstVar[vJob]) == 1\n",
    "\n",
    "    \n",
    "# 3___ Constraint stating the \"start\" variable\n",
    "#Start[j’] >= Start[j] + duration[j][m] + switchingTime[m][j][j’]  - BigM * (1 - isSuccessor[m][j][j’])\n",
    "#Start[j'] - Start[j] - BigM * isSuccessor[m][j][j'] >= duration[j][m] + switchingTime[m][j][j’] - BigM\n",
    "# make sure tha the start of job2 respect all the time dynamics (duration, switchuing) of job1 if it is its succecessor, and take a big negative value otherwise \n",
    "\n",
    "BigM = horizonDuration\n",
    "for iMachine,vMachine in enumerate(switchingDF['Machine']):\n",
    "    vJob1 = switchingDF['Job1'][iMachine]\n",
    "    vJob2 = switchingDF['Job2'][iMachine]\n",
    "    Switch_Job2Job1 = switchingDF['SwitchingTime (day)'][iMachine]\n",
    "    prob +=  startVar[vJob1] + duration[vJob1][vMachine]*allocationVar[vJob1][vMachine] + Switch_Job2Job1*isSuccessorVar[vMachine][vJob1][vJob2] <= startVar[vJob2] + BigM*(1 - isSuccessorVar[vMachine][vJob1][vJob2]),\"StartTimeLogic[%s][%s][%s]\"%(vMachine,vJob1,vJob2)\n",
    "    prob +=  startVar[vJob2] + duration[vJob2][vMachine]*allocationVar[vJob2][vMachine] + Switch_Job2Job1*isSuccessorVar[vMachine][vJob2][vJob1] <= startVar[vJob1] + BigM*(1 - isSuccessorVar[vMachine][vJob2][vJob1]),\"StartTimeLogic[%s][%s][%s]\"%(vMachine,vJob2,vJob1)\n",
    "    #prob +=  startVar[vJob1] + duration[vJob1][vMachine]*allocationVar[vJob1][vMachine] + Switch_Job2Job1*isSuccessorVar[vMachine][vJob2][vJob1] <= startVar[vJob2] + BigM*(1 - isSuccessorVar[vMachine][vJob2][vJob1]),\"StartTimeLogic[%s][%s][%s]\"%(vMachine,vJob1,vJob2)\n",
    "    #prob +=  startVar[vJob2] + duration[vJob2][vMachine]*allocationVar[vJob2][vMachine] + Switch_Job2Job1*isSuccessorVar[vMachine][vJob1][vJob2] <= startVar[vJob1] + BigM*(1 - isSuccessorVar[vMachine][vJob1][vJob2]),\"StartTimeLogic[%s][%s][%s]\"%(vMachine,vJob2,vJob1)  \n",
    "# 4___ Constraint stating the \"isOver\" variable\n",
    "#start[j] + Sum[m in isPossible[j] ] duration[j][m] * allocation[j][m] <= durationHorizon + BigM * (1 - isOver[j])\n",
    "#start[j] + Sum[m in isPossible[j] ] duration[j][m] * allocation[j][m] + BigM * isOver[j] <= durationHorizon + BigM\n",
    "\n",
    "for vJob in jobDF['Id']:\n",
    "    prob += startVar[vJob] + lpSum(allocationVar[vJob][vMachine]*duration[vJob][vMachine] for vMachine in allocationVar[vJob].keys()) <= horizonDuration + BigM*(1 - isOverVar[vJob]), \"IsOverTimeLogic[%s]\"%(vJob)\n",
    "\n",
    "    \n",
    "# 5___ Constraint stating that to be allocated, a job shall either be the first, or be the successor of another job\n",
    "\n",
    "for iJob,vJob in enumerate(jobMachineDF['Job']):\n",
    "    vMachine = jobMachineDF['Machine'][iJob]\n",
    "    if vMachine in isSuccessorVar:\n",
    "        prob += allocationVar[vJob][vMachine] <= isFirstVar[vJob][vMachine] + lpSum(isSuccessorVar[vMachine][vJob2][vJob] for vJob2 in isSuccessorVar[vMachine][vJob]), \"AllocationDynamicLogic[%s][%s]\"%(vMachine,vJob)\n",
    "    \n",
    "# 6___ Constraint stating that if isOver = 1, then at least one allocation = 1\n",
    "for vJob in jobDF['Id']:\n",
    "    prob += isOverVar[vJob] <= lpSum(allocationVar[vJob][vMachine] for vMachine in allocationVar[vJob]),\"IsOver_Allocations[%s]\"%(vJob)\n",
    "\n",
    "# 7___ Max one successor per job\n",
    "\n",
    "for iJob,vJob in enumerate(jobMachineDF['Job']):\n",
    "    vMachine = jobMachineDF['Machine'][iJob]\n",
    "    if vMachine in isSuccessorVar:\n",
    "        prob += lpSum(isSuccessorVar[vMachine][vJob][OtherJob] for OtherJob in isSuccessorVar[vMachine][vJob]) <= 1,\"SuccessorsOF[%s]On[%s]\"%(vJob,vMachine)\n",
    "        prob += lpSum(isSuccessorVar[vMachine][OtherJob][vJob] for OtherJob in isSuccessorVar[vMachine][vJob]) <= 1,\"SuccessorsOF[%s]On2[%s]\"%(vJob,vMachine)\n",
    "\n",
    "\n",
    "# 8___ if it has a successor then it is allocated \n",
    "\n",
    "for iJob,vJob in enumerate(jobMachineDF['Job']):\n",
    "    vMachine = jobMachineDF['Machine'][iJob]\n",
    "    if vMachine in isSuccessorVar:\n",
    "        prob += lpSum(isSuccessorVar[vMachine][vJob][OtherJob] for OtherJob in isSuccessorVar[vMachine][vJob]) <= allocationVar[vJob][vMachine], \"SuccessorsAllocation[%s][%s]\"%(vJob,vMachine)\n",
    "    \n",
    "# 9___ same as 8 IDK \n",
    "\n",
    "# 10___ if Start Positive than at least one allocation = 1\n",
    "for vJob in jobDF['Id']:\n",
    "    prob += startVar[vJob] <= BigM*lpSum(allocationVar[vJob][vMachine] for vMachine in allocationVar[vJob]), \"StartForceAlloc[%s]\"%(vJob)\n",
    "\n",
    "# 11___ if at least one allocation is done, then start >= 1\n",
    "for vJob in jobDF['Id']:\n",
    "    prob += lpSum(allocationVar[vJob][vMachine] for vMachine in allocationVar[vJob]) <= startVar[vJob], \"AllocForceJob[%s]\"%(vJob)\n",
    "    \n",
    "# 12 and 13 ___ predecessors isOver[j] <= isOver[jpred]\n",
    "for iJob, vJob in enumerate(jobDF['Id']):\n",
    "    if isinstance(jobDF['PredecessorId'][iJob], str) and jobDF['PredecessorId'][iJob] != 'NA':\n",
    "        predJob = jobDF['PredecessorId'][iJob]\n",
    "        # 12\n",
    "        prob += isOverVar[vJob] <= isOverVar[predJob], \"Predecessor_Over[%s]_[%s]\"%(vJob,predJob)\n",
    "        #13\n",
    "        prob += startVar[predJob] + lpSum(allocationVar[predJob][vMachine]*duration[predJob][vMachine] for vMachine in allocationVar[predJob]) <= startVar[vJob] + BigM*(1-lpSum(allocationVar[vJob][vMachine] for vMachine in allocationVar[vJob])), \"Predecessor_Start[%s]_[%s]\"%(vJob,predJob)\n",
    "\n",
    "#print('oj')    '''\n",
    "\n",
    "prob.writeLP(\"mineSchedulingProblemA.lp\", writeSOS=1, mip=1)\n",
    "prob.solve()\n",
    "print(\"Status:\", LpStatus[prob.status])\n",
    "print (\"Objective = \", value(prob.objective))\n",
    "varsDict = {}\n",
    "for v in prob.variables():\n",
    "    varsDict[v.name] = v.varValue\n",
    "    if \"IsOver\" in v.name or \"Start\" in v.name or \"Allocation\" in v.name or \"isSuccessorVar\":\n",
    "        if v.varValue != 0.0 : print(v.name, \"=\", v.varValue)\n",
    "        \n",
    "print(\"horizon is\", horizonDuration)\n",
    "\n",
    "\n",
    "        \n",
    "        \n"
   ]
  },
  {
   "cell_type": "code",
   "execution_count": 16,
   "metadata": {},
   "outputs": [],
   "source": [
    "#Constraint stating the \"isOver\" variable\n",
    "#start[j] + Sum[m in isPossible[j] ] duration[j][m] * allocation[j][m] <= durationHorizon + BigM * (1 - isOver[j])\n",
    "#start[j] + Sum[m in isPossible[j] ] duration[j][m] * allocation[j][m] + BigM * isOver[j] <= durationHorizon + BigM\n",
    "\n",
    "for vJob in jobDF['Id']:\n",
    "    #XXX\n"
   ]
  },
  {
   "cell_type": "code",
   "execution_count": 17,
   "metadata": {},
   "outputs": [],
   "source": [
    "#Constraint stating that to be allocated, a job shall either be the first, or be the successor of another job\n",
    "# allocationVar[vJob][vMachine] <= isFirst[vJob][vMachine] + sum[otherJobs oJob] isSuccessor[vMachine][oJob][vJob]\n",
    "\n",
    "\n",
    "for iJob,vJob in enumerate(jobMachineDF['Job']):\n",
    "    #XXX\n"
   ]
  },
  {
   "cell_type": "code",
   "execution_count": 18,
   "metadata": {},
   "outputs": [],
   "source": [
    "#Constraint stating that if isOver = 1, then at least one allocation = 1\n",
    "for vJob in jobDF['Id']:\n",
    "    #XXX"
   ]
  },
  {
   "cell_type": "code",
   "execution_count": 19,
   "metadata": {},
   "outputs": [],
   "source": [
    "#Max one successor per job\n",
    "for iJob,vJob in enumerate(jobMachineDF['Job']):\n",
    "    #XXX\n"
   ]
  },
  {
   "cell_type": "markdown",
   "metadata": {},
   "source": [
    "### Solve and display results"
   ]
  },
  {
   "cell_type": "code",
   "execution_count": 20,
   "metadata": {},
   "outputs": [
    {
     "name": "stdout",
     "output_type": "stream",
     "text": [
      "Status: Optimal\n",
      "Objective =  2900.0\n",
      "Allocation_Job11__Bull_ = 1.0\n",
      "Allocation_Job12__Bull_ = 1.0\n",
      "Allocation_Job13__SmallDragline_ = 1.0\n",
      "Allocation_Job14__BigDragline_ = 1.0\n",
      "Allocation_Job15__BigDragline_ = 1.0\n",
      "Allocation_Job16__BigDragline_ = 1.0\n",
      "Allocation_Job17__BigDragline_ = 1.0\n",
      "Allocation_Job18__SmallDragline_ = 1.0\n",
      "IsOver_Job11_ = 1.0\n",
      "IsOver_Job12_ = 1.0\n",
      "IsOver_Job13_ = 1.0\n",
      "IsOver_Job14_ = 1.0\n",
      "IsOver_Job15_ = 1.0\n",
      "IsOver_Job16_ = 1.0\n",
      "IsOver_Job17_ = 1.0\n",
      "Start_Job11_ = 23.904762\n",
      "Start_Job12_ = 22.0\n",
      "Start_Job13_ = 6.6153846\n",
      "Start_Job14_ = 28.933333\n",
      "Start_Job15_ = 34.0\n",
      "Start_Job16_ = 27.454545\n",
      "Start_Job17_ = 12.133333\n",
      "Start_Job18_ = 50.0\n",
      "Start_Job19_ = 50.0\n"
     ]
    }
   ],
   "source": [
    "prob.writeLP(\"mineSchedulingProblem.lp\", writeSOS=1, mip=1)\n",
    "prob.solve()\n",
    "print(\"Status:\", LpStatus[prob.status])\n",
    "print (\"Objective = \", value(prob.objective))\n",
    "varsDict = {}\n",
    "for v in prob.variables():\n",
    "    varsDict[v.name] = v.varValue\n",
    "    if \"IsOver\" in v.name or \"Start\" in v.name or \"Allocation\" in v.name:\n",
    "        if v.varValue != 0.0 : print(v.name, \"=\", v.varValue)\n",
    "        "
   ]
  }
 ],
 "metadata": {
  "kernelspec": {
   "display_name": "Python 3",
   "language": "python",
   "name": "python3"
  },
  "language_info": {
   "codemirror_mode": {
    "name": "ipython",
    "version": 3
   },
   "file_extension": ".py",
   "mimetype": "text/x-python",
   "name": "python",
   "nbconvert_exporter": "python",
   "pygments_lexer": "ipython3",
   "version": "3.8.8"
  }
 },
 "nbformat": 4,
 "nbformat_minor": 4
}
