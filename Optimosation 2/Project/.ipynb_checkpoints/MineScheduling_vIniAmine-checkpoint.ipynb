{
 "cells": [
  {
   "cell_type": "markdown",
   "metadata": {},
   "source": [
    "### Read the data from the input Excel file"
   ]
  },
  {
   "cell_type": "code",
   "execution_count": 5,
   "metadata": {},
   "outputs": [],
   "source": [
    "import pandas as pd\n",
    "inputFileName = \"MineScheduling_smallDataSet.xlsx\"\n",
    "paramDF = pd.read_excel(inputFileName, \"Param\", skiprows=0)\n",
    "jobDF = pd.read_excel(inputFileName, \"Job\", skiprows=0)\n",
    "jobMachineDF = pd.read_excel(inputFileName, \"JobMachine\", skiprows=0)\n",
    "switchingDF = pd.read_excel(inputFileName, \"Switching\", skiprows=0)"
   ]
  },
  {
   "cell_type": "markdown",
   "metadata": {},
   "source": [
    "### Set the data into dict + compute maxDuration"
   ]
  },
  {
   "cell_type": "code",
   "execution_count": 6,
   "metadata": {},
   "outputs": [],
   "source": [
    "horizonDuration = paramDF['Duration (day)'][0]\n",
    "\n",
    "duration = dict()  #duration[vJob][vMachine]\n",
    "maxDuration = 0.0\n",
    "for iJob,vJob in enumerate(jobMachineDF['Job']):\n",
    "    vMachine = jobMachineDF['Machine'][iJob]\n",
    "    if not vJob in duration : duration[vJob] = dict() \n",
    "    duration[vJob][vMachine] = jobMachineDF['Duration'][iJob]\n",
    "    if duration[vJob][vMachine] > maxDuration : maxDuration = duration[vJob][vMachine]"
   ]
  },
  {
   "cell_type": "markdown",
   "metadata": {},
   "source": [
    "### Create your linear program"
   ]
  },
  {
   "cell_type": "code",
   "execution_count": 4,
   "metadata": {},
   "outputs": [],
   "source": [
    "from pulp import *\n",
    "prob = LpProblem(\"MineSchedulingProblem\", LpMaximize)  "
   ]
  },
  {
   "cell_type": "markdown",
   "metadata": {},
   "source": [
    "### Add variables"
   ]
  },
  {
   "cell_type": "code",
   "execution_count": 7,
   "metadata": {},
   "outputs": [],
   "source": [
    " #allocationVar[vJob][vMachine] & isFirst[vJob][vMachine]\n",
    "allocationVar = dict()\n",
    "isFirstVar = dict()\n",
    "for iJob,vJob in enumerate(jobMachineDF['Job']):\n",
    "    vMachine = jobMachineDF['Machine'][iJob]\n",
    "    if not vJob in allocationVar : allocationVar[vJob] = dict() \n",
    "    if not vJob in isFirstVar : isFirstVar[vJob] = dict() \n",
    "    allocationVar[vJob][vMachine] = LpVariable(\"Allocation[%s][%s]\"%(vJob,vMachine), cat='Binary')\n",
    "    isFirstVar[vJob][vMachine] = LpVariable(\"isFirst[%s][%s]\"%(vMachine, vJob), cat='Binary') \n",
    "    \n",
    "#startVar[vJob] and isOver[vJob]\n",
    "startVar = dict()\n",
    "isOverVar = dict()\n",
    "for vJob in jobDF['Id'] :\n",
    "    startVar[vJob] = LpVariable(\"Start[%s]\"%(vJob), lowBound=0, upBound=horizonDuration, cat='Continuous')\n",
    "    isOverVar[vJob] = LpVariable(\"IsOver[%s]\"%(vJob), lowBound=0, cat='Binary')\n",
    "\n",
    "    \n",
    "#isSuccessor[vMachine][vJob1-vJob2] = 1 if vJob2 is the direct successor of vJob1\n",
    "isSuccessorVar = dict()  \n",
    "for iMachine,vMachine in enumerate(switchingDF['Machine']):\n",
    "    vJob1 = switchingDF['Job1'][iMachine]\n",
    "    vJob2 = switchingDF['Job2'][iMachine]\n",
    "    if not vMachine in isSuccessorVar : isSuccessorVar[vMachine] = dict()\n",
    "    if not vJob1 in isSuccessorVar[vMachine] : isSuccessorVar[vMachine][vJob1] = dict() \n",
    "    if not vJob2 in isSuccessorVar[vMachine] : isSuccessorVar[vMachine][vJob2] = dict() \n",
    "    isSuccessorVar[vMachine][vJob1][vJob2] = LpVariable(\"IsSuccessor[%s][%s][%s]\"%(vMachine, vJob1, vJob2), cat='Binary')\n",
    "    isSuccessorVar[vMachine][vJob2][vJob1] = LpVariable(\"IsSuccessor[%s][%s][%s]\"%(vMachine, vJob2, vJob1), cat='Binary')  \n",
    "        \n",
    "\n",
    "                             "
   ]
  },
  {
   "cell_type": "markdown",
   "metadata": {},
   "source": [
    "### Add objective"
   ]
  },
  {
   "cell_type": "code",
   "execution_count": 12,
   "metadata": {},
   "outputs": [],
   "source": [
    "obj = LpAffineExpression()\n",
    "\n",
    "#obj += lpSum(...)\n",
    "\n",
    "prob += obj"
   ]
  },
  {
   "cell_type": "markdown",
   "metadata": {},
   "source": [
    "### Add constraints"
   ]
  },
  {
   "cell_type": "code",
   "execution_count": 13,
   "metadata": {},
   "outputs": [],
   "source": [
    "#Max one allocation per job\n",
    "for vJob in jobDF['Id']:\n",
    "    #XXX"
   ]
  },
  {
   "cell_type": "code",
   "execution_count": 14,
   "metadata": {},
   "outputs": [],
   "source": [
    "#Max one \"isFirst\" job per machine\n",
    "for vMachine in paramDF['Machine']:\n",
    "    #XXX"
   ]
  },
  {
   "cell_type": "code",
   "execution_count": 15,
   "metadata": {},
   "outputs": [],
   "source": [
    "#Constraint stating the \"start\" variable\n",
    "#Start[j’] >= Start[j] + duration[j][m] + switchingTime[m][j][j’]  - BigM * (1 - isSuccessor[m][j][j’])\n",
    "#Start[j'] - Start[j] - BigM * isSuccessor[m][j][j'] >= duration[j][m] + switchingTime[m][j][j’] - BigM\n",
    "\n",
    "for iMachine,vMachine in enumerate(switchingDF['Machine']):\n",
    "    #XXX\n",
    "    \n"
   ]
  },
  {
   "cell_type": "code",
   "execution_count": 16,
   "metadata": {},
   "outputs": [],
   "source": [
    "#Constraint stating the \"isOver\" variable\n",
    "#start[j] + Sum[m in isPossible[j] ] duration[j][m] * allocation[j][m] <= durationHorizon + BigM * (1 - isOver[j])\n",
    "#start[j] + Sum[m in isPossible[j] ] duration[j][m] * allocation[j][m] + BigM * isOver[j] <= durationHorizon + BigM\n",
    "\n",
    "for vJob in jobDF['Id']:\n",
    "    #XXX\n"
   ]
  },
  {
   "cell_type": "code",
   "execution_count": 17,
   "metadata": {},
   "outputs": [],
   "source": [
    "#Constraint stating that to be allocated, a job shall either be the first, or be the successor of another job\n",
    "# allocationVar[vJob][vMachine] <= isFirst[vJob][vMachine] + sum[otherJobs oJob] isSuccessor[vMachine][oJob][vJob]\n",
    "\n",
    "\n",
    "for iJob,vJob in enumerate(jobMachineDF['Job']):\n",
    "    #XXX\n"
   ]
  },
  {
   "cell_type": "code",
   "execution_count": 18,
   "metadata": {},
   "outputs": [],
   "source": [
    "#Constraint stating that if isOver = 1, then at least one allocation = 1\n",
    "for vJob in jobDF['Id']:\n",
    "    #XXX"
   ]
  },
  {
   "cell_type": "code",
   "execution_count": 19,
   "metadata": {},
   "outputs": [],
   "source": [
    "#Max one successor per job\n",
    "for iJob,vJob in enumerate(jobMachineDF['Job']):\n",
    "    #XXX\n"
   ]
  },
  {
   "cell_type": "markdown",
   "metadata": {},
   "source": [
    "### Solve and display results"
   ]
  },
  {
   "cell_type": "code",
   "execution_count": 20,
   "metadata": {},
   "outputs": [
    {
     "name": "stdout",
     "output_type": "stream",
     "text": [
      "Status: Optimal\n",
      "Objective =  2900.0\n",
      "Allocation_Job11__Bull_ = 1.0\n",
      "Allocation_Job12__Bull_ = 1.0\n",
      "Allocation_Job13__SmallDragline_ = 1.0\n",
      "Allocation_Job14__BigDragline_ = 1.0\n",
      "Allocation_Job15__BigDragline_ = 1.0\n",
      "Allocation_Job16__BigDragline_ = 1.0\n",
      "Allocation_Job17__BigDragline_ = 1.0\n",
      "Allocation_Job18__SmallDragline_ = 1.0\n",
      "IsOver_Job11_ = 1.0\n",
      "IsOver_Job12_ = 1.0\n",
      "IsOver_Job13_ = 1.0\n",
      "IsOver_Job14_ = 1.0\n",
      "IsOver_Job15_ = 1.0\n",
      "IsOver_Job16_ = 1.0\n",
      "IsOver_Job17_ = 1.0\n",
      "Start_Job11_ = 23.904762\n",
      "Start_Job12_ = 22.0\n",
      "Start_Job13_ = 6.6153846\n",
      "Start_Job14_ = 28.933333\n",
      "Start_Job15_ = 34.0\n",
      "Start_Job16_ = 27.454545\n",
      "Start_Job17_ = 12.133333\n",
      "Start_Job18_ = 50.0\n",
      "Start_Job19_ = 50.0\n"
     ]
    }
   ],
   "source": [
    "prob.writeLP(\"mineSchedulingProblem.lp\", writeSOS=1, mip=1)\n",
    "prob.solve()\n",
    "print(\"Status:\", LpStatus[prob.status])\n",
    "print (\"Objective = \", value(prob.objective))\n",
    "varsDict = {}\n",
    "for v in prob.variables():\n",
    "    varsDict[v.name] = v.varValue\n",
    "    if \"IsOver\" in v.name or \"Start\" in v.name or \"Allocation\" in v.name:\n",
    "        if v.varValue != 0.0 : print(v.name, \"=\", v.varValue)\n",
    "        "
   ]
  }
 ],
 "metadata": {
  "kernelspec": {
   "display_name": "Python 3",
   "language": "python",
   "name": "python3"
  },
  "language_info": {
   "codemirror_mode": {
    "name": "ipython",
    "version": 3
   },
   "file_extension": ".py",
   "mimetype": "text/x-python",
   "name": "python",
   "nbconvert_exporter": "python",
   "pygments_lexer": "ipython3",
   "version": "3.8.3"
  }
 },
 "nbformat": 4,
 "nbformat_minor": 4
}
