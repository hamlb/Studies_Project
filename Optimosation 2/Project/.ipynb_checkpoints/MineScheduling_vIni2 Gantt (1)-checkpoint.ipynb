{
 "cells": [
  {
   "cell_type": "markdown",
   "metadata": {
    "id": "UumCOKtk0FKJ"
   },
   "source": [
    "### Read the data from the input Excel file"
   ]
  },
  {
   "cell_type": "code",
   "execution_count": 1,
   "metadata": {
    "id": "f7L2yxKM0FKP"
   },
   "outputs": [],
   "source": [
    "import pandas as pd\n",
    "inputFileName = \"MineScheduling_smallDataSet.xlsx\"\n",
    "paramDF = pd.read_excel(inputFileName, \"Param\", skiprows=0)\n",
    "jobDF = pd.read_excel(inputFileName, \"Job\", skiprows=0)\n",
    "jobMachineDF = pd.read_excel(inputFileName, \"JobMachine\", skiprows=0)\n",
    "switchingDF = pd.read_excel(inputFileName, \"Switching\", skiprows=0)"
   ]
  },
  {
   "cell_type": "markdown",
   "metadata": {
    "id": "PYbT-A2H0FKR"
   },
   "source": [
    "### Set the data into dict + compute maxDuration"
   ]
  },
  {
   "cell_type": "code",
   "execution_count": 27,
   "metadata": {
    "id": "k7b6fkN60FKS",
    "tags": []
   },
   "outputs": [],
   "source": [
    "horizonDuration = paramDF['Duration (day)'][0]\n",
    "\n",
    "duration = dict()  #duration[vJob][vMachine]\n",
    "maxDuration = 0.0\n",
    "for iJob,vJob in enumerate(jobMachineDF['Job']):\n",
    "    vMachine = jobMachineDF['Machine'][iJob]\n",
    "    if not vJob in duration : duration[vJob] = dict() \n",
    "    duration[vJob][vMachine] = jobMachineDF['Duration'][iJob]\n",
    "    if duration[vJob][vMachine] > maxDuration : maxDuration = duration[vJob][vMachine]\n"
   ]
  },
  {
   "cell_type": "markdown",
   "metadata": {
    "id": "YVkYP6sQ0FKT"
   },
   "source": [
    "### Create your linear program"
   ]
  },
  {
   "cell_type": "code",
   "execution_count": 28,
   "metadata": {
    "id": "y53qLNTh0FKU"
   },
   "outputs": [],
   "source": [
    "from pulp import *\n",
    "prob = LpProblem(\"MineSchedulingProblem\", LpMaximize)"
   ]
  },
  {
   "cell_type": "markdown",
   "metadata": {
    "id": "YhWeREMI0FKV"
   },
   "source": [
    "### Add variables"
   ]
  },
  {
   "cell_type": "code",
   "execution_count": 33,
   "metadata": {
    "colab": {
     "base_uri": "https://localhost:8080/"
    },
    "id": "pPdwUNKk0FKW",
    "outputId": "c339fd1a-96a1-4a0f-f36b-27ba359a78f6"
   },
   "outputs": [
    {
     "name": "stdout",
     "output_type": "stream",
     "text": [
      "{'Job1': {'Bull': isFirst_Bull__Job1_}, 'Job2': {'Bull': isFirst_Bull__Job2_}, 'Job3': {'Bull': isFirst_Bull__Job3_, 'SmallDragline': isFirst_SmallDragline__Job3_}, 'Job4': {'SmallDragline': isFirst_SmallDragline__Job4_, 'BigDragline': isFirst_BigDragline__Job4_}, 'Job5': {'SmallDragline': isFirst_SmallDragline__Job5_, 'BigDragline': isFirst_BigDragline__Job5_}, 'Job6': {'BigDragline': isFirst_BigDragline__Job6_}, 'Job7': {'Bull': isFirst_Bull__Job7_, 'SmallDragline': isFirst_SmallDragline__Job7_}, 'Job8': {'SmallDragline': isFirst_SmallDragline__Job8_, 'BigDragline': isFirst_BigDragline__Job8_}, 'Job9': {'SmallDragline': isFirst_SmallDragline__Job9_, 'BigDragline': isFirst_BigDragline__Job9_}, 'Job10': {'BigDragline': isFirst_BigDragline__Job10_}, 'Job11': {'Bull': isFirst_Bull__Job11_}, 'Job12': {'Bull': isFirst_Bull__Job12_}, 'Job13': {'Bull': isFirst_Bull__Job13_, 'SmallDragline': isFirst_SmallDragline__Job13_}, 'Job14': {'SmallDragline': isFirst_SmallDragline__Job14_, 'BigDragline': isFirst_BigDragline__Job14_}, 'Job15': {'SmallDragline': isFirst_SmallDragline__Job15_, 'BigDragline': isFirst_BigDragline__Job15_}, 'Job16': {'BigDragline': isFirst_BigDragline__Job16_}, 'Job17': {'SmallDragline': isFirst_SmallDragline__Job17_, 'BigDragline': isFirst_BigDragline__Job17_}, 'Job18': {'SmallDragline': isFirst_SmallDragline__Job18_, 'BigDragline': isFirst_BigDragline__Job18_}, 'Job19': {'BigDragline': isFirst_BigDragline__Job19_}}\n",
      "{'Job1': {'Bull': Allocation_Job1__Bull_}, 'Job2': {'Bull': Allocation_Job2__Bull_}, 'Job3': {'Bull': Allocation_Job3__Bull_, 'SmallDragline': Allocation_Job3__SmallDragline_}, 'Job4': {'SmallDragline': Allocation_Job4__SmallDragline_, 'BigDragline': Allocation_Job4__BigDragline_}, 'Job5': {'SmallDragline': Allocation_Job5__SmallDragline_, 'BigDragline': Allocation_Job5__BigDragline_}, 'Job6': {'BigDragline': Allocation_Job6__BigDragline_}, 'Job7': {'Bull': Allocation_Job7__Bull_, 'SmallDragline': Allocation_Job7__SmallDragline_}, 'Job8': {'SmallDragline': Allocation_Job8__SmallDragline_, 'BigDragline': Allocation_Job8__BigDragline_}, 'Job9': {'SmallDragline': Allocation_Job9__SmallDragline_, 'BigDragline': Allocation_Job9__BigDragline_}, 'Job10': {'BigDragline': Allocation_Job10__BigDragline_}, 'Job11': {'Bull': Allocation_Job11__Bull_}, 'Job12': {'Bull': Allocation_Job12__Bull_}, 'Job13': {'Bull': Allocation_Job13__Bull_, 'SmallDragline': Allocation_Job13__SmallDragline_}, 'Job14': {'SmallDragline': Allocation_Job14__SmallDragline_, 'BigDragline': Allocation_Job14__BigDragline_}, 'Job15': {'SmallDragline': Allocation_Job15__SmallDragline_, 'BigDragline': Allocation_Job15__BigDragline_}, 'Job16': {'BigDragline': Allocation_Job16__BigDragline_}, 'Job17': {'SmallDragline': Allocation_Job17__SmallDragline_, 'BigDragline': Allocation_Job17__BigDragline_}, 'Job18': {'SmallDragline': Allocation_Job18__SmallDragline_, 'BigDragline': Allocation_Job18__BigDragline_}, 'Job19': {'BigDragline': Allocation_Job19__BigDragline_}}\n"
     ]
    }
   ],
   "source": [
    "#allocationVar[vJob][vMachine] & isFirst[vJob][vMachine]\n",
    "allocationVar = dict()\n",
    "isFirstVar = dict()  #Jobs that each machine can do\n",
    "for iJob,vJob in enumerate(jobMachineDF['Job']):\n",
    "    vMachine = jobMachineDF['Machine'][iJob]\n",
    "    if not vJob in allocationVar : allocationVar[vJob] = dict() \n",
    "    if not vJob in isFirstVar : isFirstVar[vJob] = dict() \n",
    "    allocationVar[vJob][vMachine] = LpVariable(\"Allocation[%s][%s]\"%(vJob,vMachine), cat='Binary')\n",
    "    isFirstVar[vJob][vMachine] = LpVariable(\"isFirst[%s][%s]\"%(vMachine, vJob), cat='Binary') \n",
    "\n",
    "print(isFirstVar)\n",
    "print(allocationVar)\n",
    "#startVar[vJob] and isOver[vJob]\n",
    "startVar = dict()\n",
    "isOverVar = dict() # \n",
    "for vJob in jobDF['Id'] :\n",
    "    startVar[vJob] = LpVariable(\"Start[%s]\"%(vJob), lowBound=0, upBound=horizonDuration, cat='Continuous')\n",
    "    isOverVar[vJob] = LpVariable(\"IsOver[%s]\"%(vJob), lowBound=0, cat='Binary')\n",
    "\n",
    "    \n",
    "#isSuccessor[vMachine][vJob1-vJob2] = 1 if vJob2 is the direct successor of vJob1\n",
    "isSuccessorVar = dict()  # successor job after the previous job is done regarding a machine \n",
    "for iMachine,vMachine in enumerate(switchingDF['Machine']):\n",
    "    vJob1 = switchingDF['Job1'][iMachine]\n",
    "    vJob2 = switchingDF['Job2'][iMachine]\n",
    "    if not vMachine in isSuccessorVar : isSuccessorVar[vMachine] = dict()\n",
    "    if not vJob1 in isSuccessorVar[vMachine] : isSuccessorVar[vMachine][vJob1] = dict() \n",
    "    if not vJob2 in isSuccessorVar[vMachine] : isSuccessorVar[vMachine][vJob2] = dict() \n",
    "    isSuccessorVar[vMachine][vJob1][vJob2] = LpVariable(\"IsSuccessor[%s][%s][%s]\"%(vMachine, vJob1, vJob2), cat='Binary')\n",
    "\n"
   ]
  },
  {
   "cell_type": "markdown",
   "metadata": {
    "id": "ZSQAFYpV0FKX"
   },
   "source": [
    "### Add objective"
   ]
  },
  {
   "cell_type": "code",
   "execution_count": 5,
   "metadata": {
    "id": "X0KlAbVn0FKY"
   },
   "outputs": [],
   "source": [
    "Production=jobDF.set_index('Id').to_dict()['Production']  # Job & Production\n",
    "\n",
    "\n",
    "obj = LpAffineExpression()\n",
    "obj += lpSum([isOverVar[j] * Production[j] for j in jobDF['Id']])\n",
    "prob += obj\n"
   ]
  },
  {
   "cell_type": "markdown",
   "metadata": {
    "id": "8JQLn-mR0FKY"
   },
   "source": [
    "### Add constraints"
   ]
  },
  {
   "cell_type": "code",
   "execution_count": 6,
   "metadata": {
    "id": "r9_J704w0FKZ"
   },
   "outputs": [],
   "source": [
    "#Max one allocation per job\n",
    "#Define a dictionary : key = Job, value = Associated machines\n",
    "for vJob in jobDF['Id']:\n",
    "    prob += lpSum([allocationVar[vJob][vMachine] for vMachine in allocationVar[vJob].keys()])<=1\n"
   ]
  },
  {
   "cell_type": "code",
   "execution_count": 7,
   "metadata": {
    "id": "JVez0Q9x0FKZ"
   },
   "outputs": [],
   "source": [
    "#Max one \"isFirst\" job per\n",
    "for vMachine in paramDF['Machine']:\n",
    "        vJobs=jobMachineDF.loc[jobMachineDF['Machine'] == vMachine , 'Job']\n",
    "        prob += lpSum([isFirstVar[vJob][vMachine] for vJob in vJobs])<=1, \"IsFirstOnMachine[%s]\"%(vMachine)"
   ]
  },
  {
   "cell_type": "code",
   "execution_count": 8,
   "metadata": {
    "id": "5DJCB0-A0FKZ"
   },
   "outputs": [],
   "source": [
    "#Constraint stating the \"start\" variable\n",
    "#Start[j’] >= Start[j] + duration[j][m] + switchingTime[m][j][j’]  - BigM * (1 - isSuccessor[m][j][j’])\n",
    "#Start[j'] - Start[j] - BigM * isSuccessor[m][j][j'] >= duration[j][m] + switchingTime[m][j][j’] - BigM\n",
    "BigM=100000\n",
    "for iMachine,vMachine in enumerate(switchingDF['Machine']):\n",
    "    Job1=str(switchingDF['Job1'][iMachine])\n",
    "    Job2=str(switchingDF['Job2'][iMachine])\n",
    "    duration = float(jobMachineDF.loc[(jobMachineDF['Machine']==vMachine)&(jobMachineDF['Job']==Job1),'Duration'])\n",
    "    duration2 = float(jobMachineDF.loc[(jobMachineDF['Machine']==vMachine)&(jobMachineDF['Job']==Job2),'Duration'])\n",
    "    SwitchingTime = float(switchingDF['SwitchingTime (day)'][iMachine])\n",
    "    #print(Job1)\n",
    "    #print(Job2)\n",
    "    #print(duration)\n",
    "    #print(SwitchingTime)\n",
    "    prob+=startVar[Job2]>=startVar[Job1] + duration + SwitchingTime-BigM*(1-isSuccessorVar[vMachine][Job1][Job2])\n",
    "\n",
    "    "
   ]
  },
  {
   "cell_type": "code",
   "execution_count": 9,
   "metadata": {
    "id": "8YB56z1E0FKa"
   },
   "outputs": [],
   "source": [
    "#Constraint stating the \"isOver\" variable\n",
    "#start[j] + Sum[m in isPossible[j] ] duration[j][m] * allocation[j][m] <= durationHorizon + BigM * (1 - isOver[j])\n",
    "#start[j] + Sum[m in isPossible[j] ] duration[j][m] * allocation[j][m] + BigM * isOver[j] <= durationHorizon + BigM\n",
    "\n",
    "for vJob in jobDF['Id']:\n",
    "    duration = jobMachineDF[jobMachineDF['Job']==vJob]\n",
    "    durationdict=dict(zip(duration.Machine, duration.Duration))\n",
    "    prob+=startVar[vJob]+lpSum([durationdict[vMachine]*allocationVar[vJob][vMachine] for vMachine in durationdict.keys()])<=horizonDuration+BigM*(1-isOverVar[vJob])\n",
    "    "
   ]
  },
  {
   "cell_type": "code",
   "execution_count": 10,
   "metadata": {
    "id": "JCGLS_GZxkr5"
   },
   "outputs": [],
   "source": [
    "#Define a dictionary : key = Job, value = Associated machines\n",
    "MachineJob_dict = dict(jobMachineDF.groupby('Job')['Machine'].apply(list))"
   ]
  },
  {
   "cell_type": "code",
   "execution_count": 11,
   "metadata": {
    "id": "em2wrvgn0FKa"
   },
   "outputs": [],
   "source": [
    "#Constraint stating that if isOver = 1, then at least one allocation = 1\n",
    "for vJob in jobDF['Id']:\n",
    "    prob+=  isOverVar[vJob] <= lpSum(allocationVar[vJob][vMachine] for vMachine in MachineJob_dict[vJob] )\n",
    "    "
   ]
  },
  {
   "cell_type": "code",
   "execution_count": 12,
   "metadata": {},
   "outputs": [],
   "source": [
    "#If a Job happens, it is either a successor or a first to be done :\n",
    "for iJob,vJob in enumerate(jobMachineDF['Job']):\n",
    "    vMachine = jobMachineDF['Machine'][iJob]\n",
    "    if vMachine in isSuccessorVar:\n",
    "        prob += allocationVar[vJob][vMachine] <= isFirstVar[vJob][vMachine] + lpSum(isSuccessorVar[vMachine][vJob2][vJob] for vJob2 in switchingDF.loc[(switchingDF[\"Machine\"]==vMachine)&(switchingDF[\"Job2\"]==vJob),\"Job1\"])\n",
    "        "
   ]
  },
  {
   "cell_type": "code",
   "execution_count": 13,
   "metadata": {
    "id": "rSXEwOcq0FKb"
   },
   "outputs": [],
   "source": [
    "#Max one successor per job\n",
    "for iJob,vJob in enumerate(jobMachineDF['Job']):\n",
    "    vMachine = jobMachineDF['Machine'][iJob]\n",
    "    if vMachine in isSuccessorVar:\n",
    "        prob += lpSum(isSuccessorVar[vMachine][vJob][OtherJob] for OtherJob in isSuccessorVar[vMachine][vJob]) <= 1\n",
    "        "
   ]
  },
  {
   "cell_type": "code",
   "execution_count": 14,
   "metadata": {
    "id": "ZMBhphcfx5Ae"
   },
   "outputs": [],
   "source": [
    "#other constraint"
   ]
  },
  {
   "cell_type": "code",
   "execution_count": 15,
   "metadata": {
    "id": "Q1Sd4XzMx48r"
   },
   "outputs": [],
   "source": [
    "\n",
    "machine = paramDF[['Machine']]\n",
    "machine_names = machine.Machine.unique()\n",
    "Jobmachine_dict=dict(jobMachineDF.groupby('Machine')['Job'].apply(list))   "
   ]
  },
  {
   "cell_type": "code",
   "execution_count": 16,
   "metadata": {
    "id": "W7k8YxWNyCwU"
   },
   "outputs": [],
   "source": [
    "#Constraint stating that IsSuccessor[m][j1][j2] = 1 --> allocation[j1][m] = 1\n",
    "\n",
    "for i in range(len(switchingDF['Machine'])):\n",
    "    vMachine=switchingDF['Machine'][i]\n",
    "    Job1=switchingDF['Job1'][i]\n",
    "    Job2=switchingDF['Job2'][i]\n",
    "    prob += isSuccessorVar[vMachine][Job1][Job2] <= allocationVar[Job1][vMachine]\n"
   ]
  },
  {
   "cell_type": "code",
   "execution_count": 17,
   "metadata": {
    "id": "aTwLh9UvyCpF"
   },
   "outputs": [],
   "source": [
    "#Constraint stating that if start > 0, then then at least one allocation = 1\n",
    "for vJob in jobDF['Id'] :\n",
    "    prob += startVar[vJob] <= horizonDuration * lpSum(allocationVar[vJob][vMachine] for vMachine in MachineJob_dict[vJob] )\n",
    "    \n",
    "    "
   ]
  },
  {
   "cell_type": "code",
   "execution_count": 18,
   "metadata": {
    "id": "1GtInM4Gx45-"
   },
   "outputs": [],
   "source": [
    "#If Sum allocation = 1, then start >= 1.0\n",
    "for vJob in jobDF['Id']:\n",
    "    prob +=  lpSum(allocationVar[vJob][vMachine] for vMachine in MachineJob_dict[vJob]) <= startVar[vJob]\n",
    "    "
   ]
  },
  {
   "cell_type": "code",
   "execution_count": 19,
   "metadata": {
    "id": "_npyt_mvx43P"
   },
   "outputs": [],
   "source": [
    "## Constraint imposing predecessors : isOver[j] = 1  isOver[vPred] = 1  \n",
    "jPred_dict=dict(zip(jobDF['Id'], jobDF['PredecessorId'])) \n",
    "for j in jobDF['Id']:\n",
    "    if jPred_dict[j] in jobDF['Id']:\n",
    "        prob +=  isOverVar[j] <= isOverVar[jPred_dict[j]]\n"
   ]
  },
  {
   "cell_type": "code",
   "execution_count": 20,
   "metadata": {
    "id": "d1iisqt7x4zA"
   },
   "outputs": [],
   "source": [
    "# Constraint imposing predecessors :   j shall start only once vPred has finished\n",
    "\n",
    "horizonDuration = paramDF['Duration (day)'][0]\n",
    "\n",
    "duration = dict()  #duration[vJob][vMachine]\n",
    "maxDuration = 0.0\n",
    "for iJob,vJob in enumerate(jobMachineDF['Job']):\n",
    "    vMachine = jobMachineDF['Machine'][iJob]\n",
    "    if not vJob in duration : duration[vJob] = dict() \n",
    "    duration[vJob][vMachine] = jobMachineDF['Duration'][iJob]\n",
    "    if duration[vJob][vMachine] > maxDuration : maxDuration = duration[vJob][vMachine]\n",
    "\n",
    "for j in jobDF['Id']:\n",
    "    jPred=jPred_dict[j]\n",
    "    if jPred not in jobDF['Id']:\n",
    "        continue\n",
    "    prob += StartVar[jPred] + lpSum([duration[jPred][m] * allocationVar[jPred][m] for m in MachineJ_dict[jPred]])<= StartVar[j]+BigM*(1-lpSum([allocationVar[j][m] for m in MachineJ_dict[jPred]])),\"Predecessor_Start[%s]_[%s]\"%(j,jPred)\n",
    "    \n",
    "    "
   ]
  },
  {
   "cell_type": "markdown",
   "metadata": {
    "id": "9K5dNm560FKb"
   },
   "source": [
    "### Solve and display results"
   ]
  },
  {
   "cell_type": "code",
   "execution_count": 21,
   "metadata": {
    "colab": {
     "base_uri": "https://localhost:8080/"
    },
    "id": "AOeVBBry0FKb",
    "outputId": "733a1af8-8320-4367-debd-df4da5b916de"
   },
   "outputs": [
    {
     "name": "stdout",
     "output_type": "stream",
     "text": [
      "Status: Optimal\n",
      "Objective =  299.0\n",
      "Allocation_Job10__BigDragline_ = 1.0\n",
      "Allocation_Job11__Bull_ = 1.0\n",
      "Allocation_Job13__SmallDragline_ = 1.0\n",
      "Allocation_Job14__BigDragline_ = 1.0\n",
      "Allocation_Job1__Bull_ = 1.0\n",
      "Allocation_Job3__SmallDragline_ = 1.0\n",
      "IsOver_Job10_ = 1.0\n",
      "IsOver_Job11_ = 1.0\n",
      "IsOver_Job14_ = 1.0\n",
      "IsOver_Job1_ = 1.0\n",
      "IsOver_Job3_ = 1.0\n",
      "IsSuccessor_BigDragline__Job10__Job14_ = 1.0\n",
      "IsSuccessor_Bull__Job1__Job11_ = 1.0\n",
      "IsSuccessor_SmallDragline__Job3__Job13_ = 1.0\n",
      "Start_Job10_ = 1.0\n",
      "Start_Job11_ = 23.904762\n",
      "Start_Job13_ = 50.0\n",
      "Start_Job14_ = 28.933333\n",
      "Start_Job1_ = 1.0\n",
      "Start_Job3_ = 1.0\n"
     ]
    }
   ],
   "source": [
    "prob.writeLP(\"MineSchedulingProblem\", writeSOS=1, mip=1)\n",
    "prob.solve()\n",
    "print(\"Status:\", LpStatus[prob.status])\n",
    "print (\"Objective = \", value(prob.objective))\n",
    "varsDict = {}\n",
    "for v in prob.variables():\n",
    "    varsDict[v.name] = v.varValue\n",
    "    if \"IsOver\" in v.name or \"Start\" in v.name or \"Allocation\" in v.name or \"IsSuccessor\" in v.name:\n",
    "        if v.varValue != 0.0 : print(v.name, \"=\", v.varValue)"
   ]
  },
  {
   "cell_type": "code",
   "execution_count": 22,
   "metadata": {
    "colab": {
     "base_uri": "https://localhost:8080/"
    },
    "id": "UZPQOUBNINj_",
    "outputId": "8c084884-a889-4500-eb14-e6b927316cb9"
   },
   "outputs": [
    {
     "name": "stdout",
     "output_type": "stream",
     "text": [
      "Collecting python-gantt\n",
      "  Downloading python-gantt-0.6.0.tar.gz (53 kB)\n",
      "Collecting svgwrite>=1.1.6\n",
      "  Downloading svgwrite-1.4.1-py3-none-any.whl (66 kB)\n",
      "Collecting clize>=2.0\n",
      "  Downloading clize-4.2.1-py2.py3-none-any.whl (71 kB)\n",
      "Requirement already satisfied: python-dateutil>=2.4 in c:\\users\\hamza.elkassmi\\anaconda3\\lib\\site-packages (from python-gantt) (2.8.1)\n",
      "Requirement already satisfied: six in c:\\users\\hamza.elkassmi\\anaconda3\\lib\\site-packages (from clize>=2.0->python-gantt) (1.15.0)\n",
      "Collecting sigtools>=2.0\n",
      "  Downloading sigtools-2.0.3-py2.py3-none-any.whl (69 kB)\n",
      "Collecting docutils~=0.17.0\n",
      "  Downloading docutils-0.17.1-py2.py3-none-any.whl (575 kB)\n",
      "Requirement already satisfied: attrs<22,>=19.1.0 in c:\\users\\hamza.elkassmi\\anaconda3\\lib\\site-packages (from clize>=2.0->python-gantt) (20.3.0)\n",
      "Collecting od\n",
      "  Downloading od-2.0.1-py3-none-any.whl (3.5 kB)\n",
      "Building wheels for collected packages: python-gantt\n",
      "  Building wheel for python-gantt (setup.py): started\n",
      "  Building wheel for python-gantt (setup.py): finished with status 'done'\n",
      "  Created wheel for python-gantt: filename=python_gantt-0.6.0-py3-none-any.whl size=18548 sha256=b45119070d2304441c03a0276a59d388b1654c183f2c7a56e65a38b003acc92b\n",
      "  Stored in directory: c:\\users\\hamza.elkassmi\\appdata\\local\\pip\\cache\\wheels\\ea\\83\\24\\231ca2c8e3f96e8a1966680a815eb558cf32ab4c12c155ee56\n",
      "Successfully built python-gantt\n",
      "Installing collected packages: svgwrite, sigtools, docutils, od, clize, python-gantt\n",
      "  Attempting uninstall: docutils\n",
      "    Found existing installation: docutils 0.16\n",
      "    Uninstalling docutils-0.16:\n",
      "      Successfully uninstalled docutils-0.16\n",
      "Successfully installed clize-4.2.1 docutils-0.17.1 od-2.0.1 python-gantt-0.6.0 sigtools-2.0.3 svgwrite-1.4.1\n"
     ]
    }
   ],
   "source": [
    "!pip install python-gantt"
   ]
  },
  {
   "cell_type": "code",
   "execution_count": 23,
   "metadata": {
    "colab": {
     "base_uri": "https://localhost:8080/"
    },
    "id": "reLMlmF8IUC_",
    "outputId": "b1858534-8e4f-49c6-8062-ff03476aed20"
   },
   "outputs": [
    {
     "name": "stdout",
     "output_type": "stream",
     "text": [
      "Collecting datetime\n",
      "  Downloading DateTime-4.3-py2.py3-none-any.whl (60 kB)\n",
      "Requirement already satisfied: pytz in c:\\users\\hamza.elkassmi\\anaconda3\\lib\\site-packages (from datetime) (2020.1)\n",
      "Requirement already satisfied: zope.interface in c:\\users\\hamza.elkassmi\\anaconda3\\lib\\site-packages (from datetime) (5.1.2)\n",
      "Requirement already satisfied: setuptools in c:\\users\\hamza.elkassmi\\anaconda3\\lib\\site-packages (from zope.interface->datetime) (50.3.1.post20201107)\n",
      "Installing collected packages: datetime\n",
      "Successfully installed datetime-4.3\n"
     ]
    }
   ],
   "source": [
    "!pip install datetime"
   ]
  },
  {
   "cell_type": "code",
   "execution_count": 24,
   "metadata": {
    "colab": {
     "base_uri": "https://localhost:8080/",
     "height": 127
    },
    "id": "0itsPGpaKNI2",
    "outputId": "3d6fb746-c5d6-4fe4-fbc3-c483abf569b1"
   },
   "outputs": [
    {
     "data": {
      "text/plain": [
       "{'Job1': {'Bull': 17.2},\n",
       " 'Job2': {'Bull': 28.266666666666666},\n",
       " 'Job3': {'Bull': 54.0, 'SmallDragline': 45.0},\n",
       " 'Job4': {'SmallDragline': 46.90909090909091,\n",
       "  'BigDragline': 36.857142857142854},\n",
       " 'Job5': {'SmallDragline': 28.8, 'BigDragline': 24.0},\n",
       " 'Job6': {'BigDragline': 54.0},\n",
       " 'Job7': {'Bull': 34.8, 'SmallDragline': 29.0},\n",
       " 'Job8': {'SmallDragline': 30.90909090909091,\n",
       "  'BigDragline': 24.285714285714285},\n",
       " 'Job9': {'SmallDragline': 34.4, 'BigDragline': 28.666666666666668},\n",
       " 'Job10': {'BigDragline': 24.0},\n",
       " 'Job11': {'Bull': 26.095238095238095},\n",
       " 'Job12': {'Bull': 28.0},\n",
       " 'Job13': {'Bull': 51.27272727272727, 'SmallDragline': 43.38461538461539},\n",
       " 'Job14': {'SmallDragline': 26.333333333333332,\n",
       "  'BigDragline': 21.066666666666666},\n",
       " 'Job15': {'SmallDragline': 18.90909090909091, 'BigDragline': 16.0},\n",
       " 'Job16': {'BigDragline': 22.545454545454547},\n",
       " 'Job17': {'SmallDragline': 47.333333333333336,\n",
       "  'BigDragline': 37.86666666666667},\n",
       " 'Job18': {'SmallDragline': 49.09090909090909,\n",
       "  'BigDragline': 41.53846153846154},\n",
       " 'Job19': {'BigDragline': 46.90909090909091}}"
      ]
     },
     "execution_count": 24,
     "metadata": {},
     "output_type": "execute_result"
    }
   ],
   "source": [
    "duration"
   ]
  },
  {
   "cell_type": "code",
   "execution_count": 25,
   "metadata": {
    "colab": {
     "base_uri": "https://localhost:8080/"
    },
    "id": "x5BSEjFbL1E7",
    "outputId": "b71bc1bc-ecc4-4fec-e766-e70d367493ee"
   },
   "outputs": [
    {
     "name": "stdout",
     "output_type": "stream",
     "text": [
      "1.0\n"
     ]
    }
   ],
   "source": [
    "print(isFirstVar[\"Job1\"]['Bull'].varValue)"
   ]
  },
  {
   "cell_type": "code",
   "execution_count": 26,
   "metadata": {
    "colab": {
     "base_uri": "https://localhost:8080/",
     "height": 235
    },
    "id": "xVNFeAAXIYJv",
    "outputId": "7b5c3ef6-f3b4-4518-f8a8-a078678078dd"
   },
   "outputs": [
    {
     "ename": "IndentationError",
     "evalue": "unexpected unindent (<ipython-input-26-506e892994d6>, line 45)",
     "output_type": "error",
     "traceback": [
      "\u001b[1;36m  File \u001b[1;32m\"<ipython-input-26-506e892994d6>\"\u001b[1;36m, line \u001b[1;32m45\u001b[0m\n\u001b[1;33m    FirstJobDuration=jobMachineDF[jobMachineDF['Job']==FirstJob and jobMachineDF['Machine']==vMachine]['Duration']\u001b[0m\n\u001b[1;37m    ^\u001b[0m\n\u001b[1;31mIndentationError\u001b[0m\u001b[1;31m:\u001b[0m unexpected unindent\n"
     ]
    }
   ],
   "source": [
    "import datetime\n",
    "import gantt\n",
    "\n",
    "# Change font default\n",
    "gantt.define_font_attributes(fill='black',\n",
    "                             stroke='black',\n",
    "                             stroke_width=0,\n",
    "                             font_family=\"Verdana\")\n",
    "\n",
    "\n",
    "# Création des variables ressources\n",
    "my_vars={}\n",
    "for iMac in paramDF['Machine']:\n",
    "    my_vars[iMac]=gantt.Resource(iMac)\n",
    "       \n",
    "# Create a project\n",
    "p = gantt.Project(name='Mining Scheduling Problem')\n",
    "\n",
    "task_vars={}\n",
    "def successorship(FirstJob):\n",
    "    global task_vars\n",
    "    global p\n",
    "    global isSuccessorVar\n",
    "    global vMachine\n",
    "    for oJob in isSuccessorVar[vMachine][FirstJob].keys():\n",
    "        if isSuccessorVar[vMachine][FirstJob][oJob].varValue==1:\n",
    "            #Add Switching :\n",
    "            SwitchingTask=\"Switching Time\"\n",
    "            SwitchingDuration=switchingDF[switchingDF['Job1']==FirstJob and switchingDF['Job2']==oJob and switchingDF['Machine']==vMachine]['SwitchingTime (day)']\n",
    "            ### herenswitching\n",
    "            #Add to the Task :\n",
    "            Task=oJob\n",
    "            duration=jobMachineDF[jobMachineDF['Job']==oJob and jobMachineDF['Machine']==vMachine]['Duration']\n",
    "            ###add here next task\n",
    "            successorship(oJob)\n",
    "            break\n",
    "\n",
    "        \n",
    "for vMachine in paramDF['Machine']:\n",
    "    FirstJob=\"\"\n",
    "    for vJob in isFirstVar.keys():\n",
    "        try:\n",
    "            if isFirstVar[vJob][vMachine].varValue==1 :\n",
    "                FirstJob=vJob\n",
    "    FirstJobDuration=jobMachineDF[jobMachineDF['Job']==FirstJob and jobMachineDF['Machine']==vMachine]['Duration']\n",
    "    ###Add first job to the Gantt\n",
    "    successorship(FirstJob)\n",
    "    ##Code to add the task to gant\n",
    "    \n",
    "        \n",
    "for n in allocationVar.keys():\n",
    "    if allocationVar[n]!= 0: \n",
    "        print(n[0],n[1],startVar[n[0]], jobMachineDF[n[0],n[1]])\n",
    "\n",
    "        task_vars[n[0]] = gantt.Task(name=n[0],\n",
    "                start=datetime.date(2021, 1, 1) + datetime.timedelta(days=startVar[n[0]].varValue),     \n",
    "                duration=durationdict[n[0],n[1]],\n",
    "                resources=[my_vars[n[1]]])\n",
    "        \n",
    "        p.add_task(task_vars[n[0]])\n",
    "\n",
    "##########################$ MAKE DRAW ###############\n",
    "p.make_svg_for_tasks(filename='MSGantt.svg',\n",
    "                      today=datetime.date(2021, 1, 1))\n",
    "\n",
    "##########################$ /MAKE DRAW ###############"
   ]
  },
  {
   "cell_type": "code",
   "execution_count": null,
   "metadata": {},
   "outputs": [],
   "source": [
    "key(isSuccessorVar[\"Bull\"][\"Job1\"][\"Job2\"])"
   ]
  },
  {
   "cell_type": "code",
   "execution_count": null,
   "metadata": {},
   "outputs": [],
   "source": []
  }
 ],
 "metadata": {
  "colab": {
   "collapsed_sections": [],
   "name": "MineScheduling_vIni2.ipynb",
   "provenance": []
  },
  "kernelspec": {
   "display_name": "Python 3",
   "language": "python",
   "name": "python3"
  },
  "language_info": {
   "codemirror_mode": {
    "name": "ipython",
    "version": 3
   },
   "file_extension": ".py",
   "mimetype": "text/x-python",
   "name": "python",
   "nbconvert_exporter": "python",
   "pygments_lexer": "ipython3",
   "version": "3.8.5"
  }
 },
 "nbformat": 4,
 "nbformat_minor": 4
}
