{
 "cells": [
  {
   "cell_type": "markdown",
   "metadata": {},
   "source": [
    "### Read the data from the input Excel file"
   ]
  },
  {
   "cell_type": "code",
   "execution_count": 5,
   "metadata": {},
   "outputs": [],
   "source": [
    "import pandas as pd\n",
    "inputFileName = \"MineScheduling_miniDataSet.xlsx\"\n",
    "paramDF = pd.read_excel(inputFileName, \"Param\", skiprows=0)\n",
    "jobDF = pd.read_excel(inputFileName, \"Job\", skiprows=0)\n",
    "jobMachineDF = pd.read_excel(inputFileName, \"JobMachine\", skiprows=0)\n",
    "switchingDF = pd.read_excel(inputFileName, \"Switching\", skiprows=0)"
   ]
  },
  {
   "cell_type": "markdown",
   "metadata": {},
   "source": [
    "### Set the data into dict + compute maxDuration"
   ]
  },
  {
   "cell_type": "code",
   "execution_count": 7,
   "metadata": {
    "tags": []
   },
   "outputs": [],
   "source": [
    "horizonDuration = paramDF['Duration (day)'][0]\n",
    "\n",
    "duration = dict()  #duration[vJob][vMachine]\n",
    "maxDuration = 0.0\n",
    "for iJob,vJob in enumerate(jobMachineDF['Job']):\n",
    "    vMachine = jobMachineDF['Machine'][iJob]\n",
    "    if not vJob in duration : duration[vJob] = dict() \n",
    "    duration[vJob][vMachine] = jobMachineDF['Duration'][iJob]\n",
    "    if duration[vJob][vMachine] > maxDuration : maxDuration = duration[vJob][vMachine]\n"
   ]
  },
  {
   "cell_type": "markdown",
   "metadata": {},
   "source": [
    "### Create your linear program"
   ]
  },
  {
   "cell_type": "code",
   "execution_count": 93,
   "metadata": {},
   "outputs": [],
   "source": [
    "import pulp\n",
    "prob = LpProblem(\"MineSchedulingProblem\", LpMaximize)  "
   ]
  },
  {
   "cell_type": "code",
   "execution_count": null,
   "metadata": {},
   "outputs": [],
   "source": []
  },
  {
   "cell_type": "markdown",
   "metadata": {},
   "source": [
    "### Add variables"
   ]
  },
  {
   "cell_type": "code",
   "execution_count": 94,
   "metadata": {},
   "outputs": [],
   "source": [
    " #allocationVar[vJob][vMachine] & isFirst[vJob][vMachine]\n",
    "allocationVar = dict()\n",
    "isFirstVar = dict()\n",
    "for iJob,vJob in enumerate(jobMachineDF['Job']):\n",
    "    vMachine = jobMachineDF['Machine'][iJob]\n",
    "    if not vJob in allocationVar : allocationVar[vJob] = dict() \n",
    "    if not vJob in isFirstVar : isFirstVar[vJob] = dict() \n",
    "    allocationVar[vJob][vMachine] = LpVariable(\"Allocation[%s][%s]\"%(vJob,vMachine), cat='Binary')\n",
    "    isFirstVar[vJob][vMachine] = LpVariable(\"isFirst[%s][%s]\"%(vMachine, vJob), cat='Binary') \n",
    "    \n",
    "#startVar[vJob] and isOver[vJob]\n",
    "startVar = dict()\n",
    "isOverVar = dict()\n",
    "for vJob in jobDF['Id'] :\n",
    "    startVar[vJob] = LpVariable(\"Start[%s]\"%(vJob), lowBound=0, upBound=horizonDuration, cat='Continuous')\n",
    "    isOverVar[vJob] = LpVariable(\"IsOver[%s]\"%(vJob), lowBound=0, cat='Binary')\n",
    "\n",
    "    \n",
    "#isSuccessor[vMachine][vJob1-vJob2] = 1 if vJob2 is the direct successor of vJob1\n",
    "isSuccessorVar = dict()  \n",
    "for iMachine,vMachine in enumerate(switchingDF['Machine']):\n",
    "    vJob1 = switchingDF['Job1'][iMachine]\n",
    "    vJob2 = switchingDF['Job2'][iMachine]\n",
    "    if not vMachine in isSuccessorVar : isSuccessorVar[vMachine] = dict()\n",
    "    if not vJob1 in isSuccessorVar[vMachine] : isSuccessorVar[vMachine][vJob1] = dict() \n",
    "    if not vJob2 in isSuccessorVar[vMachine] : isSuccessorVar[vMachine][vJob2] = dict() \n",
    "    isSuccessorVar[vMachine][vJob1][vJob2] = LpVariable(\"IsSuccessor[%s][%s][%s]\"%(vMachine, vJob1, vJob2), cat='Binary')\n",
    "    isSuccessorVar[vMachine][vJob2][vJob1] = LpVariable(\"IsSuccessor[%s][%s][%s]\"%(vMachine, vJob2, vJob1), cat='Binary')  \n",
    "                             "
   ]
  },
  {
   "cell_type": "markdown",
   "metadata": {},
   "source": [
    "### Add objective"
   ]
  },
  {
   "cell_type": "code",
   "execution_count": 95,
   "metadata": {},
   "outputs": [],
   "source": [
    "\n",
    "Production=jobDF.set_index('Id').to_dict()['Production']\n",
    "Production\n",
    "obj = lpSum([Production[i]*isOverVar[i] for i in Production.keys()])\n",
    "\n",
    "#obj += lpSum(...)\n",
    "\n",
    "prob += obj\n"
   ]
  },
  {
   "cell_type": "markdown",
   "metadata": {},
   "source": [
    "### Add constraints"
   ]
  },
  {
   "cell_type": "code",
   "execution_count": 96,
   "metadata": {},
   "outputs": [],
   "source": [
    "#Max one allocation per job\n",
    "for vJob in jobDF['Id']:\n",
    "    prob += lpSum([allocationVar[vJob][vMachine] for vMachine in allocationVar[vJob].keys()])<=1\n"
   ]
  },
  {
   "cell_type": "code",
   "execution_count": 97,
   "metadata": {},
   "outputs": [],
   "source": [
    "#Max one \"isFirst\" job per\n",
    "for vMachine in paramDF['Machine']:\n",
    "        vJobs=jobMachineDF.loc[jobMachineDF['Machine'] == vMachine , 'Job']\n",
    "        prob += lpSum([isFirstVar[vJob][vMachine] for vJob in vJobs])<=1"
   ]
  },
  {
   "cell_type": "code",
   "execution_count": 98,
   "metadata": {},
   "outputs": [],
   "source": [
    "#Constraint stating the \"start\" variable\n",
    "#Start[j’] >= Start[j] + duration[j][m] + switchingTime[m][j][j’]  - BigM * (1 - isSuccessor[m][j][j’])\n",
    "#Start[j'] - Start[j] - BigM * isSuccessor[m][j][j'] >= duration[j][m] + switchingTime[m][j][j’] - BigM\n",
    "BigM=100000\n",
    "for iMachine,vMachine in enumerate(switchingDF['Machine']):\n",
    "    Job1=str(switchingDF['Job1'][iMachine])\n",
    "    Job2=str(switchingDF['Job2'][iMachine])\n",
    "    duration = float(jobMachineDF.loc[(jobMachineDF['Machine']==vMachine)&(jobMachineDF['Job']==Job1),'Duration'])\n",
    "    SwitchingTime = float(switchingDF['SwitchingTime (day)'][iMachine])\n",
    "    #print(Job1)\n",
    "    #print(Job2)\n",
    "    #print(duration)\n",
    "    #print(SwitchingTime)\n",
    "    prob+=startVar[Job2]>=startVar[Job1] + duration + SwitchingTime-BigM*(1-isSuccessorVar[vMachine][Job1][Job2])"
   ]
  },
  {
   "cell_type": "code",
   "execution_count": 103,
   "metadata": {},
   "outputs": [],
   "source": [
    "#Constraint stating the \"isOver\" variable\n",
    "#start[j] + Sum[m in isPossible[j] ] duration[j][m] * allocation[j][m] <= durationHorizon + BigM * (1 - isOver[j])\n",
    "#start[j] + Sum[m in isPossible[j] ] duration[j][m] * allocation[j][m] + BigM * isOver[j] <= durationHorizon + BigM\n",
    "\n",
    "for vJob in jobDF['Id']:\n",
    "    duration = jobMachineDF[jobMachineDF['Job']==vJob]\n",
    "    durationdict=dict(zip(duration.Machine, duration.Duration))\n",
    "    prob+=startVar[vJob]+lpSum([durationdict[vMachine]*allocationVar[vJob][vMachine] for vMachine in durationdict.keys()])<=horizonDuration+BigM*(1-isOverVar[vJob])"
   ]
  },
  {
   "cell_type": "code",
   "execution_count": 17,
   "metadata": {},
   "outputs": [],
   "source": [
    "#Constraint stating that to be allocated, a job shall either be the first, or be the successor of another job\n",
    "# allocationVar[vJob][vMachine] <= isFirst[vJob][vMachine] + sum[otherJobs oJob] isSuccessor[vMachine][oJob][vJob]\n",
    "for iJob,vJob in enumerate(jobMachineDF['Job']):\n",
    "    allocationVar[vJob][vMachine]<="
   ]
  },
  {
   "cell_type": "code",
   "execution_count": 18,
   "metadata": {},
   "outputs": [],
   "source": [
    "#Constraint stating that if isOver = 1, then at least one allocation = 1\n",
    "for vJob in jobDF['Id']:\n",
    "    #XXX"
   ]
  },
  {
   "cell_type": "code",
   "execution_count": 19,
   "metadata": {},
   "outputs": [],
   "source": [
    "#Max one successor per job\n",
    "for iJob,vJob in enumerate(jobMachineDF['Job']):\n",
    "    #XXX"
   ]
  },
  {
   "cell_type": "markdown",
   "metadata": {},
   "source": [
    "### Solve and display results"
   ]
  },
  {
   "cell_type": "code",
   "execution_count": 106,
   "metadata": {},
   "outputs": [
    {
     "name": "stdout",
     "output_type": "stream",
     "text": [
      "Status: Optimal\n",
      "Objective =  474.0\n",
      "IsOver_Job10_ = 1.0\n",
      "IsOver_Job1_ = 1.0\n",
      "IsOver_Job2_ = 1.0\n",
      "IsOver_Job3_ = 1.0\n",
      "IsOver_Job4_ = 1.0\n",
      "IsOver_Job5_ = 1.0\n",
      "IsOver_Job6_ = 1.0\n",
      "IsOver_Job7_ = 1.0\n",
      "IsOver_Job8_ = 1.0\n",
      "IsOver_Job9_ = 1.0\n"
     ]
    }
   ],
   "source": [
    "prob.writeLP(\"mineSchedulingProblem.lp\", writeSOS=1, mip=1)\n",
    "prob.solve()\n",
    "print(\"Status:\", LpStatus[prob.status])\n",
    "print (\"Objective = \", value(prob.objective))\n",
    "varsDict = {}\n",
    "for v in prob.variables():\n",
    "    varsDict[v.name] = v.varValue\n",
    "    if \"IsOver\" in v.name or \"Start\" in v.name or \"Allocation\" in v.name:\n",
    "        if v.varValue != 0.0 : print(v.name, \"=\", v.varValue)"
   ]
  },
  {
   "cell_type": "code",
   "execution_count": null,
   "metadata": {},
   "outputs": [],
   "source": []
  }
 ],
 "metadata": {
  "kernelspec": {
   "display_name": "Python 3",
   "language": "python",
   "name": "python3"
  },
  "language_info": {
   "codemirror_mode": {
    "name": "ipython",
    "version": 3
   },
   "file_extension": ".py",
   "mimetype": "text/x-python",
   "name": "python",
   "nbconvert_exporter": "python",
   "pygments_lexer": "ipython3",
   "version": "3.8.8"
  }
 },
 "nbformat": 4,
 "nbformat_minor": 4
}
