{
 "cells": [
  {
   "cell_type": "markdown",
   "metadata": {},
   "source": [
    "### Read and set the data into list and dict, easier to manipulate"
   ]
  },
  {
   "cell_type": "code",
   "execution_count": 1,
   "metadata": {},
   "outputs": [],
   "source": [
    "import pandas as pd\n",
    "import matplotlib.pyplot as plt\n",
    "\n",
    "inputFileName = \"Data_Newsvendor.xlsx\"\n",
    "param_data = pd.read_excel(inputFileName, \"Param\", skiprows=0)\n",
    "demand_data = pd.read_excel(inputFileName, \"Demand\", skiprows=0)\n",
    "\n",
    "unitCost = param_data['Value'][0]\n",
    "salesPrice = param_data['Value'][1]\n",
    "liqPrice = param_data['Value'][2]"
   ]
  },
  {
   "cell_type": "code",
   "execution_count": 4,
   "metadata": {},
   "outputs": [
    {
     "data": {
      "image/png": "[encoded data removed]",
      "text/plain": [
       "<Figure size 432x288 with 1 Axes>"
      ]
     },
     "metadata": {
      "needs_background": "light"
     },
     "output_type": "display_data"
    }
   ],
   "source": [
    "nbScenarios = int(param_data['Value'][3])\n",
    "probaScenario = 1/float(nbScenarios)\n",
    "\n",
    "\n",
    "#Display the demand\n",
    "plt.hist((demand_data['Demand']), color = 'blue', edgecolor = 'black', bins = 20)\n",
    "\n",
    "# Add labels\n",
    "plt.title('Demand distribution')\n",
    "plt.xlabel('Demand range')\n",
    "plt.ylabel('Nb of scenarios')\n",
    "\n",
    "plt.show()"
   ]
  },
  {
   "cell_type": "markdown",
   "metadata": {},
   "source": [
    "### Create your linear program"
   ]
  },
  {
   "cell_type": "code",
   "execution_count": 10,
   "metadata": {},
   "outputs": [
    {
     "name": "stdout",
     "output_type": "stream",
     "text": [
      "Status: Optimal\n",
      "Objective =  703.5000000000002\n",
      "Optimal purchase = 70.00\n"
     ]
    },
    {
     "data": {
      "image/png": "[encoded data removed]",
      "text/plain": [
       "<Figure size 432x288 with 1 Axes>"
      ]
     },
     "metadata": {
      "needs_background": "light"
     },
     "output_type": "display_data"
    }
   ],
   "source": [
    "from pulp import *\n",
    "\n",
    "withChanceConstraint = 1 #=1 to use the chance constraint over soldOut\n",
    "withCVaR = 0  #= 1 to compute CVaR and to limit it through a constraint\n",
    "probaForCVaR = 0.1\n",
    "\n",
    "prob = LpProblem(\"Newsvendor\", LpMaximize)\n",
    "\n",
    "purchaseVar = #TBC\n",
    "\n",
    "salesVar = #TBC\n",
    "liqVar = #TBC\n",
    "revenueVar = #TBC\n",
    "\n",
    "\n",
    "\n",
    "#Objective\n",
    "prob += #TBC\n",
    "\n",
    "    \n",
    "#Constraints\n",
    "for iScenario in range(nbScenarios):\n",
    "    \n",
    "    #Constraint maxSales\n",
    "    prob += #TBC\n",
    "    \n",
    "    #Constraints defining the liq and revenue variables\n",
    "    prob += #TBC\n",
    "    prob += #TBC\n",
    "    \n",
    "\n",
    "\n",
    "prob.writeLP(\"newsvendorProblem.lp\", writeSOS=1, mip=1)\n",
    "prob.solve()\n",
    "print(\"Status:\", LpStatus[prob.status])\n",
    "print (\"Objective = \", value(prob.objective))\n",
    "\n",
    "varsDict = {}\n",
    "for v in prob.variables():\n",
    "    varsDict[v.name] = v.varValue\n",
    "    #if v.varValue != 0.0 : print(v.name, \"=\", v.varValue)\n",
    "\n",
    "print(\"Optimal purchase = %.2f\"%(varsDict[\"Purchase\"]))\n",
    "if withCVaR :print(\"CVaR = %.2f\"%(varsDict[\"CVaRVar\"]))\n",
    "\n",
    "revenueResults = []\n",
    "for iScenario in range(nbScenarios):\n",
    "    revenueResults.append(varsDict[\"Revenue_%d\"%(iScenario)])\n",
    "        \n",
    "\n",
    "#Display the revenue distribution\n",
    "plt.hist(revenueResults, color = 'blue', edgecolor = 'black', bins = 20)\n",
    "\n",
    "# Add labels\n",
    "plt.title('revenue distribution')\n",
    "plt.xlabel('revenue range')\n",
    "plt.ylabel('Nb of scenarios')\n",
    "\n",
    "plt.show()\n",
    "\n",
    "\n"
   ]
  }
 ],
 "metadata": {
  "kernelspec": {
   "display_name": "Python 3",
   "language": "python",
   "name": "python3"
  },
  "language_info": {
   "codemirror_mode": {
    "name": "ipython",
    "version": 3
   },
   "file_extension": ".py",
   "mimetype": "text/x-python",
   "name": "python",
   "nbconvert_exporter": "python",
   "pygments_lexer": "ipython3",
   "version": "3.8.3"
  }
 },
 "nbformat": 4,
 "nbformat_minor": 4
}
