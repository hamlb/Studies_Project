{
 "cells": [
  {
   "cell_type": "markdown",
   "metadata": {},
   "source": [
    "### Read and set the data into list and dict, easier to manipulate"
   ]
  },
  {
   "cell_type": "code",
   "execution_count": 66,
   "metadata": {},
   "outputs": [],
   "source": [
    "import pandas as pd\n",
    "inputFileName = \"Data_Knapsack.xlsx\"\n",
    "param_data = pd.read_excel(inputFileName, \"Param\", skiprows=0)\n",
    "data = pd.read_excel(inputFileName, \"Instance\", skiprows=0)\n",
    "\n",
    "nbItems = param_data['Value'][0]  #10000\n",
    "\n",
    "weights = data['Weight']\n",
    "values = data['Value']\n",
    "totalWeight = sum(weights[iItem] for iItem in range(nbItems))\n"
   ]
  },
  {
   "cell_type": "markdown",
   "metadata": {},
   "source": [
    "### Create your linear program"
   ]
  },
  {
   "cell_type": "code",
   "execution_count": 77,
   "metadata": {},
   "outputs": [
    {
     "name": "stdout",
     "output_type": "stream",
     "text": [
      "Run iteration 0  with lambda=0.05\n",
      "Results with lambda=5.00 --> 21.00 in 0.00 time unit\n",
      "Run iteration 1  with lambda=0.10\n",
      "Results with lambda=10.00 --> 21.00 in 0.00 time unit\n",
      "Run iteration 2  with lambda=0.15\n",
      "Results with lambda=15.00 --> 21.00 in 1.56 time unit\n",
      "Run iteration 3  with lambda=0.20\n",
      "Results with lambda=20.00 --> 21.00 in 0.00 time unit\n",
      "Run iteration 4  with lambda=0.25\n",
      "Results with lambda=25.00 --> 21.00 in 0.00 time unit\n",
      "Run iteration 5  with lambda=0.30\n",
      "Results with lambda=30.00 --> 21.00 in 0.00 time unit\n",
      "Run iteration 6  with lambda=0.35\n",
      "Results with lambda=35.00 --> 21.00 in 0.00 time unit\n",
      "Run iteration 7  with lambda=0.40\n",
      "Results with lambda=40.00 --> 21.00 in 1.56 time unit\n",
      "Run iteration 8  with lambda=0.45\n",
      "Results with lambda=45.00 --> 21.00 in 0.00 time unit\n"
     ]
    }
   ],
   "source": [
    "from pulp import *\n",
    "\n",
    "lambdaTab = []\n",
    "elapsedTime = []\n",
    "objective = []\n",
    "\n",
    "\n",
    "nbIteration = 9\n",
    "for iIteration in range(nbIteration): #iteration to compute the results for different capacity values\n",
    "    iLambda = (iIteration+1)/(2.0*float(nbIteration+1))\n",
    "    capacity = int(iLambda*totalWeight)\n",
    "    print(\"Run iteration\", iIteration, \" with lambda=%.2f\"%(iLambda))\n",
    "    \n",
    "    #Create the Linear Problem\n",
    "    prob = LpProblem(\"Knapsack\", LpMaximize)\n",
    "    \n",
    "    #Add variables\n",
    "    selectVar = dict()\n",
    "    for iItem in range(nbItems):\n",
    "        #selectVar[iItem] = TBC\n",
    "        \n",
    "    #Objective\n",
    "    #prob += TBC\n",
    "    \n",
    "    #Capacity cst\n",
    "    #prob += TBC\n",
    "\n",
    "    #Write LP file and solve with default solver\n",
    "    prob.writeLP(\"knapsackProblem.lp\", writeSOS=1, mip=1)\n",
    "    prob.solve()\n",
    "    \n",
    "    lambdaTab.append(100.0*iLambda)\n",
    "    elapsedTime.append(100*prob.solutionTime)\n",
    "    objective.append(value(prob.objective))\n",
    "    \n",
    "    print(\"Results with lambda=%.2f --> %.2f in %.2f time unit\"%(lambdaTab[iIteration], objective[iIteration], elapsedTime[iIteration]))\n",
    "    #varsDict = {}\n",
    "    #for v in prob.variables():\n",
    "    #    varsDict[v.name] = v.varValue\n",
    "    #    if v.varValue != 0.0 : print(v.name, \"=\", v.varValue)\n",
    "    \n"
   ]
  },
  {
   "cell_type": "code",
   "execution_count": 73,
   "metadata": {},
   "outputs": [
    {
     "data": {
      "image/png": "[encoded data removed]",
      "text/plain": [
       "<Figure size 432x288 with 2 Axes>"
      ]
     },
     "metadata": {
      "needs_background": "light"
     },
     "output_type": "display_data"
    }
   ],
   "source": [
    "import matplotlib.pyplot as plt\n",
    "\n",
    "fig, ax1 = plt.subplots()\n",
    "\n",
    "color = 'tab:red'\n",
    "ax1.set_xlabel('maxWeight(%)')\n",
    "ax1.set_ylabel('Obj', color=color)\n",
    "ax1.plot(lambdaTab, objective, color=color)\n",
    "ax1.tick_params(axis='y', labelcolor=color)\n",
    "\n",
    "ax2 = ax1.twinx()  # instantiate a second axes that shares the same x-axis\n",
    "\n",
    "color = 'tab:blue'\n",
    "ax2.set_ylabel('Time', color=color)  # we already handled the x-label with ax1\n",
    "ax2.plot(lambdaTab, elapsedTime, color=color)\n",
    "ax2.tick_params(axis='y', labelcolor=color)\n",
    "\n",
    "fig.tight_layout()  # otherwise the right y-label is slightly clipped\n",
    "plt.show()"
   ]
  }
 ],
 "metadata": {
  "kernelspec": {
   "display_name": "Python 3",
   "language": "python",
   "name": "python3"
  },
  "language_info": {
   "codemirror_mode": {
    "name": "ipython",
    "version": 3
   },
   "file_extension": ".py",
   "mimetype": "text/x-python",
   "name": "python",
   "nbconvert_exporter": "python",
   "pygments_lexer": "ipython3",
   "version": "3.8.3"
  }
 },
 "nbformat": 4,
 "nbformat_minor": 4
}
