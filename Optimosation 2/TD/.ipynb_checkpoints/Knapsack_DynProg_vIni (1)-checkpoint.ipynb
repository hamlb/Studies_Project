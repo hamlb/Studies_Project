{
 "cells": [
  {
   "cell_type": "markdown",
   "metadata": {},
   "source": [
    "### Read and set the data into list and dict, easier to manipulate"
   ]
  },
  {
   "cell_type": "code",
   "execution_count": 3,
   "metadata": {},
   "outputs": [],
   "source": [
    "import pandas as pd\n",
    "inputFileName = \"Data_Knapsack.xlsx\"\n",
    "param_data = pd.read_excel(inputFileName, \"Param\", skiprows=0)\n",
    "data = pd.read_excel(inputFileName, \"Instance\", skiprows=0)\n",
    "\n",
    "nbItems = param_data['Value'][0]  #10000\n",
    "\n",
    "items = data['Item']\n",
    "weights = data['Weight']\n",
    "values = data['Value']\n",
    "totalWeight = sum(weights[iItem] for iItem in range(nbItems))\n",
    "\n",
    "capacity = int(0.2 * totalWeight)"
   ]
  },
  {
   "cell_type": "markdown",
   "metadata": {},
   "source": [
    "### Naive recursive solution"
   ]
  },
  {
   "cell_type": "code",
   "execution_count": 4,
   "metadata": {},
   "outputs": [
    {
     "name": "stdout",
     "output_type": "stream",
     "text": [
      "With recursiveKnapsack, result = 287\n"
     ]
    }
   ],
   "source": [
    "def recursiveKnapsack(capacity, weights, values, nbItems):\n",
    "        \n",
    "    #Base case \n",
    "    if nbItems==0 or capacity<=0:\n",
    "        return 0\n",
    "    \n",
    "    #if capacity is lesser than the weight of the last item, then this item cannot be included in the optimal solution\n",
    "    if (weights[nbItems-1] > capacity):\n",
    "        return recursiveKnapsack(capacity, weights, values, nbItems-1)\n",
    "    \n",
    "    else :\n",
    "        return max(values[nbItems-1] + recursiveKnapsack(capacity-weights[nbItems-1], weights, values, nbItems-1), \\\n",
    "                   recursiveKnapsack(capacity, weights, values, nbItems-1))\n",
    "\n",
    "\n",
    "\n",
    "print(\"With recursiveKnapsack, result =\", recursiveKnapsack(capacity, weights, values, nbItems))"
   ]
  },
  {
   "cell_type": "markdown",
   "metadata": {},
   "source": [
    "### Dynamic programming"
   ]
  },
  {
   "cell_type": "code",
   "execution_count": 3,
   "metadata": {},
   "outputs": [
    {
     "name": "stdout",
     "output_type": "stream",
     "text": [
      "With DynProgramming, result = (15.0, array([1, 3, 4]), 10.0)\n"
     ]
    },
    {
     "data": {
      "image/png": "[encoded data removed]",
      "text/plain": [
       "<Figure size 432x288 with 2 Axes>"
      ]
     },
     "metadata": {
      "needs_background": "light"
     },
     "output_type": "display_data"
    }
   ],
   "source": [
    "import numpy as np\n",
    "import seaborn as sns; \n",
    "\n",
    "#WARNING : weights and capacity shall be integer\n",
    "\n",
    "def knapsack_byDynProg(capacity, weights, values, nbItems):\n",
    "    V = np.zeros(shape=(nbItems+1, capacity+1))\n",
    "    trackSolution = np.zeros(shape=(nbItems+1, capacity+1))\n",
    "    elements = []  #the list of the items that are part of the optimal solution\n",
    "    carriedWeight = 0.0 #the sum of the weights of the items that are part of the optimal solution\n",
    "\n",
    "    \n",
    "    for iItem in range(1, nbItems+1):\n",
    "        for iWeight in range(1, capacity+1):\n",
    "            if weights[iItem-1]<= iWeight:\n",
    "                V[iItem,iWeight] = #TBC\n",
    "                if #TBC\n",
    "                    trackSolution[iItem,iWeight] = #TBC\n",
    "            else:\n",
    "                V[iItem,iWeight] = #TBC\n",
    "                \n",
    "    \n",
    "    currentWeight = capacity\n",
    "    #TBC : compute elements and carriedWeight\n",
    "            \n",
    "    #Plot V as a heatmap\n",
    "    ax = sns.heatmap(V.transpose(), annot=True, fmt='.0f')\n",
    "\n",
    "    return V[nbItems, capacity], np.sort(elements), carriedWeight\n",
    "    \n",
    "\n",
    "    \n",
    "nbItems = 5\n",
    "weights = [4, 3, 2, 4, 1]\n",
    "values = [5, 4, 3, 7, 2]\n",
    "capacity = 10\n",
    "print(\"With DynProgramming, result =\", knapsack_byDynProg(capacity, weights, values, nbItems))  "
   ]
  }
 ],
 "metadata": {
  "kernelspec": {
   "display_name": "Python 3",
   "language": "python",
   "name": "python3"
  },
  "language_info": {
   "codemirror_mode": {
    "name": "ipython",
    "version": 3
   },
   "file_extension": ".py",
   "mimetype": "text/x-python",
   "name": "python",
   "nbconvert_exporter": "python",
   "pygments_lexer": "ipython3",
   "version": "3.8.3"
  }
 },
 "nbformat": 4,
 "nbformat_minor": 4
}
