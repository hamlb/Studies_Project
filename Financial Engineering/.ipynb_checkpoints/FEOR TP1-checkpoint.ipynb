{
 "cells": [
  {
   "cell_type": "markdown",
   "metadata": {},
   "source": [
    "<h1> TP1 </h1>"
   ]
  },
  {
   "cell_type": "code",
   "execution_count": null,
   "metadata": {},
   "outputs": [],
   "source": [
    "import numpy as np\n",
    "import matplotlib.pyplot as plt\n",
    "\n",
    "from scipy.stats import norm"
   ]
  },
  {
   "cell_type": "markdown",
   "metadata": {},
   "source": [
    "<h1> Simulation of Brownian Motion (BM)</h1>\n",
    "\n",
    "Consider a uniform partition / grid \n",
    "\n",
    "$$0=t_0<t_1<\\ldots<t_N=T$$\n",
    "\n",
    "of $[0,T]$, where $t_k=k\\Delta t$, $k=0,\\ldots,N$ and $\\Delta t=\\frac{T}{N}$.\n",
    "\n",
    "To simulate Brownian motion over this grid $W_{t_k}$, $k=0,\\ldots,N$, simulate $N$ independent increments $dW_{t_i}=W_{t_{i+1}}-W_{t_i}$, $i=0,\\ldots,N-1$, with distribution $\\sqrt{\\Delta t}\\mathcal N(0,1)$ and observe that $W_0=0$ and for $k=1,\\ldots,N$\n",
    "\n",
    "$$W_{t_k}=\\sum_{i=0}^{k-1}(W_{t_{i+1}}-W_{t_i}).$$\n",
    "\n",
    "In other words $W$ is the cumulative sum of its increments."
   ]
  },
  {
   "cell_type": "code",
   "execution_count": 14,
   "metadata": {},
   "outputs": [],
   "source": [
    "def sim_W(T,N):\n",
    "    # function to simulate BM on [0,T] with a partition of size dt=T/N\n",
    "    \n",
    "    dt = T/N # size of the intervals in the partition    \n",
    "    times = dt*np.arange(0,N+1) # grid of times t_0,...,t_N   \n",
    "    dW = np.sqrt(dt)*np.random.randn(N) # dW is a vector containing the ind. increments over the grid   \n",
    "    W = np.cumsum(dW) # cumulative sum: W = [dW[0], dW[0]+dW[1], dW[0]+dW[1]+dW[2], ..., dW[0]+...+dW[N-1]]  \n",
    "    W = np.insert(W, 0, 0) # include zero; we want W[0] = 0\n",
    "    \n",
    "    return [times,W]  "
   ]
  },
  {
   "cell_type": "markdown",
   "metadata": {},
   "source": [
    "<h2><span style='color:green'>Question 1</span></h2>\n",
    "\n",
    "Use the function sim_W, with $N=1000$, to simulate Brownian motion on $[0,1]$, and plot the trajectory that you obtain."
   ]
  },
  {
   "cell_type": "code",
   "execution_count": null,
   "metadata": {},
   "outputs": [],
   "source": [
    "# Use this cell for Q1"
   ]
  },
  {
   "cell_type": "markdown",
   "metadata": {},
   "source": [
    "<h1> Simulation of Geometric Brownian motion (GBM) </h1>\n",
    "\n",
    "Recall that in the Black-Scholes-Merton model, prices of the risky asset are given by a Geometric Brownian Motion (GBM)\n",
    "\n",
    "$$ S_t = S_0\\exp\\left(\\left(\\alpha -\\frac{\\sigma^2}{2}\\right)t+\\sigma W_t\\right).$$"
   ]
  },
  {
   "cell_type": "markdown",
   "metadata": {},
   "source": [
    "<h2><span style='color:green'>Question 2</span></h2>\n",
    "\n",
    "Use the explicit expression of GBM to complete the code below."
   ]
  },
  {
   "cell_type": "code",
   "execution_count": null,
   "metadata": {},
   "outputs": [],
   "source": [
    "def sim_GBM(T,N,S0,alpha,vol):\n",
    "    # function to simulate GBM S_{t_k} over the grid of points t_k=k*Delta t, k=0,...,N \n",
    "    \n",
    "    [times,W] = sim_W(T,N) # construct grid and simulate Brownian motion over the grid\n",
    "    \n",
    "    S =  # Use the explicit expression of GBM in terms of t and W_t to complete this line \n",
    "    \n",
    "    return [times,S]"
   ]
  },
  {
   "cell_type": "markdown",
   "metadata": {},
   "source": [
    "<h2><span style='color:green'>Question 3</span></h2>\n",
    "\n",
    "Use the function sim_GBM, with $N=1000$, to simulate Geometric Brownian motion on $[0,10]$. Suppose that the initial price is $S_0=100$, the mean rate of return $\\alpha=0.01$ and the volatility is $\\sigma=0.2$."
   ]
  },
  {
   "cell_type": "code",
   "execution_count": null,
   "metadata": {},
   "outputs": [],
   "source": [
    "# Use this cell for Q3"
   ]
  },
  {
   "cell_type": "markdown",
   "metadata": {},
   "source": [
    "<h1>The Black-Scholes-Merton formula</h1>\n",
    "\n",
    "Recall that the price of a European call option with strike $K$ and maturity $T$ is\n",
    "\n",
    "$$v_{call}(t,S) = S\\Phi(d_1)-K{\\rm e}^{-r \\tau}\\Phi(d_2),$$\n",
    "\n",
    "where $\\tau=T-t$ is time to maturity,  $\\Phi$ is the cumulative distribution function of the standard normal distribution and\n",
    "\n",
    "$$d_1=\\frac{1}{\\sigma\\sqrt{\\tau}}\\left\\{\\ln\\left(\\frac{{ S}}{{ K}}\\right)+\\left(r+\\frac{\\sigma^2}{2}\\right){\\tau}\\right\\},$$\n",
    "\n",
    "$$d_2=d_1-\\sigma\\sqrt{\\tau}.$$\n",
    "\n",
    "For a put option the formula is\n",
    "\n",
    "$$v_{put}(t,S) = K{\\rm e}^{-r \\tau}\\Phi(-d_2)-S\\Phi(-d_1).$$\n",
    "\n",
    "You can find below the implementation of the call and put prices."
   ]
  },
  {
   "cell_type": "code",
   "execution_count": null,
   "metadata": {},
   "outputs": [],
   "source": [
    "def bs_call_price(vol, S, K, tau, r):\n",
    "    # Black-Scholes-Merton formula for a call\n",
    "    \n",
    "    d1 = ((np.log(S/K) + (r + vol ** 2 / 2) * tau) / (np.sqrt(vol ** 2 * tau)))\n",
    "    d2 = d1 - np.sqrt(vol**2 * tau)\n",
    "    C = S * norm.cdf(d1) - K * np.exp(-r * tau) * norm.cdf(d2) \n",
    "    \n",
    "    return C"
   ]
  },
  {
   "cell_type": "code",
   "execution_count": null,
   "metadata": {},
   "outputs": [],
   "source": [
    "def bs_put_price(vol, S, K, tau, r):\n",
    "    # Black-Scholes-Merton formula for a put\n",
    "    \n",
    "    d1 = ((np.log(S/K) + (r + vol ** 2 / 2) * tau) / (np.sqrt(vol ** 2 * tau)))\n",
    "    d2 = d1 - np.sqrt(vol**2 * tau)\n",
    "    P =  K * np.exp(-r * tau) * norm.cdf(-d2)-S * norm.cdf(-d1) \n",
    "    \n",
    "    return P"
   ]
  },
  {
   "cell_type": "markdown",
   "metadata": {},
   "source": [
    "<h2><span style='color:green'>Question 4</span></h2>\n",
    "\n",
    "Using the functions bs_call_price and bs_put_price reproduce the plot in Slide 24 of the lecture. To this end price the options over a grid of 100 initial prices $S_0$ going from $S_0=60$ to $S_0=140$."
   ]
  },
  {
   "cell_type": "code",
   "execution_count": null,
   "metadata": {},
   "outputs": [],
   "source": [
    "K = 100\n",
    "tau = 1\n",
    "r = 0.02\n",
    "S0 = np.linspace(60, 140, 100)\n",
    "sigma = 0.2\n"
   ]
  },
  {
   "cell_type": "code",
   "execution_count": null,
   "metadata": {},
   "outputs": [],
   "source": [
    "# Use this cell for Q4"
   ]
  },
  {
   "cell_type": "markdown",
   "metadata": {},
   "source": [
    "<h1> The Black-Scholes-Merton delta for a call </h1>\n",
    "\n",
    "Recall that for a call option the delta of the option is\n",
    "    $$\\frac{\\partial v_{call}(t,S)}{\\partial S}=\\Phi(d_1)$$"
   ]
  },
  {
   "cell_type": "markdown",
   "metadata": {},
   "source": [
    "<h2><span style='color:green'>Question 5</span></h2>\n",
    "\n",
    "Complete the code below for the function that calculates the call delta."
   ]
  },
  {
   "cell_type": "code",
   "execution_count": null,
   "metadata": {},
   "outputs": [],
   "source": [
    "def bs_call_delta(vol, S, K, tau, r):\n",
    "    # Delta for a call\n",
    "    \n",
    "    # Complete this line of the code\n",
    "    \n",
    "    return norm.cdf(d1)"
   ]
  },
  {
   "cell_type": "markdown",
   "metadata": {},
   "source": [
    "<h1> Simulation of wealth process of a delta-hedging strategy for a call</h1>\n",
    "\n",
    "\n",
    "$$ dX_t = r(X_t-\\delta_t S_t)dt+\\delta_t dS_t $$\n",
    "\n",
    "<h3>Idea</h3> Do it over a grid of points $t_k$, starting from $X_0=$ price of the option at time 0, \n",
    "\n",
    "$$ X_{t_{k+1}}=X_{t_{k}}+r(X_{t_k}-\\delta_{t_k} S_{t_k})\\Delta t+\\delta_{t_k} (S_{t_{k+1}}-S_{t_k}) $$"
   ]
  },
  {
   "cell_type": "markdown",
   "metadata": {},
   "source": [
    "<h2><span style='color:green'>Question 6</span></h2>\n",
    "\n",
    "Complete the code below to simulate the wealth process of a call delta-hedging strategy."
   ]
  },
  {
   "cell_type": "code",
   "execution_count": null,
   "metadata": {},
   "outputs": [],
   "source": [
    "def sim_S_X(T,N,S0,alpha,r,vol,K):\n",
    "    # function to simulate the trajectories of the price and the wealth of the delta hedging strategy\n",
    "    # over a finite grid of points t_0=0,t_1,...,t_N=T with interval size dt=T/N\n",
    "    \n",
    "    dt = T/N # interval size\n",
    "    [times,S] = sim_GBM(T,N,S0,alpha,vol) # simulation of the price trajectory\n",
    "    \n",
    "    tau = # complete this line - tau should be a vector of TIMES TO MATURITY \n",
    "    \n",
    "    delta = # complete this line - delta should be a vector containing the delta's over time  \n",
    "    \n",
    "    X = np.zeros(N+1) # this is the vector that will contain the wealth simulations over the grid\n",
    "    \n",
    "    X[0] = bs_call_price(vol, S0, K, T, r) # we start from the initial wealth = BSM price\n",
    "    \n",
    "    for i in range(N):\n",
    "        X[i+1] = # complete this line using the scheme to simulate X described above\n",
    "        \n",
    "    return [times,S,X]"
   ]
  },
  {
   "cell_type": "markdown",
   "metadata": {},
   "source": [
    "<h2><span style='color:green'>Question 7</span></h2>\n",
    "\n",
    "Consider the following parameters. \n",
    "\n",
    "$$N=100,\\quad T=1,\\quad K=100,\\quad r=0.01,\\quad S_0=100,\\quad\\alpha=0.03,\\quad\\sigma=0.1.$$\n",
    "\n",
    "Using the functions sim_S_X and bs_call_price in order to plot in the same plot: \n",
    "- one simulated trajectory for the wealth\n",
    "- The real option prices over the times in the grid\n",
    "\n",
    "What do you observe?\n"
   ]
  },
  {
   "cell_type": "code",
   "execution_count": null,
   "metadata": {},
   "outputs": [],
   "source": [
    "# Use this cell for Q7"
   ]
  },
  {
   "cell_type": "markdown",
   "metadata": {},
   "source": [
    "<h2><span style='color:green'>Question 8</span></h2>\n",
    "\n",
    "We call the lazy strategy the following strategy of the seller of a call option: no hedging is done by the seller, he/she just invests $X_0$ (i.e. the premium of the option) in the money market account. \n",
    "\n",
    "The P\\&L from the lazy strategy, taking into account the short position on the call option, is\n",
    "\n",
    "$$X_0{\\rm e}^{rT}-(S_T-K)_+$$\n",
    "\n",
    "We want to evaluate the performance of this strategy vs. the delta-hedging.\n",
    "\n",
    "To this end, complete the code below and simulate 1000 trajectories of prices and wealths of delta-hedging strategies using sim_S_X.\n",
    "\n",
    "For each simulation calculate the following two P\\&L's:\n",
    "\n",
    "- $PL1$ = final wealth of the delta hedging strategy - payoff of the option;\n",
    "- $PL2$ = final wealth of the lazy strategy - payoff of the option.\n",
    "\n",
    "Display in two different histograms the values of $PL1$ and $PL2$ obtained. What do you observe? \n"
   ]
  },
  {
   "cell_type": "code",
   "execution_count": null,
   "metadata": {},
   "outputs": [],
   "source": [
    "M=1000 # number of runs\n",
    "\n",
    "PL1 = np.zeros(M)\n",
    "PL2 = np.zeros(M)\n",
    "\n",
    "for j in range(M):\n",
    "    [times,S,X] = sim_S_X(T,N,S0,alpha,r,vol,K)\n",
    "    PL1[j] = # complete this line\n",
    "    PL2[j] = # complete this line"
   ]
  },
  {
   "cell_type": "code",
   "execution_count": null,
   "metadata": {},
   "outputs": [],
   "source": [
    "# Plot the histograms\n",
    "\n",
    "fig, axs = plt.subplots(1, 2,sharey=True, tight_layout=True,figsize=(15,5))\n",
    "\n",
    "axs[0].hist(PL1, bins=20)\n",
    "axs[1].hist(PL2, bins=20)\n",
    "\n",
    "plt.show()"
   ]
  }
 ],
 "metadata": {
  "kernelspec": {
   "display_name": "Python 3",
   "language": "python",
   "name": "python3"
  },
  "language_info": {
   "codemirror_mode": {
    "name": "ipython",
    "version": 3
   },
   "file_extension": ".py",
   "mimetype": "text/x-python",
   "name": "python",
   "nbconvert_exporter": "python",
   "pygments_lexer": "ipython3",
   "version": "3.8.5"
  }
 },
 "nbformat": 4,
 "nbformat_minor": 4
}
