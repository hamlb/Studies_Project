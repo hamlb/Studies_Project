{
 "cells": [
  {
   "cell_type": "markdown",
   "metadata": {},
   "source": [
    "<h1>TP 3</h1>"
   ]
  },
  {
   "cell_type": "code",
   "execution_count": 247,
   "metadata": {},
   "outputs": [],
   "source": [
    "import numpy as np\n",
    "import matplotlib.pyplot as plt\n",
    "import numpy.matlib\n",
    "\n",
    "from scipy import optimize,stats\n",
    "from scipy.stats import norm"
   ]
  },
  {
   "cell_type": "markdown",
   "metadata": {},
   "source": [
    "<h1> Simulation of the risk neutral dynamics in Heston </h1>\n",
    "\n",
    "Consider a uniform partition / grid \n",
    "\n",
    "$$0=t_0<t_1<\\ldots<t_N=T$$\n",
    "\n",
    "of $[0,T]$, where $t_k=k\\Delta t$, $k=0,\\ldots,N$ and $\\Delta t=\\frac{T}{N}$.\n",
    "\n",
    "We will need to simulate $M$ independent samples of two independent ($N$-dimensional) Gaussians which will correspond to the increments $dW$ and $dW^\\perp$, $dW_{t_k}=W_{t_{k+1}}-W_{t_k}$, $dW^{\\perp}_{t_k}=W^\\perp_{t_{k+1}}-W^\\perp_{t_k}$, $k=0,\\ldots,N-1$.\n",
    "\n",
    "To simulate the (risk neutral dynamics of) Heston model we follow the following (truncated Euler scheme) starting from the inital price $S_0$ and initial variance $V_0$.\n",
    "\n",
    "\n",
    "We construct for $k=0,\\ldots,N-1$\n",
    "\n",
    "$$S_{t_{k+1}}=S_{t_k}+rS_{t_k}\\Delta t +\\sqrt{V_{t_k}^+}S_{t_k}dW_{t_k},$$\n",
    "$$V_{t_{k+1}}=V_{t_k}+\\kappa(\\theta-V_{t_k})\\Delta t+\\eta \\sqrt{V_{t_k}^+} (\\rho dW_{t_k} +\\sqrt{1-\\rho^2}dW^\\perp_{t_k}).$$"
   ]
  },
  {
   "cell_type": "markdown",
   "metadata": {},
   "source": [
    "<h2><span style='color:green'>Question 1</span></h2>\n",
    "\n",
    "Complete the code below to simulate $M$ trajectories of the price of the risky asset and the variance in the Heston model."
   ]
  },
  {
   "cell_type": "code",
   "execution_count": 248,
   "metadata": {},
   "outputs": [],
   "source": [
    "def sim_Heston(T,N,M,r,S0,V0,kappa,theta,eta,rho):\n",
    "    # function to simulate M trajectories of prices and variance in the Heston model\n",
    "    \n",
    "    dt = T/N # size of the partition\n",
    "    times = dt*np.arange(0,N+1) # grid of times\n",
    "    dW1 = np.sqrt(dt)*np.random.randn(M,N) # dW1 represents the increments dW-a matrix for M(simulations)x N(times)\n",
    "    dW2 = np.sqrt(dt)*np.random.randn(M,N) # dW2 represents the increments dW^{\\perp}\n",
    "    \n",
    "    S = np.zeros([M,N+1]) # S is a matrix that will contain the simulated trajectories over the M-lines\n",
    "    V = np.zeros([M,N+1]) # V is a matrix that will contain the simulated trajectories over the M-lines\n",
    "    \n",
    "    # Intitiate S and V\n",
    "    S[:,0] = S0 \n",
    "    V[:,0] = V0\n",
    "    \n",
    "    # Euler scheme\n",
    "    for i in range(N):\n",
    "        S[:,i+1] = # complete this line\n",
    "        V[:,i+1] = # complete this line\n",
    "        \n",
    "    return [times,S,V]"
   ]
  },
  {
   "cell_type": "markdown",
   "metadata": {},
   "source": [
    "<h2><span style='color:green'>Question 2</span></h2>\n",
    "\n",
    "Consider the following parameters \n",
    "\n",
    "$$T=1,\\quad N=250,\\quad r=0.01,\\quad S_0=100,\\quad V_0=0.04,\\quad \\kappa=1,\\quad \\theta = 0.04,\\quad \\eta=0.1,\\quad \\rho=-0.7$$\n",
    "\n",
    "Using the function sim_Heston, simulate and plot \n",
    "\n",
    "- in one plot 3 trajectories of prices\n",
    "- in another plot 3 trajectories for variance \n",
    "\n",
    "Observe the negative correlation between stock prices and spot variances, this is called the leverage effect."
   ]
  },
  {
   "cell_type": "code",
   "execution_count": null,
   "metadata": {},
   "outputs": [],
   "source": [
    "# Use this cell for Q2"
   ]
  },
  {
   "cell_type": "markdown",
   "metadata": {},
   "source": [
    "<h1>Pricing a call option by Montecarlo in the Heston model </h1>\n",
    "\n",
    "We consider a call option with payoff $(S_T-K)_+$. Using $M$ independent samples of $S_T$, \n",
    "\n",
    "$$S_T^{(1)},\\ldots,S_T^{(M)},$$\n",
    "\n",
    "the Monte Carlo estimate of the price is\n",
    "\n",
    "$$price = \\mathbb E_{\\mathbb{Q}}[{\\rm e}^{-rT}(S_T-K)_+] \\approx \\frac{1}{M}\\sum_{j=1}^M {\\rm e}^{-rT}(S_T^{(j)}-K)_+=price_{approx}.$$\n",
    "\n",
    "The 95\\% confidence interval can be estimated as\n",
    "\n",
    "$$\\left[price_{approx}-\\frac{s*1.96}{\\sqrt{M}},price_{approx}+\\frac{s*1.96}{\\sqrt{M}}\\right]$$ \n",
    "\n",
    "where $s$ is the empirical standard deviation of $({\\rm e}^{-rT}(S^{(i)}_{T}-K)_+)_{i=1}^M$. The size of the interval is\n",
    "\n",
    "$$2\\frac{s*1.96}{\\sqrt{M}}$$"
   ]
  },
  {
   "cell_type": "markdown",
   "metadata": {},
   "source": [
    "<h2><span style='color:green'>Question 3</span></h2>\n",
    "\n",
    "Complete the code below to estimate the price of a Call option in the Heston model using Monte Carlo. The function also returns the size of the associated 95\\% confidence interval."
   ]
  },
  {
   "cell_type": "code",
   "execution_count": 251,
   "metadata": {},
   "outputs": [],
   "source": [
    "def Heston_call_price_MC(K,T,N,M,r,S0,V0,kappa,theta,eta,rho):\n",
    "    # function to approximate the price of a call in Heston model via Monte Carlo\n",
    "    \n",
    "    [times,S,V] = sim_Heston(T,N,M,r,S0,V0,kappa,theta,eta,rho) # simulate the paths\n",
    "    \n",
    "    C = # complete this line - C will be the Monte Carlo estimate of the price           \n",
    "    \n",
    "    s = # complete this line - s will be the empirical standard dev. as described above\n",
    "    \n",
    "    L = 2 * s * 1.96 / np.sqrt(M) # Lenght of the 95% confidence interval\n",
    "    \n",
    "    return [C,L]"
   ]
  },
  {
   "cell_type": "markdown",
   "metadata": {},
   "source": [
    "<h2><span style='color:green'>Question 4</span></h2>\n",
    "\n",
    "Consider the Heston model of Q2. Approximate via Monte Carlo, using $M=10^5$ simulations, the price and the 95% confidence interval for a call option with maturity $T=1$ and strike $K=90$.\n",
    "\n",
    "In addition compute the implied volatility for this option using the function imp_vol below, which uses itself the function bs_call_price."
   ]
  },
  {
   "cell_type": "code",
   "execution_count": 252,
   "metadata": {},
   "outputs": [],
   "source": [
    "def bs_call_price(vol, S, K, tau, r):\n",
    "    # Black-Scholes-Merton formula for a call\n",
    "    \n",
    "    d1 = ((np.log(S/K) + (r + vol ** 2 / 2) * tau) / (np.sqrt(vol ** 2 * tau)))\n",
    "    d2 = d1 - np.sqrt(vol**2 * tau)\n",
    "    C = S * norm.cdf(d1) - K * np.exp(-r * tau) * norm.cdf(d2) \n",
    "    \n",
    "    return C"
   ]
  },
  {
   "cell_type": "code",
   "execution_count": 253,
   "metadata": {},
   "outputs": [],
   "source": [
    "def imp_vol(K, S0, r, tau, Call_price) :\n",
    "    def sq_cost(sigma) :\n",
    "        cost = (Call_price- bs_call_price(sigma[0], S0, K, tau, r))**2\n",
    "        return cost\n",
    "    res = optimize.differential_evolution(sq_cost, bounds =[(0,1)], maxiter=100)\n",
    "    return float(res['x'])"
   ]
  },
  {
   "cell_type": "code",
   "execution_count": null,
   "metadata": {},
   "outputs": [],
   "source": [
    "# Use this cell for Q4"
   ]
  },
  {
   "cell_type": "markdown",
   "metadata": {},
   "source": [
    "<h2><span style='color:green'> Question 5: Delta-hedging in Heston </span></h2>\n",
    "\n",
    "Consider the call option of Q4 above. We are now going to evaluate the performance of a delta-hedge of the form\n",
    "\n",
    "$$\\delta_t = \\Phi(d_1)=\\Delta_\\text{BS}(\\sigma_\\text{imp},S_t,K,T-t,r)$$\n",
    "\n",
    "where in $d_1$ we have replaced the volatility parameter $\\sigma$ by the implied volatility of the option at time $t=0$, $\\sigma_{imp}$.\n",
    "\n",
    "To evaluate the performance, we follow the same idea as in the last parts of TP1 and TP2 and we compute several P\\&Ls for this delta-hedging strategy - a short position in the option (using a function similar to sim_S_X in TP1) and plot the corresponding histogram. \n",
    "\n",
    "- How does the performance compare to the case of the Black-Scholes-Merton model? Explain the difference if any. \n",
    "\n",
    "You will need in addition to the functions above, the function to calculate the BS_call_delta that we had already used in the previous TPs."
   ]
  },
  {
   "cell_type": "code",
   "execution_count": 258,
   "metadata": {},
   "outputs": [],
   "source": [
    "def bs_call_delta(vol, S, K, tau, r):\n",
    "    # delta for a call\n",
    "    \n",
    "    d1 = ((np.log(S/K) + (r + vol ** 2 / 2) * tau) / (np.sqrt(vol ** 2 * tau)))\n",
    "    \n",
    "    return norm.cdf(d1)"
   ]
  },
  {
   "cell_type": "code",
   "execution_count": null,
   "metadata": {},
   "outputs": [],
   "source": [
    "# Use this cell to define an appropiate modification in the present context of the function sim_S_X"
   ]
  },
  {
   "cell_type": "code",
   "execution_count": null,
   "metadata": {},
   "outputs": [],
   "source": [
    "# Use this cell for the calculation of the P&Ls and to plot the histograms for Q5"
   ]
  }
 ],
 "metadata": {
  "kernelspec": {
   "display_name": "Python 3",
   "language": "python",
   "name": "python3"
  },
  "language_info": {
   "codemirror_mode": {
    "name": "ipython",
    "version": 3
   },
   "file_extension": ".py",
   "mimetype": "text/x-python",
   "name": "python",
   "nbconvert_exporter": "python",
   "pygments_lexer": "ipython3",
   "version": "3.8.5"
  }
 },
 "nbformat": 4,
 "nbformat_minor": 4
}
