{
 "cells": [
  {
   "cell_type": "markdown",
   "metadata": {},
   "source": [
    "<h1> TP1 </h1>"
   ]
  },
  {
   "cell_type": "code",
   "execution_count": 2,
   "metadata": {},
   "outputs": [],
   "source": [
    "import numpy as np\n",
    "import matplotlib.pyplot as plt\n",
    "\n",
    "from scipy.stats import norm"
   ]
  },
  {
   "cell_type": "markdown",
   "metadata": {},
   "source": [
    "<h1> Simulation of Brownian Motion (BM)</h1>\n",
    "\n",
    "Consider a uniform partition / grid \n",
    "\n",
    "$$0=t_0<t_1<\\ldots<t_N=T$$\n",
    "\n",
    "of $[0,T]$, where $t_k=k\\Delta t$, $k=0,\\ldots,N$ and $\\Delta t=\\frac{T}{N}$.\n",
    "\n",
    "To simulate Brownian motion over this grid $W_{t_k}$, $k=0,\\ldots,N$, simulate $N$ independent increments $dW_{t_i}=W_{t_{i+1}}-W_{t_i}$, $i=0,\\ldots,N-1$, with distribution $\\sqrt{\\Delta t}\\mathcal N(0,1)$ and observe that $W_0=0$ and for $k=1,\\ldots,N$\n",
    "\n",
    "$$W_{t_k}=\\sum_{i=0}^{k-1}(W_{t_{i+1}}-W_{t_i}).$$\n",
    "\n",
    "In other words $W$ is the cumulative sum of its increments."
   ]
  },
  {
   "cell_type": "code",
   "execution_count": 3,
   "metadata": {},
   "outputs": [],
   "source": [
    "def sim_W(T,N):\n",
    "    # function to simulate BM on [0,T] with a partition of size dt=T/N\n",
    "    \n",
    "    dt = T/N # size of the intervals in the partition    \n",
    "    times = dt*np.arange(0,N+1) # grid of times t_0,...,t_N   \n",
    "    dW = np.sqrt(dt)*np.random.randn(N) # dW is a vector containing the ind. increments over the grid   \n",
    "    W = np.cumsum(dW) # cumulative sum: W = [dW[0], dW[0]+dW[1], dW[0]+dW[1]+dW[2], ..., dW[0]+...+dW[N-1]]  \n",
    "    W = np.insert(W, 0, 0) # include zero; we want W[0] = 0\n",
    "    \n",
    "    return [times,W]  "
   ]
  },
  {
   "cell_type": "markdown",
   "metadata": {},
   "source": [
    "<h2><span style='color:green'>Question 1</span></h2>\n",
    "\n",
    "Use the function sim_W, with $N=1000$, to simulate Brownian motion on $[0,1]$, and plot the trajectory that you obtain."
   ]
  },
  {
   "cell_type": "code",
   "execution_count": 6,
   "metadata": {},
   "outputs": [
    {
     "data": {
      "text/plain": [
       "[array([0.   , 0.001, 0.002, ..., 0.998, 0.999, 1.   ]),\n",
       " array([ 0.        ,  0.0027981 ,  0.05685887, ..., -0.17936641,\n",
       "        -0.20770637, -0.20737744])]"
      ]
     },
     "execution_count": 6,
     "metadata": {},
     "output_type": "execute_result"
    }
   ],
   "source": [
    "# Use this cell for Q1\n",
    "sim_W(1,1000)"
   ]
  },
  {
   "cell_type": "markdown",
   "metadata": {},
   "source": [
    "<h1> Simulation of Geometric Brownian motion (GBM) </h1>\n",
    "\n",
    "Recall that in the Black-Scholes-Merton model, prices of the risky asset are given by a Geometric Brownian Motion (GBM)\n",
    "\n",
    "$$ S_t = S_0\\exp\\left(\\left(\\alpha -\\frac{\\sigma^2}{2}\\right)t+\\sigma W_t\\right).$$"
   ]
  },
  {
   "cell_type": "markdown",
   "metadata": {},
   "source": [
    "<h2><span style='color:green'>Question 2</span></h2>\n",
    "\n",
    "Use the explicit expression of GBM to complete the code below."
   ]
  },
  {
   "cell_type": "code",
   "execution_count": 8,
   "metadata": {},
   "outputs": [],
   "source": [
    "def sim_GBM(T,N,S0,alpha,vol):\n",
    "    # function to simulate GBM S_{t_k} over the grid of points t_k=k*Delta t, k=0,...,N \n",
    "    \n",
    "    [times,W] = sim_W(T,N) # construct grid and simulate Brownian motion over the grid\n",
    "    \n",
    "    S =  S0*np.exp((alpha-(vol**2)/2)*times+vol*W) # Use the explicit expression of GBM in terms of t and W_t to complete this line \n",
    "    \n",
    "    return [times,S]"
   ]
  },
  {
   "cell_type": "markdown",
   "metadata": {},
   "source": [
    "<h2><span style='color:green'>Question 3</span></h2>\n",
    "\n",
    "Use the function sim_GBM, with $N=1000$, to simulate Geometric Brownian motion on $[0,10]$. Suppose that the initial price is $S_0=100$, the mean rate of return $\\alpha=0.01$ and the volatility is $\\sigma=0.2$."
   ]
  },
  {
   "cell_type": "code",
   "execution_count": 10,
   "metadata": {},
   "outputs": [
    {
     "data": {
      "text/plain": [
       "[array([ 0.  ,  0.01,  0.02, ...,  9.98,  9.99, 10.  ]),\n",
       " array([100.        ,  99.54187717,  97.9659415 , ..., 134.88946578,\n",
       "        137.63523197, 139.19116133])]"
      ]
     },
     "execution_count": 10,
     "metadata": {},
     "output_type": "execute_result"
    }
   ],
   "source": [
    "# Use this cell for Q3\n",
    "sim_GBM(10,1000,100,0.01,0.2)"
   ]
  },
  {
   "cell_type": "markdown",
   "metadata": {},
   "source": [
    "<h1>The Black-Scholes-Merton formula</h1>\n",
    "\n",
    "Recall that the price of a European call option with strike $K$ and maturity $T$ is\n",
    "\n",
    "$$v_{call}(t,S) = S\\Phi(d_1)-K{\\rm e}^{-r \\tau}\\Phi(d_2),$$\n",
    "\n",
    "where $\\tau=T-t$ is time to maturity,  $\\Phi$ is the cumulative distribution function of the standard normal distribution and\n",
    "\n",
    "$$d_1=\\frac{1}{\\sigma\\sqrt{\\tau}}\\left\\{\\ln\\left(\\frac{{ S}}{{ K}}\\right)+\\left(r+\\frac{\\sigma^2}{2}\\right){\\tau}\\right\\},$$\n",
    "\n",
    "$$d_2=d_1-\\sigma\\sqrt{\\tau}.$$\n",
    "\n",
    "For a put option the formula is\n",
    "\n",
    "$$v_{put}(t,S) = K{\\rm e}^{-r \\tau}\\Phi(-d_2)-S\\Phi(-d_1).$$\n",
    "\n",
    "You can find below the implementation of the call and put prices."
   ]
  },
  {
   "cell_type": "code",
   "execution_count": 11,
   "metadata": {},
   "outputs": [],
   "source": [
    "def bs_call_price(vol, S, K, tau, r):\n",
    "    # Black-Scholes-Merton formula for a call\n",
    "    \n",
    "    d1 = ((np.log(S/K) + (r + vol ** 2 / 2) * tau) / (np.sqrt(vol ** 2 * tau)))\n",
    "    d2 = d1 - np.sqrt(vol**2 * tau)\n",
    "    C = S * norm.cdf(d1) - K * np.exp(-r * tau) * norm.cdf(d2) \n",
    "    \n",
    "    return C"
   ]
  },
  {
   "cell_type": "code",
   "execution_count": 12,
   "metadata": {},
   "outputs": [],
   "source": [
    "def bs_put_price(vol, S, K, tau, r):\n",
    "    # Black-Scholes-Merton formula for a put\n",
    "    \n",
    "    d1 = ((np.log(S/K) + (r + vol ** 2 / 2) * tau) / (np.sqrt(vol ** 2 * tau)))\n",
    "    d2 = d1 - np.sqrt(vol**2 * tau)\n",
    "    P =  K * np.exp(-r * tau) * norm.cdf(-d2)-S * norm.cdf(-d1) \n",
    "    \n",
    "    return P"
   ]
  },
  {
   "cell_type": "markdown",
   "metadata": {},
   "source": [
    "<h2><span style='color:green'>Question 4</span></h2>\n",
    "\n",
    "Using the functions bs_call_price and bs_put_price reproduce the plot in Slide 24 of the lecture. To this end price the options over a grid of 100 initial prices $S_0$ going from $S_0=60$ to $S_0=140$."
   ]
  },
  {
   "cell_type": "code",
   "execution_count": 15,
   "metadata": {},
   "outputs": [],
   "source": [
    "K = 100\n",
    "tau = 1\n",
    "r = 0.02\n",
    "S0 = np.linspace(60, 140, 100)\n",
    "sigma = 0.2\n"
   ]
  },
  {
   "cell_type": "code",
   "execution_count": 28,
   "metadata": {},
   "outputs": [
    {
     "data": {
      "text/plain": [
       "Text(0.5, 1.0, 'call')"
      ]
     },
     "execution_count": 28,
     "metadata": {},
     "output_type": "execute_result"
    },
    {
     "data": {
      "image/png": "[encoded data removed]",
      "text/plain": [
       "<Figure size 432x288 with 1 Axes>"
      ]
     },
     "metadata": {
      "needs_background": "light"
     },
     "output_type": "display_data"
    }
   ],
   "source": [
    "# Use this cell for Q4\n",
    "call=bs_call_price(sigma,S0,K,tau,r)\n",
    "put=bs_put_price(sigma,S0,K,tau,r)\n",
    "\n",
    "plt.plot( call)\n",
    "plt.title(\"call\")"
   ]
  },
  {
   "cell_type": "code",
   "execution_count": 29,
   "metadata": {},
   "outputs": [
    {
     "data": {
      "text/plain": [
       "Text(0.5, 1.0, 'put')"
      ]
     },
     "execution_count": 29,
     "metadata": {},
     "output_type": "execute_result"
    },
    {
     "data": {
      "image/png": "[encoded data removed]",
      "text/plain": [
       "<Figure size 432x288 with 1 Axes>"
      ]
     },
     "metadata": {
      "needs_background": "light"
     },
     "output_type": "display_data"
    }
   ],
   "source": [
    "plt.plot( put)\n",
    "plt.title(\"put\")"
   ]
  },
  {
   "cell_type": "markdown",
   "metadata": {},
   "source": [
    "<h1> The Black-Scholes-Merton delta for a call </h1>\n",
    "\n",
    "Recall that for a call option the delta of the option is\n",
    "    $$\\frac{\\partial v_{call}(t,S)}{\\partial S}=\\Phi(d_1)$$"
   ]
  },
  {
   "cell_type": "markdown",
   "metadata": {},
   "source": [
    "<h2><span style='color:green'>Question 5</span></h2>\n",
    "\n",
    "Complete the code below for the function that calculates the call delta."
   ]
  },
  {
   "cell_type": "code",
   "execution_count": 30,
   "metadata": {},
   "outputs": [],
   "source": [
    "def bs_call_delta(vol, S, K, tau, r):\n",
    "    # Delta for a call\n",
    "    d1 = ((np.log(S/K) + (r + vol ** 2 / 2) * tau) / (np.sqrt(vol ** 2 * tau)))    \n",
    "    # Complete this line of the code\n",
    "    \n",
    "    return norm.cdf(d1)"
   ]
  },
  {
   "cell_type": "markdown",
   "metadata": {},
   "source": [
    "<h1> Simulation of wealth process of a delta-hedging strategy for a call</h1>\n",
    "\n",
    "\n",
    "$$ dX_t = r(X_t-\\delta_t S_t)dt+\\delta_t dS_t $$\n",
    "\n",
    "<h3>Idea</h3> Do it over a grid of points $t_k$, starting from $X_0=$ price of the option at time 0, \n",
    "\n",
    "$$ X_{t_{k+1}}=X_{t_{k}}+r(X_{t_k}-\\delta_{t_k} S_{t_k})\\Delta t+\\delta_{t_k} (S_{t_{k+1}}-S_{t_k}) $$"
   ]
  },
  {
   "cell_type": "markdown",
   "metadata": {},
   "source": [
    "<h2><span style='color:green'>Question 6</span></h2>\n",
    "\n",
    "Complete the code below to simulate the wealth process of a call delta-hedging strategy."
   ]
  },
  {
   "cell_type": "code",
   "execution_count": 31,
   "metadata": {},
   "outputs": [],
   "source": [
    "def sim_S_X(T,N,S0,alpha,r,vol,K):\n",
    "    # function to simulate the trajectories of the price and the wealth of the delta hedging strategy\n",
    "    # over a finite grid of points t_0=0,t_1,...,t_N=T with interval size dt=T/N\n",
    "    \n",
    "    dt = T/N # interval size\n",
    "    [times,S] = sim_GBM(T,N,S0,alpha,vol) # simulation of the price trajectory\n",
    "    \n",
    "    tau = T-times[0:N]\n",
    "    \n",
    "    delta = bs_call_delta(vol, S[0:N], K, tau, r)\n",
    "    \n",
    "    X = np.zeros(N+1) # this is the vector that will contain the wealth simulations over the grid\n",
    "    \n",
    "    X[0] = bs_call_price(vol, S0, K, T, r) # we start from the initial wealth = BSM price\n",
    "    \n",
    "    for i in range(N):\n",
    "        X[i+1] =X[i]+r*(X[i]-delta[i]*S[i])*(times[i+1]-times[i])+delta[i]*(S[i+1]-S[i]) # complete this line using the scheme to simulate X described above\n",
    "        \n",
    "    return [times,S,X]"
   ]
  },
  {
   "cell_type": "markdown",
   "metadata": {},
   "source": [
    "<h2><span style='color:green'>Question 7</span></h2>\n",
    "\n",
    "Consider the following parameters. \n",
    "\n",
    "$$N=100,\\quad T=1,\\quad K=100,\\quad r=0.01,\\quad S_0=100,\\quad\\alpha=0.03,\\quad\\sigma=0.1.$$\n",
    "\n",
    "Using the functions sim_S_X and bs_call_price in order to plot in the same plot: \n",
    "- one simulated trajectory for the wealth\n",
    "- The real option prices over the times in the grid\n",
    "\n",
    "What do you observe?\n"
   ]
  },
  {
   "cell_type": "code",
   "execution_count": 33,
   "metadata": {},
   "outputs": [
    {
     "data": {
      "text/plain": [
       "[array([0.  , 0.01, 0.02, 0.03, 0.04, 0.05, 0.06, 0.07, 0.08, 0.09, 0.1 ,\n",
       "        0.11, 0.12, 0.13, 0.14, 0.15, 0.16, 0.17, 0.18, 0.19, 0.2 , 0.21,\n",
       "        0.22, 0.23, 0.24, 0.25, 0.26, 0.27, 0.28, 0.29, 0.3 , 0.31, 0.32,\n",
       "        0.33, 0.34, 0.35, 0.36, 0.37, 0.38, 0.39, 0.4 , 0.41, 0.42, 0.43,\n",
       "        0.44, 0.45, 0.46, 0.47, 0.48, 0.49, 0.5 , 0.51, 0.52, 0.53, 0.54,\n",
       "        0.55, 0.56, 0.57, 0.58, 0.59, 0.6 , 0.61, 0.62, 0.63, 0.64, 0.65,\n",
       "        0.66, 0.67, 0.68, 0.69, 0.7 , 0.71, 0.72, 0.73, 0.74, 0.75, 0.76,\n",
       "        0.77, 0.78, 0.79, 0.8 , 0.81, 0.82, 0.83, 0.84, 0.85, 0.86, 0.87,\n",
       "        0.88, 0.89, 0.9 , 0.91, 0.92, 0.93, 0.94, 0.95, 0.96, 0.97, 0.98,\n",
       "        0.99, 1.  ]),\n",
       " array([100.        , 100.26268559, 102.10427225, 103.81468567,\n",
       "        104.12463577, 104.73944053, 105.22413584, 105.76285959,\n",
       "        102.29651488, 101.79783911, 102.66809938, 102.79272247,\n",
       "        103.07685946, 103.73812033, 103.08876591, 106.09001781,\n",
       "        105.2722981 , 106.24506897, 106.21121284, 104.97833511,\n",
       "        105.93059778, 106.0135129 , 106.01277058, 106.77036367,\n",
       "        106.50210911, 106.69487514, 105.63029155, 106.32988872,\n",
       "        106.67037116, 105.5158328 , 103.68454357, 104.73014405,\n",
       "        105.74416883, 108.09563888, 107.5843319 , 106.38835758,\n",
       "        106.51830012, 106.09515174, 106.21702915, 105.41355424,\n",
       "        104.42302463, 104.28327342, 106.59904522, 108.64818079,\n",
       "        107.82738729, 108.42233565, 109.41259522, 107.58334836,\n",
       "        107.24212911, 107.07461763, 107.74995586, 108.19343725,\n",
       "        109.14345522, 109.17225204, 109.44126181, 111.02679125,\n",
       "        112.22582933, 113.63238247, 114.17408089, 113.20348516,\n",
       "        113.88039323, 113.51974879, 113.17093438, 114.92952569,\n",
       "        116.38174905, 116.28818676, 117.17989915, 117.94445318,\n",
       "        117.60317313, 117.71339472, 117.09540725, 116.76180266,\n",
       "        117.73229813, 116.57829573, 117.55487279, 115.90564253,\n",
       "        115.11890136, 115.47481962, 114.33024094, 113.86586116,\n",
       "        116.1596925 , 115.24836886, 117.79673413, 117.49958807,\n",
       "        117.25483578, 115.4143002 , 114.71979898, 113.19145779,\n",
       "        113.20827594, 114.32819673, 111.44582865, 112.28275528,\n",
       "        113.43391462, 113.23095998, 112.87790168, 114.63336898,\n",
       "        115.44918724, 115.35883628, 114.8676392 , 112.49896738,\n",
       "        113.63726236]),\n",
       " array([ 4.48523641,  4.62709226,  5.67099777,  6.75994389,  6.97067696,\n",
       "         7.40175312,  7.75000015,  8.14628183,  5.48386689,  5.15451825,\n",
       "         5.69624387,  5.77259803,  5.95602099,  6.39834747,  5.9351249 ,\n",
       "         7.96895562,  7.32186533,  8.05143601,  8.01716352,  7.03744544,\n",
       "         7.74457167,  7.80188796,  7.79375958,  8.38188933,  8.15677126,\n",
       "         8.30387537,  7.43366691,  7.97054552,  8.23567307,  7.28941125,\n",
       "         5.85821439,  6.59543669,  7.35082664,  9.19720662,  8.74986371,\n",
       "         7.72918751,  7.82695515,  7.47271023,  7.56317708,  6.90314794,\n",
       "         6.11712521,  6.00507068,  7.72492888,  9.41721137,  8.68028883,\n",
       "         9.18850241, 10.05644365,  8.38479407,  8.08039792,  7.9280246 ,\n",
       "         8.49800862,  8.87847915,  9.71586693,  9.73318582,  9.97074018,\n",
       "        11.42652369, 12.55802908, 13.90856296, 14.42951476, 13.46472945,\n",
       "        14.11766423, 13.75291316, 13.40018239, 15.11755326, 16.54728455,\n",
       "        16.44420346, 17.3222772 , 18.0749597 , 17.72423719, 17.82431507,\n",
       "        17.19715438, 16.85408508, 17.81310735, 16.65001891, 17.61542323,\n",
       "        15.95716296, 15.16141246, 15.50678324, 14.35343651, 13.87987705,\n",
       "        16.15948257, 15.2384515 , 17.77567903, 17.4685443 , 17.21379801,\n",
       "        15.36330793, 14.65886169, 13.12066406, 13.12747381, 14.23723137,\n",
       "        11.34491741, 12.1716225 , 13.31271739, 13.09975136, 12.73668035,\n",
       "        14.48213297, 15.28793611, 15.18756902, 14.68635481, 12.30766487,\n",
       "        13.43594072])]"
      ]
     },
     "execution_count": 33,
     "metadata": {},
     "output_type": "execute_result"
    }
   ],
   "source": [
    "\n",
    "sim_S_X(1,100,100,0.03,0.01,0.1,100)"
   ]
  },
  {
   "cell_type": "markdown",
   "metadata": {},
   "source": [
    "<h2><span style='color:green'>Question 8</span></h2>\n",
    "\n",
    "We call the lazy strategy the following strategy of the seller of a call option: no hedging is done by the seller, he/she just invests $X_0$ (i.e. the premium of the option) in the money market account. \n",
    "\n",
    "The P\\&L from the lazy strategy, taking into account the short position on the call option, is\n",
    "\n",
    "$$X_0{\\rm e}^{rT}-(S_T-K)_+$$\n",
    "\n",
    "We want to evaluate the performance of this strategy vs. the delta-hedging.\n",
    "\n",
    "To this end, complete the code below and simulate 1000 trajectories of prices and wealths of delta-hedging strategies using sim_S_X.\n",
    "\n",
    "For each simulation calculate the following two P\\&L's:\n",
    "\n",
    "- $PL1$ = final wealth of the delta hedging strategy - payoff of the option;\n",
    "- $PL2$ = final wealth of the lazy strategy - payoff of the option.\n",
    "\n",
    "Display in two different histograms the values of $PL1$ and $PL2$ obtained. What do you observe? \n"
   ]
  },
  {
   "cell_type": "code",
   "execution_count": null,
   "metadata": {},
   "outputs": [],
   "source": [
    "M=1000 # number of runs\n",
    "\n",
    "PL1 = np.zeros(M)\n",
    "PL2 = np.zeros(M)\n",
    "\n",
    "for j in range(M):\n",
    "    [times,S,X] = sim_S_X(T,N,S0,alpha,r,vol,K)\n",
    "    PL1[j] = # complete this line\n",
    "    PL2[j] = # complete this line"
   ]
  },
  {
   "cell_type": "code",
   "execution_count": null,
   "metadata": {},
   "outputs": [],
   "source": [
    "# Plot the histograms\n",
    "\n",
    "fig, axs = plt.subplots(1, 2,sharey=True, tight_layout=True,figsize=(15,5))\n",
    "\n",
    "axs[0].hist(PL1, bins=20)\n",
    "axs[1].hist(PL2, bins=20)\n",
    "\n",
    "plt.show()"
   ]
  }
 ],
 "metadata": {
  "kernelspec": {
   "display_name": "Python 3",
   "language": "python",
   "name": "python3"
  },
  "language_info": {
   "codemirror_mode": {
    "name": "ipython",
    "version": 3
   },
   "file_extension": ".py",
   "mimetype": "text/x-python",
   "name": "python",
   "nbconvert_exporter": "python",
   "pygments_lexer": "ipython3",
   "version": "3.8.8"
  }
 },
 "nbformat": 4,
 "nbformat_minor": 4
}
