{
 "cells": [
  {
   "cell_type": "code",
   "execution_count": 3,
   "metadata": {
    "scrolled": true
   },
   "outputs": [],
   "source": [
    "import pandas as pd\n",
    "inputFileName = \"DataBlender.xlsx\"\n",
    "paramDF = pd.read_excel(inputFileName, \"Param\", skiprows=2)\n",
    "rawMaterialsDF = pd.read_excel(inputFileName, \"RawMaterials\", skiprows=2)\n",
    "finishedGoodsDF = pd.read_excel(inputFileName, \"FinishedGoods\", skiprows=2)"
   ]
  },
  {
   "cell_type": "code",
   "execution_count": 13,
   "metadata": {},
   "outputs": [
    {
     "name": "stdout",
     "output_type": "stream",
     "text": [
      "Requirement already satisfied: pulp in /Users/mizo/opt/anaconda3/lib/python3.8/site-packages (2.5.1)\n",
      "Note: you may need to restart the kernel to use updated packages.\n"
     ]
    }
   ],
   "source": [
    "pip install pulp"
   ]
  },
  {
   "cell_type": "markdown",
   "metadata": {},
   "source": [
    "### Set the data into list and dict, easier to manipulate"
   ]
  },
  {
   "cell_type": "code",
   "execution_count": 4,
   "metadata": {},
   "outputs": [],
   "source": [
    "#Raw materials characteristics\n",
    "rawMaterials_items = list(rawMaterialsDF['Raw materials'])\n",
    "costRM = list(rawMaterialsDF['Cost'])\n",
    "capacityRM = list(rawMaterialsDF['Capacity'])\n",
    "volumeMinRM = list(rawMaterialsDF['VolumeMin'])\n",
    "supplierRM = list(rawMaterialsDF['Supplier'])\n",
    "suppliers_items = list(set(supplierRM))  #supplier list, obtained by removing duplicates\n",
    "\n",
    "componentsRM = dict()\n",
    "componentsRM['Component1'] = list(rawMaterialsDF['Component1'])\n",
    "componentsRM['Component2'] = list(rawMaterialsDF['Component2'])\n",
    "componentsRM['Component3'] = list(rawMaterialsDF['Component3'])\n",
    "\n",
    "#Finished goods characteristics\n",
    "finishedGoods_items = list(finishedGoodsDF['Finished goods'])\n",
    "demandFG = list(finishedGoodsDF['Demand'])\n",
    "\n",
    "componentsMinFG = dict()\n",
    "componentsMinFG['Component1'] = list(finishedGoodsDF['MinComponent1'])\n",
    "componentsMinFG['Component2'] = list(finishedGoodsDF['MinComponent2'])\n",
    "componentsMinFG['Component3'] = list(finishedGoodsDF['MinComponent3'])\n",
    "\n",
    "componentsMaxFG = dict()\n",
    "componentsMaxFG['Component1'] = list(finishedGoodsDF['MaxComponent1'])\n",
    "componentsMaxFG['Component2'] = list(finishedGoodsDF['MaxComponent2'])\n",
    "componentsMaxFG['Component3'] = list(finishedGoodsDF['MaxComponent3'])\n"
   ]
  },
  {
   "cell_type": "markdown",
   "metadata": {},
   "source": [
    "### Create your linear program"
   ]
  },
  {
   "cell_type": "code",
   "execution_count": 5,
   "metadata": {},
   "outputs": [],
   "source": [
    "from pulp import *\n",
    "prob = LpProblem(\"BlenderProblem\",LpMinimize)"
   ]
  },
  {
   "cell_type": "markdown",
   "metadata": {},
   "source": [
    "### Add variables"
   ]
  },
  {
   "cell_type": "code",
   "execution_count": 6,
   "metadata": {},
   "outputs": [],
   "source": [
    "RecipeVar = LpVariable.dicts(\"Recipe\", ((i, j) for i in rawMaterials_items for j in finishedGoods_items), \n",
    "                             lowBound=0, cat='Continuous')\n",
    "RM_VolumeVar = LpVariable.dicts(\"RMvolume\", (i for i in rawMaterials_items), lowBound=0, cat='Continuous')\n",
    "FG_VolumeVar = LpVariable.dicts(\"FGvolume\", (j for j in finishedGoods_items), lowBound=0, cat='Continuous')"
   ]
  },
  {
   "cell_type": "markdown",
   "metadata": {},
   "source": [
    "### Add objectives"
   ]
  },
  {
   "cell_type": "code",
   "execution_count": 7,
   "metadata": {},
   "outputs": [],
   "source": [
    "prob += lpSum([costRM[iRM] * RM_VolumeVar[vRM] for iRM, vRM in enumerate(rawMaterials_items)])"
   ]
  },
  {
   "cell_type": "markdown",
   "metadata": {},
   "source": [
    "### Add constraints"
   ]
  },
  {
   "cell_type": "code",
   "execution_count": 8,
   "metadata": {},
   "outputs": [],
   "source": [
    "#Define RM_VolumeVar\n",
    "for iRM in rawMaterials_items : \n",
    "    prob += lpSum([RecipeVar[iRM,iFG] for iFG in finishedGoods_items]) == RM_VolumeVar[iRM], \"defVolumeRM[%s]\"%(iRM)\n",
    "    \n",
    "#Define FG_VolumeVar\n",
    "for iFG in finishedGoods_items : \n",
    "    prob += lpSum([RecipeVar[iRM,iFG] for iRM in rawMaterials_items]) == FG_VolumeVar[iFG], \"defVolumeFG[%s]\"%(iFG)\n",
    "    \n",
    "#Capacity constraint\n",
    "for iRM, vRM in enumerate(rawMaterials_items) : \n",
    "    prob += RM_VolumeVar[vRM] <= capacityRM[iRM], \"capacity[%s]\"%(iRM)\n",
    "\n",
    "#Demand constraint\n",
    "for iFG, vFG in enumerate(finishedGoods_items) : \n",
    "    prob += FG_VolumeVar[vFG] >= demandFG[iFG], \"demandFG[%s]\"%(iFG)\n",
    "    \n",
    "#Min & max components in the finished goods\n",
    "for iComponent in ['Component1', 'Component2', 'Component3']:\n",
    "    for iFG, vFG in enumerate(finishedGoods_items) : \n",
    "        #print(componentsMinFG[iComponent][iFG])\n",
    "        prob += lpSum([componentsRM[iComponent][iRM] * RecipeVar[vRM,vFG] for iRM, vRM in enumerate(rawMaterials_items)]) >= FG_VolumeVar[vFG] * componentsMinFG[iComponent][iFG]\n",
    "        prob += lpSum([componentsRM[iComponent][iRM] * RecipeVar[vRM,vFG] for iRM, vRM in enumerate(rawMaterials_items)]) <= FG_VolumeVar[vFG] * componentsMaxFG[iComponent][iFG]"
   ]
  },
  {
   "cell_type": "markdown",
   "metadata": {},
   "source": [
    "### Add min volume variables & constraints"
   ]
  },
  {
   "cell_type": "code",
   "execution_count": 9,
   "metadata": {},
   "outputs": [],
   "source": [
    "if paramDF['Value'][0] == 1 or paramDF['Value'][1] == 1:  #Param \"ConsiderVolumeMin\" or \"ConsiderDiscount\"\n",
    "    \n",
    "    #Binary variables : isUsed_RM_Var\n",
    "    isUsedRMVar = LpVariable.dicts(\"isUsed\", (i for i in rawMaterials_items), cat='Binary')\n",
    "    \n",
    "    #Def isUsedRM : RM_VolumeVar[vRM] <= Capacity[iRM] * isUsed[vRM]\n",
    "    for iRM, vRM in enumerate(rawMaterials_items) : \n",
    "        prob += RM_VolumeVar[vRM]  <= capacityRM[iRM] * isUsedRMVar[vRM], \"def_isUsedRM[%s]\"%(iRM)\n",
    "\n",
    "    #Min volume constraint : VolumeMin[iRM] * isUsed[vRM] <= RM_VolumeVar[vRM]\n",
    "    for iRM, vRM in enumerate(rawMaterials_items) : \n",
    "        prob += volumeMinRM[iRM] * isUsedRMVar[vRM] <= RM_VolumeVar[vRM], \"volumeMin_RM[%s]\"%(iRM)"
   ]
  },
  {
   "cell_type": "markdown",
   "metadata": {},
   "source": [
    "### Add discounts variables & objective"
   ]
  },
  {
   "cell_type": "code",
   "execution_count": 10,
   "metadata": {},
   "outputs": [],
   "source": [
    "if paramDF['Value'][1] == 1:  #Param \"ConsiderDiscount\"\n",
    "    \n",
    "    #Binary variables per supplier : areBothUsedRMVar\n",
    "    areBothUsedRMVar = LpVariable.dicts(\"areBothUsed\", (i for i in suppliers_items), cat='Binary')\n",
    "    \n",
    "    for iSupplier in suppliers_items:\n",
    "        \n",
    "        #Cst stating that areBothUsed[vRM1][vRM2] <= isUsedRMVar[vRM1] and areBothUsed[vRM1][vRM2] <= isUsedRMVar[vRM2]\n",
    "        for iRM,vRM in enumerate(rawMaterials_items) :\n",
    "            if supplierRM[iRM] == iSupplier :\n",
    "                prob += areBothUsedRMVar[iSupplier] <= isUsedRMVar[vRM], \"def_areBothUsedRM[%s][%s]\"%(iSupplier,vRM)\n",
    "                \n",
    "            #This constraint is valid but useless since the model tries to minimize the cost, i.e. to set areBothUsedVar=1\n",
    "            #for iRM1,vRM1 in enumerate(rawMaterials_items) :\n",
    "            #    if iRM1 > iRM and supplierRM[iRM1] == iSupplier: \n",
    "            #        prob += areBothUsedRMVar[iSupplier] >= isUsedRMVar[vRM] + isUsedRMVar[vRM1] -1, \"def2_areBothUsedRM[%s][%s]\"%(iSupplier,iRM)\n",
    "\n",
    "        #Add the discount in the objective function\n",
    "        discount = paramDF['Value'][2]  #discount in $\n",
    "        prob += lpSum([costRM[iRM] * RM_VolumeVar[vRM] for iRM, vRM in enumerate(rawMaterials_items)]) \\\n",
    "                    - lpSum([discount * areBothUsedRMVar[iSupplier]  for iSupplier in suppliers_items])\n",
    "                "
   ]
  },
  {
   "cell_type": "markdown",
   "metadata": {},
   "source": [
    "### Solve the problem and store the variable into a dictionnary"
   ]
  },
  {
   "cell_type": "code",
   "execution_count": 11,
   "metadata": {},
   "outputs": [
    {
     "name": "stdout",
     "output_type": "stream",
     "text": [
      "Status: Optimal\n",
      "Objective =  138175.55667710002\n",
      "RMvolume_I1 = 760.89478\n",
      "RMvolume_I10 = 219.20615\n",
      "RMvolume_I2 = 119.89907\n",
      "RMvolume_I3 = 600.0\n",
      "RMvolume_I4 = 500.0\n",
      "RMvolume_I5 = 500.0\n",
      "RMvolume_I6 = 800.0\n",
      "RMvolume_I7 = 1000.0\n",
      "RMvolume_I8 = 1000.0\n",
      "RMvolume_I9 = 0.0\n",
      "capacity_0_ : 0.0 \t\t 239.10522000000003\n",
      "capacity_1_ : 0.0 \t\t 880.1009300000001\n",
      "capacity_2_ : -4.8070588 \t\t -0.0\n",
      "capacity_3_ : -4.0152941 \t\t -0.0\n",
      "capacity_4_ : -0.068823529 \t\t -0.0\n",
      "capacity_5_ : -3.9088235 \t\t -0.0\n",
      "capacity_6_ : -1.8492785 \t\t -0.0\n",
      "capacity_7_ : -0.73823529 \t\t -0.0\n",
      "capacity_8_ : 0.0 \t\t 1000.0\n",
      "capacity_9_ : 0.0 \t\t 780.79385\n",
      "demandFG_0_ : 27.114706 \t\t -0.0\n",
      "demandFG_1_ : 25.822941 \t\t -0.0\n",
      "demandFG_2_ : 25.177059 \t\t -0.0\n",
      "demandFG_3_ : 28.557118 \t\t -0.0\n"
     ]
    }
   ],
   "source": [
    "#prob.writeLP(\"blenderProblem.lp\", writeSOS=1, mip=1)\n",
    "prob.solve()\n",
    "print(\"Status:\", LpStatus[prob.status])\n",
    "print (\"Objective = \", value(prob.objective))\n",
    "varsDict = {}\n",
    "for v in prob.variables():\n",
    "    varsDict[v.name] = v.varValue\n",
    "    if \"RMvolume\" in v.name:\n",
    "        print(v.name, \"=\", v.varValue)\n",
    "        \n",
    "for name, c in list(prob.constraints.items()):\n",
    "    if \"capacity\" in name or \"demand\" in name:\n",
    "        print(name, \":\", c.pi, \"\\t\\t\", c.slack)\n"
   ]
  },
  {
   "cell_type": "markdown",
   "metadata": {},
   "source": [
    "import matplotlib.pyplot as plt\n",
    "import numpy as np\n",
    "\n",
    "myArray = np.zeros((len(rawMaterials_items), len(finishedGoods_items)), dtype=np.float)\n",
    "for i in rawMaterials_items:\n",
    "    for j in finishedGoods_items :\n",
    "        myArray[i][j] = prob.variables(\"Recipe_('I1',_'O1')\").varValue\n",
    "plt.imshow(myArray, cmap='hot', interpolation='nearest')\n",
    "plt.show()"
   ]
  },
  {
   "cell_type": "code",
   "execution_count": 12,
   "metadata": {},
   "outputs": [
    {
     "name": "stderr",
     "output_type": "stream",
     "text": [
      "<ipython-input-12-815a6481d03e>:4: DeprecationWarning: `np.float` is a deprecated alias for the builtin `float`. To silence this warning, use `float` by itself. Doing this will not modify any behavior and is safe. If you specifically wanted the numpy scalar type, use `np.float64` here.\n",
      "Deprecated in NumPy 1.20; for more details and guidance: https://numpy.org/devdocs/release/1.20.0-notes.html#deprecations\n",
      "  myArray = np.zeros((len(rawMaterials_items), len(finishedGoods_items)), dtype=np.float)\n"
     ]
    },
    {
     "data": {
      "image/png": "[encoded data removed]",
      "text/plain": [
       "<Figure size 432x288 with 1 Axes>"
      ]
     },
     "metadata": {
      "needs_background": "light"
     },
     "output_type": "display_data"
    },
    {
     "name": "stdout",
     "output_type": "stream",
     "text": [
      "[[ 117.95983    560.24096     82.693986     0.       ]\n",
      " [ 117.93649      0.           1.9625844    0.       ]\n",
      " [ 600.           0.           0.           0.       ]\n",
      " [   0.           0.         500.           0.       ]\n",
      " [   0.         500.           0.           0.       ]\n",
      " [ 158.98039    361.01549    215.34343     64.660691 ]\n",
      " [   0.           0.           0.        1000.       ]\n",
      " [   5.1232918   78.743546     0.         916.13316  ]\n",
      " [   0.           0.           0.           0.       ]\n",
      " [   0.           0.           0.         219.20615  ]]\n"
     ]
    }
   ],
   "source": [
    "import matplotlib.pyplot as plt \n",
    "import numpy as np\n",
    "\n",
    "myArray = np.zeros((len(rawMaterials_items), len(finishedGoods_items)), dtype=np.float)\n",
    "\n",
    "\n",
    "for iRM, vRM in enumerate(rawMaterials_items):\n",
    "    for iFG, vFG in enumerate(finishedGoods_items): \n",
    "        myArray[iRM][iFG] = varsDict[\"Recipe_(\\'%s\\',_\\'%s\\')\" %(vRM, vFG)]\n",
    "plt.imshow(myArray, cmap='Blues', interpolation='nearest')\n",
    "plt.show()\n",
    "print(myArray)"
   ]
  },
  {
   "cell_type": "code",
   "execution_count": null,
   "metadata": {},
   "outputs": [],
   "source": []
  },
  {
   "cell_type": "code",
   "execution_count": null,
   "metadata": {},
   "outputs": [],
   "source": []
  },
  {
   "cell_type": "code",
   "execution_count": null,
   "metadata": {},
   "outputs": [],
   "source": []
  }
 ],
 "metadata": {
  "kernelspec": {
   "display_name": "Python 3",
   "language": "python",
   "name": "python3"
  },
  "language_info": {
   "codemirror_mode": {
    "name": "ipython",
    "version": 3
   },
   "file_extension": ".py",
   "mimetype": "text/x-python",
   "name": "python",
   "nbconvert_exporter": "python",
   "pygments_lexer": "ipython3",
   "version": "3.8.8"
  }
 },
 "nbformat": 4,
 "nbformat_minor": 4
}
