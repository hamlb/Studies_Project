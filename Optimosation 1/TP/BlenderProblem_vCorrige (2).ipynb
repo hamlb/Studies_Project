{
 "cells": [
  {
   "cell_type": "markdown",
   "metadata": {},
   "source": [
    "### Read the data from the input Excel file"
   ]
  },
  {
   "cell_type": "code",
   "execution_count": 113,
   "metadata": {
    "scrolled": true
   },
   "outputs": [],
   "source": [
    "import pandas as pd\n",
    "inputFileName = \"DataBlender.xlsx\"\n",
    "paramDF = pd.read_excel(inputFileName, \"Param\", skiprows=2)\n",
    "rawMaterialsDF = pd.read_excel(inputFileName, \"RawMaterials\", skiprows=2)\n",
    "finishedGoodsDF = pd.read_excel(inputFileName, \"FinishedGoods\", skiprows=2)"
   ]
  },
  {
   "cell_type": "markdown",
   "metadata": {},
   "source": [
    "### Set the data into list and dict, easier to manipulate"
   ]
  },
  {
   "cell_type": "code",
   "execution_count": 114,
   "metadata": {},
   "outputs": [],
   "source": [
    "#Raw materials characteristics\n",
    "rawMaterials_items = list(rawMaterialsDF['Raw materials'])\n",
    "costRM = list(rawMaterialsDF['Cost'])\n",
    "capacityRM = list(rawMaterialsDF['Capacity'])\n",
    "volumeMinRM = list(rawMaterialsDF['VolumeMin'])\n",
    "supplierRM = list(rawMaterialsDF['Supplier'])\n",
    "suppliers_items = list(set(supplierRM))  #supplier list, obtained by removing duplicates\n",
    "\n",
    "componentsRM = dict()\n",
    "componentsRM['Component1'] = list(rawMaterialsDF['Component1'])\n",
    "componentsRM['Component2'] = list(rawMaterialsDF['Component2'])\n",
    "componentsRM['Component3'] = list(rawMaterialsDF['Component3'])\n",
    "\n",
    "#Finished goods characteristics\n",
    "finishedGoods_items = list(finishedGoodsDF['Finished goods'])\n",
    "demandFG = list(finishedGoodsDF['Demand'])\n",
    "\n",
    "componentsMinFG = dict()\n",
    "componentsMinFG['Component1'] = list(finishedGoodsDF['MinComponent1'])\n",
    "componentsMinFG['Component2'] = list(finishedGoodsDF['MinComponent2'])\n",
    "componentsMinFG['Component3'] = list(finishedGoodsDF['MinComponent3'])\n",
    "\n",
    "componentsMaxFG = dict()\n",
    "componentsMaxFG['Component1'] = list(finishedGoodsDF['MaxComponent1'])\n",
    "componentsMaxFG['Component2'] = list(finishedGoodsDF['MaxComponent2'])\n",
    "componentsMaxFG['Component3'] = list(finishedGoodsDF['MaxComponent3'])\n"
   ]
  },
  {
   "cell_type": "markdown",
   "metadata": {},
   "source": [
    "### Create your linear program"
   ]
  },
  {
   "cell_type": "code",
   "execution_count": 115,
   "metadata": {},
   "outputs": [],
   "source": [
    "from pulp import *\n",
    "prob = LpProblem(\"BlenderProblem\",LpMinimize)"
   ]
  },
  {
   "cell_type": "markdown",
   "metadata": {},
   "source": [
    "### Add variables"
   ]
  },
  {
   "cell_type": "code",
   "execution_count": 116,
   "metadata": {},
   "outputs": [],
   "source": [
    "RecipeVar = LpVariable.dicts(\"Recipe\", ((i, j) for i in rawMaterials_items for j in finishedGoods_items), \n",
    "                             lowBound=0, cat='Continuous')\n",
    "RM_VolumeVar = LpVariable.dicts(\"RMvolume\", (i for i in rawMaterials_items), lowBound=0, cat='Continuous')\n",
    "FG_VolumeVar = LpVariable.dicts(\"FGvolume\", (j for j in finishedGoods_items), lowBound=0, cat='Continuous')"
   ]
  },
  {
   "cell_type": "markdown",
   "metadata": {},
   "source": [
    "### Add objectives"
   ]
  },
  {
   "cell_type": "code",
   "execution_count": 117,
   "metadata": {},
   "outputs": [],
   "source": [
    "prob += lpSum([costRM[iRM] * RM_VolumeVar[vRM] for iRM, vRM in enumerate(rawMaterials_items)])"
   ]
  },
  {
   "cell_type": "markdown",
   "metadata": {},
   "source": [
    "### Add constraints"
   ]
  },
  {
   "cell_type": "code",
   "execution_count": 118,
   "metadata": {},
   "outputs": [],
   "source": [
    "#Define RM_VolumeVar\n",
    "for iRM in rawMaterials_items : \n",
    "    prob += lpSum([RecipeVar[iRM,iFG] for iFG in finishedGoods_items]) == RM_VolumeVar[iRM], \"defVolumeRM[%s]\"%(iRM)\n",
    "    \n",
    "#Define FG_VolumeVar\n",
    "for iFG in finishedGoods_items : \n",
    "    prob += lpSum([RecipeVar[iRM,iFG] for iRM in rawMaterials_items]) == FG_VolumeVar[iFG], \"defVolumeFG[%s]\"%(iFG)\n",
    "    \n",
    "#Capacity constraint\n",
    "for iRM, vRM in enumerate(rawMaterials_items) : \n",
    "    prob += RM_VolumeVar[vRM] <= capacityRM[iRM], \"capacity[%s]\"%(iRM)\n",
    "\n",
    "#Demand constraint\n",
    "for iFG, vFG in enumerate(finishedGoods_items) : \n",
    "    prob += FG_VolumeVar[vFG] >= demandFG[iFG], \"demandFG[%s]\"%(iFG)\n",
    "    \n",
    "#Min & max components in the finished goods\n",
    "for iComponent in ['Component1', 'Component2', 'Component3']:\n",
    "    for iFG, vFG in enumerate(finishedGoods_items) : \n",
    "        #print(componentsMinFG[iComponent][iFG])\n",
    "        prob += lpSum([componentsRM[iComponent][iRM] * RecipeVar[vRM,vFG] for iRM, vRM in enumerate(rawMaterials_items)]) >= FG_VolumeVar[vFG] * componentsMinFG[iComponent][iFG]\n",
    "        prob += lpSum([componentsRM[iComponent][iRM] * RecipeVar[vRM,vFG] for iRM, vRM in enumerate(rawMaterials_items)]) <= FG_VolumeVar[vFG] * componentsMaxFG[iComponent][iFG]"
   ]
  },
  {
   "cell_type": "markdown",
   "metadata": {},
   "source": [
    "### Solve the problem and store the variable into a dictionnary"
   ]
  },
  {
   "cell_type": "code",
   "execution_count": 119,
   "metadata": {},
   "outputs": [
    {
     "name": "stdout",
     "output_type": "stream",
     "text": [
      "Status: Optimal\n",
      "Objective =  132657.67138369998\n",
      "RMvolume_I1 = 760.71831\n",
      "RMvolume_I10 = 219.20615\n",
      "RMvolume_I2 = 121.07554\n",
      "RMvolume_I3 = 600.0\n",
      "RMvolume_I4 = 500.0\n",
      "RMvolume_I5 = 500.0\n",
      "RMvolume_I6 = 800.0\n",
      "RMvolume_I7 = 1000.0\n",
      "RMvolume_I8 = 1000.0\n",
      "RMvolume_I9 = 0.0\n"
     ]
    }
   ],
   "source": [
    "#prob.writeLP(\"blenderProblem.lp\", writeSOS=1, mip=1)\n",
    "prob.solve()\n",
    "print(\"Status:\", LpStatus[prob.status])\n",
    "print (\"Objective = \", value(prob.objective))\n",
    "varsDict = {}\n",
    "for v in prob.variables():\n",
    "    varsDict[v.name] = v.varValue\n",
    "    if \"RMvolume\" in v.name:\n",
    "        print(v.name, \"=\", v.varValue)\n"
   ]
  },
  {
   "cell_type": "markdown",
   "metadata": {},
   "source": [
    "import matplotlib.pyplot as plt\n",
    "import numpy as np\n",
    "\n",
    "myArray = np.zeros((len(rawMaterials_items), len(finishedGoods_items)), dtype=np.float)\n",
    "for i in rawMaterials_items:\n",
    "    for j in finishedGoods_items :\n",
    "        myArray[i][j] = prob.variables(\"Recipe_('I1',_'O1')\").varValue\n",
    "plt.imshow(myArray, cmap='hot', interpolation='nearest')\n",
    "plt.show()"
   ]
  },
  {
   "cell_type": "code",
   "execution_count": 120,
   "metadata": {},
   "outputs": [
    {
     "name": "stdout",
     "output_type": "stream",
     "text": [
      "defVolumeRM_I1_ : -28.55 \t\t 1.563194e-13\n",
      "defVolumeRM_I2_ : -27.33 \t\t 8.8817842e-15\n",
      "defVolumeRM_I3_ : -27.617059 \t\t -0.0\n",
      "defVolumeRM_I4_ : -25.105294 \t\t -1.1368684e-13\n",
      "defVolumeRM_I5_ : -24.028824 \t\t -5.6843419e-14\n",
      "defVolumeRM_I6_ : -24.028824 \t\t -1.7053026e-13\n",
      "defVolumeRM_I7_ : -31.389278 \t\t 1.1368684e-13\n",
      "defVolumeRM_I8_ : -26.038235 \t\t -1.1368684e-13\n",
      "defVolumeRM_I9_ : -32.9 \t\t -0.0\n",
      "defVolumeRM_I10_ : -27.5 \t\t 2.8421709e-14\n",
      "defVolumeFG_O1_ : 23.024118 \t\t -1.2434498e-13\n",
      "defVolumeFG_O2_ : 23.024118 \t\t -1.9895197e-13\n",
      "defVolumeFG_O3_ : 23.024118 \t\t -1.1368684e-13\n",
      "defVolumeFG_O4_ : 25.342453 \t\t -2.2737368e-13\n",
      "capacity_0_ : 0.0 \t\t 239.28169000000003\n",
      "capacity_1_ : 0.0 \t\t 878.92446\n",
      "capacity_2_ : -4.8070588 \t\t -0.0\n",
      "capacity_3_ : -15.105294 \t\t -0.0\n",
      "capacity_4_ : -0.068823529 \t\t -0.0\n",
      "capacity_5_ : -3.9088235 \t\t -0.0\n",
      "capacity_6_ : -1.8492785 \t\t -0.0\n",
      "capacity_7_ : -0.73823529 \t\t -0.0\n",
      "capacity_8_ : 0.0 \t\t 1000.0\n",
      "capacity_9_ : 0.0 \t\t 780.79385\n",
      "demandFG_0_ : 27.114706 \t\t -0.0\n",
      "demandFG_1_ : 25.822941 \t\t -0.0\n",
      "demandFG_2_ : 25.177059 \t\t -0.0\n",
      "demandFG_3_ : 28.557118 \t\t -0.0\n",
      "_C1 : 0.0 \t\t -54.716404\n",
      "_C2 : 0.0 \t\t 55.393596\n",
      "_C3 : 0.0 \t\t -9.2370556e-14\n",
      "_C4 : 0.0 \t\t 210.0\n",
      "_C5 : 0.0 \t\t -130.95308\n",
      "_C6 : 0.0 \t\t 29.046916\n",
      "_C7 : 0.0 \t\t -374.0\n",
      "_C8 : -7.8715071 \t\t -1.1368684e-13\n",
      "_C9 : 7.1764706 \t\t -9.7699626e-15\n",
      "_C10 : 0.0 \t\t 150.15\n",
      "_C11 : 7.1764706 \t\t 4.2632564e-14\n",
      "_C12 : 0.0 \t\t 195.0\n",
      "_C13 : 7.1764706 \t\t -1.7763568e-14\n",
      "_C14 : 0.0 \t\t 152.0\n",
      "_C15 : 0.0 \t\t -219.28553\n",
      "_C16 : 0.0 \t\t 110.71447\n",
      "_C17 : 0.0 \t\t -3.4638958e-14\n",
      "_C18 : 0.0 \t\t 130.13\n",
      "_C19 : 0.0 \t\t -192.08262\n",
      "_C20 : 0.0 \t\t 32.917384\n",
      "_C21 : 0.0 \t\t -50.596039\n",
      "_C22 : 0.0 \t\t 93.403961\n",
      "_C23 : 8.642841 \t\t -1.1368684e-13\n",
      "_C24 : 0.0 \t\t 220.0\n"
     ]
    }
   ],
   "source": [
    "for name, c in list(prob.constraints.items()): print(name, \":\", c.pi, \"\\t\\t\", c.slack)"
   ]
  },
  {
   "cell_type": "code",
   "execution_count": 121,
   "metadata": {},
   "outputs": [
    {
     "name": "stderr",
     "output_type": "stream",
     "text": [
      "<ipython-input-121-815a6481d03e>:4: DeprecationWarning: `np.float` is a deprecated alias for the builtin `float`. To silence this warning, use `float` by itself. Doing this will not modify any behavior and is safe. If you specifically wanted the numpy scalar type, use `np.float64` here.\n",
      "Deprecated in NumPy 1.20; for more details and guidance: https://numpy.org/devdocs/release/1.20.0-notes.html#deprecations\n",
      "  myArray = np.zeros((len(rawMaterials_items), len(finishedGoods_items)), dtype=np.float)\n"
     ]
    },
    {
     "data": {
      "image/png": "[encoded data removed]",
      "text/plain": [
       "<Figure size 432x288 with 1 Axes>"
      ]
     },
     "metadata": {
      "needs_background": "light"
     },
     "output_type": "display_data"
    },
    {
     "name": "stdout",
     "output_type": "stream",
     "text": [
      "[[ 118.96148    560.24096     81.515869     0.       ]\n",
      " [ 117.49945      0.           3.576092     0.       ]\n",
      " [ 600.           0.           0.           0.       ]\n",
      " [   0.           0.         500.           0.       ]\n",
      " [   0.         500.           0.           0.       ]\n",
      " [ 159.41578    361.01549    214.90804     64.660691 ]\n",
      " [   0.           0.           0.        1000.       ]\n",
      " [   5.1232918   78.743546     0.         916.13316  ]\n",
      " [   0.           0.           0.           0.       ]\n",
      " [   0.           0.           0.         219.20615  ]]\n"
     ]
    }
   ],
   "source": [
    "import matplotlib.pyplot as plt \n",
    "import numpy as np\n",
    "\n",
    "myArray = np.zeros((len(rawMaterials_items), len(finishedGoods_items)), dtype=np.float)\n",
    "\n",
    "\n",
    "for iRM, vRM in enumerate(rawMaterials_items):\n",
    "    for iFG, vFG in enumerate(finishedGoods_items): \n",
    "        myArray[iRM][iFG] = varsDict[\"Recipe_(\\'%s\\',_\\'%s\\')\" %(vRM, vFG)]\n",
    "plt.imshow(myArray, cmap='Blues', interpolation='nearest')\n",
    "plt.show()\n",
    "print(myArray)"
   ]
  },
  {
   "cell_type": "code",
   "execution_count": 122,
   "metadata": {},
   "outputs": [
    {
     "name": "stdout",
     "output_type": "stream",
     "text": [
      "defVolumeRM_I1_ : -28.55 \t\t 1.563194e-13\n",
      "defVolumeRM_I2_ : -27.33 \t\t 8.8817842e-15\n",
      "defVolumeRM_I3_ : -27.617059 \t\t -0.0\n",
      "defVolumeRM_I4_ : -25.105294 \t\t -1.1368684e-13\n",
      "defVolumeRM_I5_ : -24.028824 \t\t -5.6843419e-14\n",
      "defVolumeRM_I6_ : -24.028824 \t\t -1.7053026e-13\n",
      "defVolumeRM_I7_ : -31.389278 \t\t 1.1368684e-13\n",
      "defVolumeRM_I8_ : -26.038235 \t\t -1.1368684e-13\n",
      "defVolumeRM_I9_ : -32.9 \t\t -0.0\n",
      "defVolumeRM_I10_ : -27.5 \t\t 2.8421709e-14\n",
      "defVolumeFG_O1_ : 23.024118 \t\t -1.2434498e-13\n",
      "defVolumeFG_O2_ : 23.024118 \t\t -1.9895197e-13\n",
      "defVolumeFG_O3_ : 23.024118 \t\t -1.1368684e-13\n",
      "defVolumeFG_O4_ : 25.342453 \t\t -2.2737368e-13\n",
      "capacity_0_ : 0.0 \t\t 239.28169000000003\n",
      "capacity_1_ : 0.0 \t\t 878.92446\n",
      "capacity_2_ : -4.8070588 \t\t -0.0\n",
      "capacity_3_ : -15.105294 \t\t -0.0\n",
      "capacity_4_ : -0.068823529 \t\t -0.0\n",
      "capacity_5_ : -3.9088235 \t\t -0.0\n",
      "capacity_6_ : -1.8492785 \t\t -0.0\n",
      "capacity_7_ : -0.73823529 \t\t -0.0\n",
      "capacity_8_ : 0.0 \t\t 1000.0\n",
      "capacity_9_ : 0.0 \t\t 780.79385\n",
      "demandFG_0_ : 27.114706 \t\t -0.0\n",
      "demandFG_1_ : 25.822941 \t\t -0.0\n",
      "demandFG_2_ : 25.177059 \t\t -0.0\n",
      "demandFG_3_ : 28.557118 \t\t -0.0\n",
      "_C1 : 0.0 \t\t -54.716404\n",
      "_C2 : 0.0 \t\t 55.393596\n",
      "_C3 : 0.0 \t\t -9.2370556e-14\n",
      "_C4 : 0.0 \t\t 210.0\n",
      "_C5 : 0.0 \t\t -130.95308\n",
      "_C6 : 0.0 \t\t 29.046916\n",
      "_C7 : 0.0 \t\t -374.0\n",
      "_C8 : -7.8715071 \t\t -1.1368684e-13\n",
      "_C9 : 7.1764706 \t\t -9.7699626e-15\n",
      "_C10 : 0.0 \t\t 150.15\n",
      "_C11 : 7.1764706 \t\t 4.2632564e-14\n",
      "_C12 : 0.0 \t\t 195.0\n",
      "_C13 : 7.1764706 \t\t -1.7763568e-14\n",
      "_C14 : 0.0 \t\t 152.0\n",
      "_C15 : 0.0 \t\t -219.28553\n",
      "_C16 : 0.0 \t\t 110.71447\n",
      "_C17 : 0.0 \t\t -3.4638958e-14\n",
      "_C18 : 0.0 \t\t 130.13\n",
      "_C19 : 0.0 \t\t -192.08262\n",
      "_C20 : 0.0 \t\t 32.917384\n",
      "_C21 : 0.0 \t\t -50.596039\n",
      "_C22 : 0.0 \t\t 93.403961\n",
      "_C23 : 8.642841 \t\t -1.1368684e-13\n",
      "_C24 : 0.0 \t\t 220.0\n"
     ]
    }
   ],
   "source": [
    "for name, c in list(prob.constraints.items()): print(name, \":\", c.pi, \"\\t\\t\", c.slack)"
   ]
  },
  {
   "cell_type": "code",
   "execution_count": null,
   "metadata": {},
   "outputs": [],
   "source": []
  }
 ],
 "metadata": {
  "kernelspec": {
   "display_name": "Python 3",
   "language": "python",
   "name": "python3"
  },
  "language_info": {
   "codemirror_mode": {
    "name": "ipython",
    "version": 3
   },
   "file_extension": ".py",
   "mimetype": "text/x-python",
   "name": "python",
   "nbconvert_exporter": "python",
   "pygments_lexer": "ipython3",
   "version": "3.8.8"
  }
 },
 "nbformat": 4,
 "nbformat_minor": 4
}
