{
 "cells": [
  {
   "cell_type": "markdown",
   "metadata": {},
   "source": [
    "### Read the data from the input Excel file"
   ]
  },
  {
   "cell_type": "code",
   "execution_count": 1,
   "metadata": {
    "scrolled": true
   },
   "outputs": [],
   "source": [
    "import pandas as pd\n",
    "inputFileName = \"DataBlender.xlsx\"\n",
    "paramDF = pd.read_excel(inputFileName, \"Param\", skiprows=2)\n",
    "rawMaterialsDF = pd.read_excel(inputFileName, \"RawMaterials\", skiprows=2)\n",
    "finishedGoodsDF = pd.read_excel(inputFileName, \"FinishedGoods\", skiprows=2)"
   ]
  },
  {
   "cell_type": "markdown",
   "metadata": {},
   "source": [
    "### Set the data into list and dict, easier to manipulate"
   ]
  },
  {
   "cell_type": "code",
   "execution_count": 2,
   "metadata": {},
   "outputs": [],
   "source": [
    "#Raw materials characteristics\n",
    "rawMaterials_items = list(rawMaterialsDF['Raw materials'])\n",
    "costRM = list(rawMaterialsDF['Cost'])\n",
    "capacityRM = list(rawMaterialsDF['Capacity'])\n",
    "volumeMinRM = list(rawMaterialsDF['VolumeMin'])\n",
    "supplierRM = list(rawMaterialsDF['Supplier'])\n",
    "suppliers_items = list(set(supplierRM))  #supplier list, obtained by removing duplicates\n",
    "\n",
    "componentsRM = dict()\n",
    "componentsRM['Component1'] = list(rawMaterialsDF['Component1'])\n",
    "componentsRM['Component2'] = list(rawMaterialsDF['Component2'])\n",
    "componentsRM['Component3'] = list(rawMaterialsDF['Component3'])\n",
    "\n",
    "#Finished goods characteristics\n",
    "finishedGoods_items = list(finishedGoodsDF['Finished goods'])\n",
    "demandFG = list(finishedGoodsDF['Demand'])\n",
    "\n",
    "componentsMinFG = dict()\n",
    "componentsMinFG['Component1'] = list(finishedGoodsDF['MinComponent1'])\n",
    "componentsMinFG['Component2'] = list(finishedGoodsDF['MinComponent2'])\n",
    "componentsMinFG['Component3'] = list(finishedGoodsDF['MinComponent3'])\n",
    "\n",
    "componentsMaxFG = dict()\n",
    "componentsMaxFG['Component1'] = list(finishedGoodsDF['MaxComponent1'])\n",
    "componentsMaxFG['Component2'] = list(finishedGoodsDF['MaxComponent2'])\n",
    "componentsMaxFG['Component3'] = list(finishedGoodsDF['MaxComponent3'])\n"
   ]
  },
  {
   "cell_type": "markdown",
   "metadata": {},
   "source": [
    "### Create your linear program"
   ]
  },
  {
   "cell_type": "code",
   "execution_count": 3,
   "metadata": {},
   "outputs": [],
   "source": [
    "from pulp import *\n",
    "prob = LpProblem(\"BlenderProblem\",LpMinimize)"
   ]
  },
  {
   "cell_type": "markdown",
   "metadata": {},
   "source": [
    "### Add variables"
   ]
  },
  {
   "cell_type": "code",
   "execution_count": 4,
   "metadata": {},
   "outputs": [],
   "source": [
    "RecipeVar = LpVariable.dicts(\"Recipe\", ((i, j) for i in rawMaterials_items for j in finishedGoods_items), \n",
    "                             lowBound=0, cat='Continuous')\n",
    "RM_VolumeVar = LpVariable.dicts(\"RMvolume\", (i for i in rawMaterials_items), lowBound=0, cat='Continuous')\n",
    "FG_VolumeVar = LpVariable.dicts(\"FGvolume\", (j for j in finishedGoods_items), lowBound=0, cat='Continuous')"
   ]
  },
  {
   "cell_type": "markdown",
   "metadata": {},
   "source": [
    "### Add objectives"
   ]
  },
  {
   "cell_type": "code",
   "execution_count": 5,
   "metadata": {},
   "outputs": [],
   "source": [
    " #prob += "
   ]
  },
  {
   "cell_type": "markdown",
   "metadata": {},
   "source": [
    "### Add constraints"
   ]
  },
  {
   "cell_type": "code",
   "execution_count": null,
   "metadata": {},
   "outputs": [],
   "source": []
  },
  {
   "cell_type": "markdown",
   "metadata": {},
   "source": [
    "### Solve the problem and store the variable into a dictionnary"
   ]
  },
  {
   "cell_type": "code",
   "execution_count": 7,
   "metadata": {},
   "outputs": [
    {
     "name": "stdout",
     "output_type": "stream",
     "text": [
      "Status: Optimal\n"
     ]
    }
   ],
   "source": [
    "#prob.writeLP(\"blenderProblem.lp\", writeSOS=1, mip=1)\n",
    "prob.solve()\n",
    "print(\"Status:\", LpStatus[prob.status])\n",
    "if LpStatus[prob.status] == 1 : #1 for Optimal, 0 for \"Not Solved\", -1 for \"Infeasible\", -2 \"Unbounded\", -3 \"Undefined\"\n",
    "    print (\"Objective = \", value(prob.objective))\n",
    "    varsDict = {}\n",
    "    for v in prob.variables():\n",
    "        varsDict[v.name] = v.varValue\n",
    "        if \"RMvolume\" in v.name:\n",
    "            print(v.name, \"=\", v.varValue)\n",
    "\n"
   ]
  },
  {
   "cell_type": "markdown",
   "metadata": {},
   "source": [
    "import matplotlib.pyplot as plt\n",
    "import numpy as np\n",
    "\n",
    "myArray = np.zeros((len(rawMaterials_items), len(finishedGoods_items)), dtype=np.float)\n",
    "for i in rawMaterials_items:\n",
    "    for j in finishedGoods_items :\n",
    "        myArray[i][j] = prob.variables(\"Recipe_('I1',_'O1')\").varValue\n",
    "plt.imshow(myArray, cmap='hot', interpolation='nearest')\n",
    "plt.show()"
   ]
  },
  {
   "cell_type": "code",
   "execution_count": null,
   "metadata": {},
   "outputs": [],
   "source": [
    "import matplotlib.pyplot as plt \n",
    "import numpy as np\n",
    "\n",
    "myArray = np.zeros((len(rawMaterials_items), len(finishedGoods_items)), dtype=np.float)\n",
    "\n",
    "\n",
    "for iRM, vRM in enumerate(rawMaterials_items):\n",
    "    for iFG, vFG in enumerate(finishedGoods_items): \n",
    "        myArray[iRM][iFG] = varsDict[\"Recipe_(\\'%s\\',_\\'%s\\')\" %(vRM, vFG)]\n",
    "plt.imshow(myArray, cmap='Blues', interpolation='nearest')\n",
    "plt.show()\n",
    "print(myArray)"
   ]
  },
  {
   "cell_type": "code",
   "execution_count": null,
   "metadata": {},
   "outputs": [],
   "source": []
  },
  {
   "cell_type": "code",
   "execution_count": null,
   "metadata": {},
   "outputs": [],
   "source": []
  }
 ],
 "metadata": {
  "kernelspec": {
   "display_name": "Python 3",
   "language": "python",
   "name": "python3"
  },
  "language_info": {
   "codemirror_mode": {
    "name": "ipython",
    "version": 3
   },
   "file_extension": ".py",
   "mimetype": "text/x-python",
   "name": "python",
   "nbconvert_exporter": "python",
   "pygments_lexer": "ipython3",
   "version": "3.8.3"
  }
 },
 "nbformat": 4,
 "nbformat_minor": 4
}
