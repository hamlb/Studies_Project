{
 "cells": [
  {
   "cell_type": "code",
   "execution_count": 3,
   "metadata": {},
   "outputs": [
    {
     "name": "stdout",
     "output_type": "stream",
     "text": [
      "     pcost       dcost       gap    pres   dres\n",
      " 0: -8.3015e+04 -7.8424e+04  5e+03  1e+02  8e-02\n",
      " 1: -6.5402e+04 -7.0337e+04  5e+03  6e-14  4e-16\n",
      " 2: -6.8925e+04 -6.9048e+04  1e+02  1e-15  8e-17\n",
      " 3: -6.9028e+04 -6.9029e+04  1e+00  8e-15  1e-16\n",
      " 4: -6.9029e+04 -6.9029e+04  1e-02  1e-14  1e-16\n",
      "Optimal solution found.\n",
      "Revenue =  69028.88692563216\n",
      "Trade matrix : 36.2 to market1, 19.8 to market2, 44.0 to market3, 0.0 of spare\n"
     ]
    }
   ],
   "source": [
    "import random\n",
    "\n",
    "from math import sqrt\n",
    "from numpy import array\n",
    "import scipy.linalg as linalg\n",
    "\n",
    "from cvxopt import matrix\n",
    "from cvxopt.blas import dot\n",
    "from cvxopt.solvers import qp, options\n",
    "\n",
    "n = 4\n",
    "\n",
    "nbMarkets = 3\n",
    "capacity = 100.0\n",
    "\n",
    "\n",
    "slope = [-8, -15, -6] \n",
    "WTP = [1000, 1020, 950]\n",
    "cost = [10, 15, 12]\n",
    "\n",
    "P = matrix(0.0, (nbMarkets+1,nbMarkets+1))  #+1 since we add a variable for the spare  P[i,j] is the i-th row, j-th column value\n",
    "for i in range(nbMarkets) : P[i,i] = -2*slope[i]\n",
    "    \n",
    "q = matrix(0.0, (nbMarkets+1,1))\n",
    "for i in range(nbMarkets) : q[i,0] = cost[i] - WTP[i]\n",
    "    \n",
    "#Build matrices : matrix(v, (n,m)) will build a matrix of n rows, m columns, containing the value \"v\" in each cell\n",
    "G = matrix([[-1.0,0.0,0.0,0.0],\n",
    "            [0.0,-1.0,0.0,0.0],\n",
    "            [0.0,0.0,-1.0,0.0],\n",
    "            [0.0,0.0,0.0,-1.0]])\n",
    "\n",
    "h = matrix(0.0, (n,1))\n",
    "\n",
    "A = matrix(1.0, (1,n))\n",
    "b = matrix(capacity)\n",
    "    \n",
    "xOpt =qp(P, q, G, h, A, b)\n",
    "print('Revenue = ', -xOpt['primal objective'])\n",
    "print('Trade matrix : %.1f to market1, %.1f to market2, %.1f to market3, %.1f of spare'%(xOpt['x'][0],xOpt['x'][1],xOpt['x'][2],xOpt['x'][3])) \n",
    "\n",
    "\n",
    "            \n",
    "        \n"
   ]
  },
  {
   "cell_type": "code",
   "execution_count": 1,
   "metadata": {},
   "outputs": [
    {
     "name": "stdout",
     "output_type": "stream",
     "text": [
      "Status: Optimal\n"
     ]
    },
    {
     "ename": "AttributeError",
     "evalue": "'NoneType' object has no attribute 'value'",
     "output_type": "error",
     "traceback": [
      "\u001b[1;31m---------------------------------------------------------------------------\u001b[0m",
      "\u001b[1;31mAttributeError\u001b[0m                            Traceback (most recent call last)",
      "\u001b[1;32m<ipython-input-1-b09b71d25ca0>\u001b[0m in \u001b[0;36m<module>\u001b[1;34m\u001b[0m\n\u001b[0;32m     45\u001b[0m \u001b[0mprob\u001b[0m\u001b[1;33m.\u001b[0m\u001b[0msolve\u001b[0m\u001b[1;33m(\u001b[0m\u001b[1;33m)\u001b[0m\u001b[1;33m\u001b[0m\u001b[1;33m\u001b[0m\u001b[0m\n\u001b[0;32m     46\u001b[0m \u001b[0mprint\u001b[0m\u001b[1;33m(\u001b[0m\u001b[1;34m\"Status:\"\u001b[0m\u001b[1;33m,\u001b[0m \u001b[0mLpStatus\u001b[0m\u001b[1;33m[\u001b[0m\u001b[0mprob\u001b[0m\u001b[1;33m.\u001b[0m\u001b[0mstatus\u001b[0m\u001b[1;33m]\u001b[0m\u001b[1;33m)\u001b[0m\u001b[1;33m\u001b[0m\u001b[1;33m\u001b[0m\u001b[0m\n\u001b[1;32m---> 47\u001b[1;33m \u001b[0mprint\u001b[0m \u001b[1;33m(\u001b[0m\u001b[1;34m\"Objective = \"\u001b[0m\u001b[1;33m,\u001b[0m \u001b[0mvalue\u001b[0m\u001b[1;33m(\u001b[0m\u001b[0mprob\u001b[0m\u001b[1;33m.\u001b[0m\u001b[0mobjective\u001b[0m\u001b[1;33m)\u001b[0m\u001b[1;33m)\u001b[0m\u001b[1;33m\u001b[0m\u001b[1;33m\u001b[0m\u001b[0m\n\u001b[0m\u001b[0;32m     48\u001b[0m \u001b[0mprob\u001b[0m\u001b[1;33m.\u001b[0m\u001b[0mwriteLP\u001b[0m\u001b[1;33m(\u001b[0m\u001b[1;34m\"marketProblem.lp\"\u001b[0m\u001b[1;33m,\u001b[0m \u001b[0mwriteSOS\u001b[0m\u001b[1;33m=\u001b[0m\u001b[1;36m1\u001b[0m\u001b[1;33m,\u001b[0m \u001b[0mmip\u001b[0m\u001b[1;33m=\u001b[0m\u001b[1;36m1\u001b[0m\u001b[1;33m)\u001b[0m\u001b[1;33m\u001b[0m\u001b[1;33m\u001b[0m\u001b[0m\n\u001b[0;32m     49\u001b[0m \u001b[1;32mfor\u001b[0m \u001b[0mv\u001b[0m \u001b[1;32min\u001b[0m \u001b[0mprob\u001b[0m\u001b[1;33m.\u001b[0m\u001b[0mvariables\u001b[0m\u001b[1;33m(\u001b[0m\u001b[1;33m)\u001b[0m\u001b[1;33m:\u001b[0m\u001b[1;33m\u001b[0m\u001b[1;33m\u001b[0m\u001b[0m\n",
      "\u001b[1;32m~\\anaconda3\\lib\\site-packages\\pulp\\utilities.py\u001b[0m in \u001b[0;36mvalue\u001b[1;34m(x)\u001b[0m\n\u001b[0;32m     14\u001b[0m         \u001b[1;32mreturn\u001b[0m \u001b[0mx\u001b[0m\u001b[1;33m\u001b[0m\u001b[1;33m\u001b[0m\u001b[0m\n\u001b[0;32m     15\u001b[0m     \u001b[1;32melse\u001b[0m\u001b[1;33m:\u001b[0m\u001b[1;33m\u001b[0m\u001b[1;33m\u001b[0m\u001b[0m\n\u001b[1;32m---> 16\u001b[1;33m         \u001b[1;32mreturn\u001b[0m \u001b[0mx\u001b[0m\u001b[1;33m.\u001b[0m\u001b[0mvalue\u001b[0m\u001b[1;33m(\u001b[0m\u001b[1;33m)\u001b[0m\u001b[1;33m\u001b[0m\u001b[1;33m\u001b[0m\u001b[0m\n\u001b[0m\u001b[0;32m     17\u001b[0m \u001b[1;33m\u001b[0m\u001b[0m\n\u001b[0;32m     18\u001b[0m \u001b[1;33m\u001b[0m\u001b[0m\n",
      "\u001b[1;31mAttributeError\u001b[0m: 'NoneType' object has no attribute 'value'"
     ]
    }
   ],
   "source": [
    "import numpy as np\n",
    "from pulp import *\n",
    "\n",
    "\n",
    "def myQuadraticFunction(x) : #x is an np.array of lenghth = 3\n",
    "    quadraticTerm = - np.sum(np.array(slope)*x*x)\n",
    "    linearTerm = np.dot(x, np.array(cost) - np.array(WTP))\n",
    "    return quadraticTerm + linearTerm\n",
    "\n",
    "\n",
    "prob = LpProblem(\"MarketProblem\",LpMinimize)\n",
    "#flows_Var = ...\n",
    "#Z_Var = ... \n",
    "# prob += ... set objective function\n",
    "# prob += ... set capacity constraint\n",
    "\n",
    "\n",
    "\n",
    "#Generate a set of point x_k around a starting point x0 and put it in the dict such that hyperplanDict['xk'] is a np.array with the 3 components\n",
    "\n",
    "step_size = 0.5\n",
    "nbStep = 22\n",
    "x0 = [30.0, 10.0, 40.0]\n",
    "\n",
    "hyperplanDict = {}\n",
    "counter=0\n",
    "for i1 in range(nbStep):\n",
    "    for i2 in range(nbStep):\n",
    "        for i3 in range(nbStep):\n",
    "            hyperplanDict['x%s'%(counter)] = np.array([x0[0] + step_size * i1, x0[1]  + step_size * i2, x0[2]  + step_size * i3])\n",
    "            counter+=1\n",
    "        \n",
    "        \n",
    "\n",
    "for i in hyperplanDict : \n",
    "    x = hyperplanDict[i]  #a np.array of lenght 3\n",
    "    \n",
    "    #hyperplanSlope = ... a np.array of length 3\n",
    "    #intercept = ... a scalar\n",
    "\n",
    "    #prob += ... add the linear solver\n",
    "\n",
    "\n",
    "    \n",
    "#Solve and get the solution\n",
    "solution = [0,0,0]  #initiate the solution\n",
    "prob.solve()\n",
    "print(\"Status:\", LpStatus[prob.status])\n",
    "print (\"Objective = \", value(prob.objective))\n",
    "prob.writeLP(\"marketProblem.lp\", writeSOS=1, mip=1)\n",
    "for v in prob.variables(): \n",
    "    print(v.name, v.varValue)\n",
    "    for i in range(3) : \n",
    "        if v.name == \"Flows_%s\"%(i) : solution[i] = v.varValue\n",
    "            \n",
    "print(\"f(%s)=%f\"%(solution,myQuadraticFunction(np.array(solution))))\n"
   ]
  },
  {
   "cell_type": "code",
   "execution_count": 46,
   "metadata": {},
   "outputs": [
    {
     "name": "stdout",
     "output_type": "stream",
     "text": [
      "-69110.48\n"
     ]
    }
   ],
   "source": [
    "x = np.array([36.2, 20, 44])  \n",
    "print(myQuadraticFunction(x))"
   ]
  }
 ],
 "metadata": {
  "kernelspec": {
   "display_name": "Python 3",
   "language": "python",
   "name": "python3"
  },
  "language_info": {
   "codemirror_mode": {
    "name": "ipython",
    "version": 3
   },
   "file_extension": ".py",
   "mimetype": "text/x-python",
   "name": "python",
   "nbconvert_exporter": "python",
   "pygments_lexer": "ipython3",
   "version": "3.8.3"
  }
 },
 "nbformat": 4,
 "nbformat_minor": 4
}
