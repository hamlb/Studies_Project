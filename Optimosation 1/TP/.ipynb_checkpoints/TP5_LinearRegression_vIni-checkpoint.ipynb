{
 "cells": [
  {
   "cell_type": "markdown",
   "metadata": {},
   "source": [
    "### Read the training set from the input Excel file"
   ]
  },
  {
   "cell_type": "code",
   "execution_count": 2,
   "metadata": {},
   "outputs": [],
   "source": [
    "import pandas as pd\n",
    "import numpy as np\n",
    "\n",
    "inputFileName = \"TP5_LinearRegression.xlsx\"\n",
    "trainingSet1DF = pd.read_excel(inputFileName, \"TrainingSet1\", skiprows=0)\n",
    "\n",
    "x = np.asarray(list(trainingSet1DF['x']))\n",
    "x = x.reshape(len(x),1)\n",
    "\n",
    "v = np.asarray(list(trainingSet1DF['v']))\n",
    "v = v.reshape(len(v),1)\n",
    "\n",
    "\n",
    "normalisationCoef = len(x)**2\n",
    "\n",
    "def G(a, b): \n",
    "    return np.vdot((a*x + b - v),(a*x + b - v))/normalisationCoef\n",
    "\n",
    "def DG_a(a, b):\n",
    "    return np.vdot(2*x,(a*x + b - v))/normalisationCoef\n",
    "\n",
    "def DG_b(a, b):\n",
    "    return np.vdot(2*np.ones((len(x), 1)),(a*x + b - v))/normalisationCoef\n",
    "\n"
   ]
  }
 ],
 "metadata": {
  "kernelspec": {
   "display_name": "Python 3",
   "language": "python",
   "name": "python3"
  },
  "language_info": {
   "codemirror_mode": {
    "name": "ipython",
    "version": 3
   },
   "file_extension": ".py",
   "mimetype": "text/x-python",
   "name": "python",
   "nbconvert_exporter": "python",
   "pygments_lexer": "ipython3",
   "version": "3.8.3"
  }
 },
 "nbformat": 4,
 "nbformat_minor": 4
}
