{
 "cells": [
  {
   "cell_type": "markdown",
   "metadata": {},
   "source": [
    "### Read the data from the input Excel file"
   ]
  },
  {
   "cell_type": "code",
   "execution_count": 6,
   "metadata": {
    "scrolled": true
   },
   "outputs": [],
   "source": [
    "import pandas as pd\n",
    "from pulp import *\n",
    "inputFileName = \"TransportationPb_Data.xlsx\"\n",
    "paramDF = pd.read_excel(inputFileName, \"Param\", skiprows=0)\n",
    "supplyDF = pd.read_excel(inputFileName, \"Supply\", skiprows=0, index_col=0)\n",
    "demandDF = pd.read_excel(inputFileName, \"Demand\", skiprows=0, index_col=0)\n",
    "freightDF = pd.read_excel(inputFileName, \"Freight\", skiprows=0, index_col=2)"
   ]
  },
  {
   "cell_type": "code",
   "execution_count": 5,
   "metadata": {},
   "outputs": [
    {
     "name": "stdout",
     "output_type": "stream",
     "text": [
      "Requirement already satisfied: pulp in /Users/mizo/opt/anaconda3/lib/python3.8/site-packages (2.5.1)\n",
      "Note: you may need to restart the kernel to use updated packages.\n"
     ]
    }
   ],
   "source": []
  },
  {
   "cell_type": "markdown",
   "metadata": {},
   "source": [
    "### Set the data into dict, easier to manipulate"
   ]
  },
  {
   "cell_type": "code",
   "execution_count": 175,
   "metadata": {},
   "outputs": [],
   "source": [
    "plants = supplyDF.to_dict('index')\n",
    "markets = demandDF.to_dict('index')\n",
    "   \n",
    "\n",
    "freightCost = {}  #freightCost[iPlant][iMarket]\n",
    "for index, row in freightDF.iterrows():\n",
    "    if row['Plant'] not in freightCost : freightCost[row['Plant']] = {}\n",
    "    freightCost[row['Plant']][row['Market']] = row['Cost']\n",
    "    "
   ]
  }
 ],
 "metadata": {
  "kernelspec": {
   "display_name": "Python 3",
   "language": "python",
   "name": "python3"
  },
  "language_info": {
   "codemirror_mode": {
    "name": "ipython",
    "version": 3
   },
   "file_extension": ".py",
   "mimetype": "text/x-python",
   "name": "python",
   "nbconvert_exporter": "python",
   "pygments_lexer": "ipython3",
   "version": "3.8.8"
  }
 },
 "nbformat": 4,
 "nbformat_minor": 4
}
