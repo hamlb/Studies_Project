{
  "nbformat": 4,
  "nbformat_minor": 0,
  "metadata": {
    "kernelspec": {
      "display_name": "Python 3",
      "language": "python",
      "name": "python3"
    },
    "language_info": {
      "codemirror_mode": {
        "name": "ipython",
        "version": 3
      },
      "file_extension": ".py",
      "mimetype": "text/x-python",
      "name": "python",
      "nbconvert_exporter": "python",
      "pygments_lexer": "ipython3",
      "version": "3.7.3"
    },
    "colab": {
      "name": "TransportationPb_v0911.ipynb",
      "provenance": [],
      "collapsed_sections": []
    }
  },
  "cells": [
    {
      "cell_type": "markdown",
      "metadata": {
        "id": "yCv1TctBEQ64"
      },
      "source": [
        "### Read the data from the input Excel file"
      ]
    },
    {
      "cell_type": "code",
      "metadata": {
        "id": "wezja6mXEQ6-",
        "colab": {
          "base_uri": "https://localhost:8080/"
        },
        "outputId": "3198bb92-7e5f-4757-e773-4f6bb0e1e35d"
      },
      "source": [
        "pip install pulp"
      ],
      "execution_count": null,
      "outputs": [
        {
          "output_type": "stream",
          "name": "stdout",
          "text": [
            "Collecting pulp\n",
            "  Downloading PuLP-2.5.1-py3-none-any.whl (41.2 MB)\n",
            "\u001b[K     |████████████████████████████████| 41.2 MB 77 kB/s \n",
            "\u001b[?25hInstalling collected packages: pulp\n",
            "Successfully installed pulp-2.5.1\n"
          ]
        }
      ]
    },
    {
      "cell_type": "code",
      "metadata": {
        "scrolled": true,
        "id": "uYQJ4gA7EQ7A"
      },
      "source": [
        "import pandas as pd\n",
        "inputFileName = \"TransportationPb_Data.xlsx\"\n",
        "paramDF = pd.read_excel(inputFileName, \"Param\", skiprows=0)\n",
        "supplyDF = pd.read_excel(inputFileName, \"Supply\", skiprows=0, index_col=0)\n",
        "demandDF = pd.read_excel(inputFileName, \"Demand\", skiprows=0, index_col=0)\n",
        "freightDF = pd.read_excel(inputFileName, \"Freight\", skiprows=0, index_col=2)\n"
      ],
      "execution_count": null,
      "outputs": []
    },
    {
      "cell_type": "markdown",
      "metadata": {
        "id": "e_rf6Vs1EQ7B"
      },
      "source": [
        "### Set the data into dict, easier to manipulate"
      ]
    },
    {
      "cell_type": "code",
      "metadata": {
        "id": "okqLXEdQEQ7B"
      },
      "source": [
        "plants = supplyDF.to_dict('index')\n",
        "markets = demandDF.to_dict('index')\n",
        "   \n",
        "\n",
        "freightCost = {}  #freightCost[iPlant][iMarket]\n",
        "for index, row in freightDF.iterrows():\n",
        "    if row['Plant'] not in freightCost : freightCost[row['Plant']] = {}\n",
        "    freightCost[row['Plant']][row['Market']] = row['Cost']\n",
        "    "
      ],
      "execution_count": null,
      "outputs": []
    },
    {
      "cell_type": "markdown",
      "metadata": {
        "id": "zebQ-27Gbb6J"
      },
      "source": [
        " ### **1.Model the market as if a « big owner » owned all the suppliers and aims at satisfying the demands at least cost . Solve this optimization problem with PuLP**"
      ]
    },
    {
      "cell_type": "code",
      "metadata": {
        "id": "AK7jW6apEQ7D"
      },
      "source": [
        "#Define problem\n",
        "from pulp import *\n",
        "prob = LpProblem(\"Transportation_problem\",LpMinimize)"
      ],
      "execution_count": null,
      "outputs": []
    },
    {
      "cell_type": "markdown",
      "metadata": {
        "id": "9XxX3qBvEQ7E"
      },
      "source": [
        "### Add variables\n"
      ]
    },
    {
      "cell_type": "code",
      "metadata": {
        "id": "JJvMsNg5EQ7H"
      },
      "source": [
        "Xvar = LpVariable.dicts(\"X\", ((i,j) for i in plants for j in markets), \n",
        "                             lowBound=0, cat='Continuous')\n",
        "DemandVar= LpVariable.dicts(\"Demand\", (i for i in markets), lowBound=0, cat='Continuous')\n",
        "CapacityVar= LpVariable.dicts(\"Capacity\", (i for i in plants), lowBound=0, cat='Continuous')\n"
      ],
      "execution_count": null,
      "outputs": []
    },
    {
      "cell_type": "markdown",
      "metadata": {
        "id": "A5QaMwYBEQ7K"
      },
      "source": [
        "### Add objectives"
      ]
    },
    {
      "cell_type": "code",
      "metadata": {
        "id": "nSJ-VNLxEQ7L"
      },
      "source": [
        "prob += lpSum([(freightCost[i][j] + plants[i]['Cost'])* Xvar[i,j] for i in plants for j in markets ])"
      ],
      "execution_count": null,
      "outputs": []
    },
    {
      "cell_type": "code",
      "metadata": {
        "id": "2hJ2SSejKjN1"
      },
      "source": [
        "#Notre problème renferme 200 variables Xij, 20 contraintes Capa, 10 contraintes de demand"
      ],
      "execution_count": null,
      "outputs": []
    },
    {
      "cell_type": "code",
      "metadata": {
        "id": "dBWj50tnEQ7L"
      },
      "source": [
        ""
      ],
      "execution_count": null,
      "outputs": []
    },
    {
      "cell_type": "markdown",
      "metadata": {
        "id": "-rP99-fiEQ7N"
      },
      "source": [
        "### Add constraints"
      ]
    },
    {
      "cell_type": "code",
      "metadata": {
        "id": "eJp-PhaLEQ7N"
      },
      "source": [
        "#Capacity constraint (for each plant)\n",
        "for i in (plants) : \n",
        "        prob += lpSum(Xvar[i,j] for j in markets) <= plants[i]['Capacity'] , \"capacity[%s]\"%(i)\n",
        "\n"
      ],
      "execution_count": null,
      "outputs": []
    },
    {
      "cell_type": "code",
      "metadata": {
        "id": "xSe-dl2SEQ7N"
      },
      "source": [
        "# # #Demand constraint\n",
        "for j in (markets) :\n",
        "    prob += lpSum(Xvar[i,j] for i in plants) >= markets[j]['Demand'] , \"demand[%s]\"%(j)"
      ],
      "execution_count": null,
      "outputs": []
    },
    {
      "cell_type": "code",
      "metadata": {
        "id": "iPEAI83BLFz0"
      },
      "source": [
        "#prob"
      ],
      "execution_count": null,
      "outputs": []
    },
    {
      "cell_type": "code",
      "metadata": {
        "id": "a1-GB3S9EQ7O",
        "colab": {
          "base_uri": "https://localhost:8080/"
        },
        "outputId": "6bc89e83-f0e9-4ffe-98db-9833e7974750"
      },
      "source": [
        "prob.writeLP(\"TransportationProblem_primal_mod1.lp\", writeSOS=1, mip=1)\n",
        "prob.solve()\n",
        "print(\"Status:\", LpStatus[prob.status])\n",
        "print (\"Objective = \", value(prob.objective))\n",
        "varsDict = {}\n",
        "for v in prob.variables():\n",
        "    varsDict[v.name] = v.varValue\n",
        "    if \"X\" in v.name:\n",
        "        print(v.name, \"=\", v.varValue)\n",
        "        \n"
      ],
      "execution_count": null,
      "outputs": [
        {
          "output_type": "stream",
          "name": "stdout",
          "text": [
            "Status: Optimal\n",
            "Objective =  16847.0\n",
            "X_('P1',_'M1') = 0.0\n",
            "X_('P1',_'M10') = 0.0\n",
            "X_('P1',_'M2') = 80.0\n",
            "X_('P1',_'M3') = 0.0\n",
            "X_('P1',_'M4') = 0.0\n",
            "X_('P1',_'M5') = 0.0\n",
            "X_('P1',_'M6') = 0.0\n",
            "X_('P1',_'M7') = 0.0\n",
            "X_('P1',_'M8') = 0.0\n",
            "X_('P1',_'M9') = 0.0\n",
            "X_('P10',_'M1') = 0.0\n",
            "X_('P10',_'M10') = 0.0\n",
            "X_('P10',_'M2') = 0.0\n",
            "X_('P10',_'M3') = 2.0\n",
            "X_('P10',_'M4') = 0.0\n",
            "X_('P10',_'M5') = 0.0\n",
            "X_('P10',_'M6') = 0.0\n",
            "X_('P10',_'M7') = 0.0\n",
            "X_('P10',_'M8') = 0.0\n",
            "X_('P10',_'M9') = 0.0\n",
            "X_('P11',_'M1') = 0.0\n",
            "X_('P11',_'M10') = 0.0\n",
            "X_('P11',_'M2') = 44.0\n",
            "X_('P11',_'M3') = 0.0\n",
            "X_('P11',_'M4') = 0.0\n",
            "X_('P11',_'M5') = 0.0\n",
            "X_('P11',_'M6') = 0.0\n",
            "X_('P11',_'M7') = 0.0\n",
            "X_('P11',_'M8') = 0.0\n",
            "X_('P11',_'M9') = 12.0\n",
            "X_('P12',_'M1') = 0.0\n",
            "X_('P12',_'M10') = 0.0\n",
            "X_('P12',_'M2') = 0.0\n",
            "X_('P12',_'M3') = 0.0\n",
            "X_('P12',_'M4') = 75.0\n",
            "X_('P12',_'M5') = 0.0\n",
            "X_('P12',_'M6') = 0.0\n",
            "X_('P12',_'M7') = 0.0\n",
            "X_('P12',_'M8') = 7.0\n",
            "X_('P12',_'M9') = 8.0\n",
            "X_('P13',_'M1') = 0.0\n",
            "X_('P13',_'M10') = 0.0\n",
            "X_('P13',_'M2') = 0.0\n",
            "X_('P13',_'M3') = 0.0\n",
            "X_('P13',_'M4') = 0.0\n",
            "X_('P13',_'M5') = 0.0\n",
            "X_('P13',_'M6') = 0.0\n",
            "X_('P13',_'M7') = 67.0\n",
            "X_('P13',_'M8') = 0.0\n",
            "X_('P13',_'M9') = 0.0\n",
            "X_('P14',_'M1') = 0.0\n",
            "X_('P14',_'M10') = 0.0\n",
            "X_('P14',_'M2') = 0.0\n",
            "X_('P14',_'M3') = 0.0\n",
            "X_('P14',_'M4') = 0.0\n",
            "X_('P14',_'M5') = 0.0\n",
            "X_('P14',_'M6') = 7.0\n",
            "X_('P14',_'M7') = 38.0\n",
            "X_('P14',_'M8') = 0.0\n",
            "X_('P14',_'M9') = 0.0\n",
            "X_('P15',_'M1') = 1.0\n",
            "X_('P15',_'M10') = 0.0\n",
            "X_('P15',_'M2') = 0.0\n",
            "X_('P15',_'M3') = 0.0\n",
            "X_('P15',_'M4') = 0.0\n",
            "X_('P15',_'M5') = 39.0\n",
            "X_('P15',_'M6') = 0.0\n",
            "X_('P15',_'M7') = 0.0\n",
            "X_('P15',_'M8') = 0.0\n",
            "X_('P15',_'M9') = 1.0\n",
            "X_('P16',_'M1') = 0.0\n",
            "X_('P16',_'M10') = 0.0\n",
            "X_('P16',_'M2') = 0.0\n",
            "X_('P16',_'M3') = 0.0\n",
            "X_('P16',_'M4') = 0.0\n",
            "X_('P16',_'M5') = 0.0\n",
            "X_('P16',_'M6') = 49.0\n",
            "X_('P16',_'M7') = 0.0\n",
            "X_('P16',_'M8') = 0.0\n",
            "X_('P16',_'M9') = 0.0\n",
            "X_('P17',_'M1') = 0.0\n",
            "X_('P17',_'M10') = 0.0\n",
            "X_('P17',_'M2') = 0.0\n",
            "X_('P17',_'M3') = 0.0\n",
            "X_('P17',_'M4') = 0.0\n",
            "X_('P17',_'M5') = 0.0\n",
            "X_('P17',_'M6') = 0.0\n",
            "X_('P17',_'M7') = 0.0\n",
            "X_('P17',_'M8') = 1.0\n",
            "X_('P17',_'M9') = 0.0\n",
            "X_('P18',_'M1') = 0.0\n",
            "X_('P18',_'M10') = 0.0\n",
            "X_('P18',_'M2') = 0.0\n",
            "X_('P18',_'M3') = 93.0\n",
            "X_('P18',_'M4') = 0.0\n",
            "X_('P18',_'M5') = 0.0\n",
            "X_('P18',_'M6') = 3.0\n",
            "X_('P18',_'M7') = 0.0\n",
            "X_('P18',_'M8') = 0.0\n",
            "X_('P18',_'M9') = 0.0\n",
            "X_('P19',_'M1') = 0.0\n",
            "X_('P19',_'M10') = 0.0\n",
            "X_('P19',_'M2') = 0.0\n",
            "X_('P19',_'M3') = 0.0\n",
            "X_('P19',_'M4') = 0.0\n",
            "X_('P19',_'M5') = 0.0\n",
            "X_('P19',_'M6') = 0.0\n",
            "X_('P19',_'M7') = 0.0\n",
            "X_('P19',_'M8') = 83.0\n",
            "X_('P19',_'M9') = 0.0\n",
            "X_('P2',_'M1') = 0.0\n",
            "X_('P2',_'M10') = 0.0\n",
            "X_('P2',_'M2') = 0.0\n",
            "X_('P2',_'M3') = 9.0\n",
            "X_('P2',_'M4') = 0.0\n",
            "X_('P2',_'M5') = 0.0\n",
            "X_('P2',_'M6') = 0.0\n",
            "X_('P2',_'M7') = 0.0\n",
            "X_('P2',_'M8') = 0.0\n",
            "X_('P2',_'M9') = 0.0\n",
            "X_('P20',_'M1') = 0.0\n",
            "X_('P20',_'M10') = 0.0\n",
            "X_('P20',_'M2') = 0.0\n",
            "X_('P20',_'M3') = 0.0\n",
            "X_('P20',_'M4') = 0.0\n",
            "X_('P20',_'M5') = 0.0\n",
            "X_('P20',_'M6') = 0.0\n",
            "X_('P20',_'M7') = 0.0\n",
            "X_('P20',_'M8') = 0.0\n",
            "X_('P20',_'M9') = 26.0\n",
            "X_('P3',_'M1') = 0.0\n",
            "X_('P3',_'M10') = 11.0\n",
            "X_('P3',_'M2') = 0.0\n",
            "X_('P3',_'M3') = 0.0\n",
            "X_('P3',_'M4') = 0.0\n",
            "X_('P3',_'M5') = 0.0\n",
            "X_('P3',_'M6') = 0.0\n",
            "X_('P3',_'M7') = 0.0\n",
            "X_('P3',_'M8') = 0.0\n",
            "X_('P3',_'M9') = 0.0\n",
            "X_('P4',_'M1') = 0.0\n",
            "X_('P4',_'M10') = 0.0\n",
            "X_('P4',_'M2') = 0.0\n",
            "X_('P4',_'M3') = 0.0\n",
            "X_('P4',_'M4') = 0.0\n",
            "X_('P4',_'M5') = 69.0\n",
            "X_('P4',_'M6') = 0.0\n",
            "X_('P4',_'M7') = 0.0\n",
            "X_('P4',_'M8') = 0.0\n",
            "X_('P4',_'M9') = 0.0\n",
            "X_('P5',_'M1') = 0.0\n",
            "X_('P5',_'M10') = 0.0\n",
            "X_('P5',_'M2') = 5.0\n",
            "X_('P5',_'M3') = 0.0\n",
            "X_('P5',_'M4') = 0.0\n",
            "X_('P5',_'M5') = 0.0\n",
            "X_('P5',_'M6') = 0.0\n",
            "X_('P5',_'M7') = 0.0\n",
            "X_('P5',_'M8') = 0.0\n",
            "X_('P5',_'M9') = 0.0\n",
            "X_('P6',_'M1') = 0.0\n",
            "X_('P6',_'M10') = 50.0\n",
            "X_('P6',_'M2') = 0.0\n",
            "X_('P6',_'M3') = 0.0\n",
            "X_('P6',_'M4') = 0.0\n",
            "X_('P6',_'M5') = 0.0\n",
            "X_('P6',_'M6') = 31.0\n",
            "X_('P6',_'M7') = 0.0\n",
            "X_('P6',_'M8') = 0.0\n",
            "X_('P6',_'M9') = 0.0\n",
            "X_('P7',_'M1') = 37.0\n",
            "X_('P7',_'M10') = 0.0\n",
            "X_('P7',_'M2') = 0.0\n",
            "X_('P7',_'M3') = 0.0\n",
            "X_('P7',_'M4') = 0.0\n",
            "X_('P7',_'M5') = 0.0\n",
            "X_('P7',_'M6') = 0.0\n",
            "X_('P7',_'M7') = 0.0\n",
            "X_('P7',_'M8') = 0.0\n",
            "X_('P7',_'M9') = 0.0\n",
            "X_('P8',_'M1') = 0.0\n",
            "X_('P8',_'M10') = 0.0\n",
            "X_('P8',_'M2') = 0.0\n",
            "X_('P8',_'M3') = 0.0\n",
            "X_('P8',_'M4') = 0.0\n",
            "X_('P8',_'M5') = 18.0\n",
            "X_('P8',_'M6') = 0.0\n",
            "X_('P8',_'M7') = 0.0\n",
            "X_('P8',_'M8') = 0.0\n",
            "X_('P8',_'M9') = 0.0\n",
            "X_('P9',_'M1') = 0.0\n",
            "X_('P9',_'M10') = 0.0\n",
            "X_('P9',_'M2') = 0.0\n",
            "X_('P9',_'M3') = 0.0\n",
            "X_('P9',_'M4') = 0.0\n",
            "X_('P9',_'M5') = 0.0\n",
            "X_('P9',_'M6') = 0.0\n",
            "X_('P9',_'M7') = 0.0\n",
            "X_('P9',_'M8') = 0.0\n",
            "X_('P9',_'M9') = 0.0\n"
          ]
        }
      ]
    },
    {
      "cell_type": "markdown",
      "metadata": {
        "id": "5n9MZKblLZXM"
      },
      "source": [
        "###**2.Use PuLP to get the dual variables. Why does it make sense to interpret the dual variables associated with the Demand constraints as prices**"
      ]
    },
    {
      "cell_type": "code",
      "metadata": {
        "id": "2IjQx6FCLjaC"
      },
      "source": [
        "#Le nombre de variables du pb dual = nb de contraintes du primal\n",
        "#Le nb de contraintes du pb dual = nb de variables du primal"
      ],
      "execution_count": null,
      "outputs": []
    },
    {
      "cell_type": "code",
      "metadata": {
        "id": "XHuEP0kgEQ7O",
        "colab": {
          "base_uri": "https://localhost:8080/"
        },
        "outputId": "5f08548f-00f3-4de0-f10f-7e92eb35474f"
      },
      "source": [
        "for name, c in list(prob.constraints.items()):\n",
        "     if \"capacity\" in name or \"demand\" in name:\n",
        "        print(name, \":\", c.pi, \"\\t\\t\", c.slack)"
      ],
      "execution_count": null,
      "outputs": [
        {
          "output_type": "stream",
          "name": "stdout",
          "text": [
            "capacity_P1_ : -14.0 \t\t -0.0\n",
            "capacity_P2_ : -21.0 \t\t -0.0\n",
            "capacity_P3_ : 0.0 \t\t 11.0\n",
            "capacity_P4_ : 0.0 \t\t -0.0\n",
            "capacity_P5_ : -10.0 \t\t -0.0\n",
            "capacity_P6_ : -20.0 \t\t -0.0\n",
            "capacity_P7_ : -23.0 \t\t -0.0\n",
            "capacity_P8_ : -9.0 \t\t -0.0\n",
            "capacity_P9_ : 0.0 \t\t 53.0\n",
            "capacity_P10_ : -18.0 \t\t -0.0\n",
            "capacity_P11_ : -22.0 \t\t -0.0\n",
            "capacity_P12_ : -3.0 \t\t -0.0\n",
            "capacity_P13_ : -2.0 \t\t -0.0\n",
            "capacity_P14_ : -7.0 \t\t -0.0\n",
            "capacity_P15_ : 0.0 \t\t 15.0\n",
            "capacity_P16_ : -16.0 \t\t -0.0\n",
            "capacity_P17_ : -6.0 \t\t -0.0\n",
            "capacity_P18_ : -8.0 \t\t -0.0\n",
            "capacity_P19_ : -7.0 \t\t -0.0\n",
            "capacity_P20_ : -11.0 \t\t -0.0\n",
            "demand_M1_ : 29.0 \t\t -0.0\n",
            "demand_M2_ : 31.0 \t\t -0.0\n",
            "demand_M3_ : 30.0 \t\t -0.0\n",
            "demand_M4_ : 26.0 \t\t -0.0\n",
            "demand_M5_ : 29.0 \t\t -0.0\n",
            "demand_M6_ : 29.0 \t\t -0.0\n",
            "demand_M7_ : 29.0 \t\t -0.0\n",
            "demand_M8_ : 29.0 \t\t -0.0\n",
            "demand_M9_ : 29.0 \t\t -0.0\n",
            "demand_M10_ : 29.0 \t\t -0.0\n"
          ]
        }
      ]
    },
    {
      "cell_type": "code",
      "metadata": {
        "id": "HpiIhZ0cEQ7O"
      },
      "source": [
        "#==> Dans le problème Dual, on adopte une autre stratégie pour voir le problème\n",
        "#primal : point de vue production :on veut minimiser le cout (transport+production)\n",
        "#dual : point de vue Gain  : on veut maximiser les marges, il s'agit donc de prix\n",
        "# (quels impacts quand on durcit les contraintes : couts marginaux)"
      ],
      "execution_count": null,
      "outputs": []
    },
    {
      "cell_type": "markdown",
      "metadata": {
        "id": "TOP3u0saOOU6"
      },
      "source": [
        "###**3- Observe that for the obtained price , the obtained flows are such that each supplier is maximising its margin**\n",
        "\n",
        "\n",
        "\n",
        "\n",
        "\n"
      ]
    },
    {
      "cell_type": "code",
      "metadata": {
        "id": "wI6LqYXpMFtc"
      },
      "source": [
        "#Le modèle cherche à se positionner sur le cout de transport minimum pour chaque supplier\n",
        "#(le min global du modèle ~ tous les min locaux de chaque supplier)\n",
        "#==> tout le monde est satisfait (capacité saturée)"
      ],
      "execution_count": null,
      "outputs": []
    },
    {
      "cell_type": "code",
      "metadata": {
        "colab": {
          "base_uri": "https://localhost:8080/",
          "height": 605
        },
        "id": "y1X05oto69gk",
        "outputId": "a7c8bfee-b3ad-4102-9bfd-0fd92a3723af"
      },
      "source": [
        "import matplotlib.pyplot as plt \n",
        "import numpy as np\n",
        "\n",
        "myArray = np.zeros((len(plants), len(markets)), dtype=np.float)\n",
        "\n",
        "\n",
        "for i,p in enumerate(plants):\n",
        "    for j,m in enumerate(markets): \n",
        "        myArray[i][j] = varsDict[\"X_(\\'%s\\',_\\'%s\\')\" %(p, m)]\n",
        "plt.imshow(myArray, cmap='Blues', interpolation='nearest')\n",
        "plt.show()\n",
        "print(myArray)"
      ],
      "execution_count": null,
      "outputs": [
        {
          "output_type": "display_data",
          "data": {
            "image/png": "[encoded data removed]",
            "text/plain": [
              "<Figure size 432x288 with 1 Axes>"
            ]
          },
          "metadata": {
            "needs_background": "light"
          }
        },
        {
          "output_type": "stream",
          "name": "stdout",
          "text": [
            "[[ 0. 80.  0.  0.  0.  0.  0.  0.  0.  0.]\n",
            " [ 0.  0.  9.  0.  0.  0.  0.  0.  0.  0.]\n",
            " [ 0.  0.  0.  0.  0.  0.  0.  0.  0. 11.]\n",
            " [ 0.  0.  0.  0. 69.  0.  0.  0.  0.  0.]\n",
            " [ 0.  5.  0.  0.  0.  0.  0.  0.  0.  0.]\n",
            " [ 0.  0.  0.  0.  0. 31.  0.  0.  0. 50.]\n",
            " [37.  0.  0.  0.  0.  0.  0.  0.  0.  0.]\n",
            " [ 0.  0.  0.  0. 18.  0.  0.  0.  0.  0.]\n",
            " [ 0.  0.  0.  0.  0.  0.  0.  0.  0.  0.]\n",
            " [ 0.  0.  2.  0.  0.  0.  0.  0.  0.  0.]\n",
            " [ 0. 44.  0.  0.  0.  0.  0.  0. 12.  0.]\n",
            " [ 0.  0.  0. 75.  0.  0.  0.  7.  8.  0.]\n",
            " [ 0.  0.  0.  0.  0.  0. 67.  0.  0.  0.]\n",
            " [ 0.  0.  0.  0.  0.  7. 38.  0.  0.  0.]\n",
            " [ 1.  0.  0.  0. 39.  0.  0.  0.  1.  0.]\n",
            " [ 0.  0.  0.  0.  0. 49.  0.  0.  0.  0.]\n",
            " [ 0.  0.  0.  0.  0.  0.  0.  1.  0.  0.]\n",
            " [ 0.  0. 93.  0.  0.  3.  0.  0.  0.  0.]\n",
            " [ 0.  0.  0.  0.  0.  0.  0. 83.  0.  0.]\n",
            " [ 0.  0.  0.  0.  0.  0.  0.  0. 26.  0.]]\n"
          ]
        }
      ]
    },
    {
      "cell_type": "code",
      "metadata": {
        "id": "2gbBJlfyTIwP"
      },
      "source": [
        ""
      ],
      "execution_count": null,
      "outputs": []
    },
    {
      "cell_type": "code",
      "metadata": {
        "colab": {
          "base_uri": "https://localhost:8080/"
        },
        "id": "uYD4TtYLU3Av",
        "outputId": "96675a1e-c364-44e7-facc-ef05e293de73"
      },
      "source": [
        "calc_list =list()\n",
        "capa_list=list()\n",
        "for i,p in enumerate(plants):\n",
        "    calc=0\n",
        "    capa_list.append(plants[p]['Capacity'])\n",
        "    for j,m in enumerate(markets): \n",
        "      calc=calc+myArray[i,j]\n",
        "  # list[i]=i\n",
        "    print(calc)\n",
        "    calc_list.append(calc)\n",
        "\n"
      ],
      "execution_count": null,
      "outputs": [
        {
          "output_type": "stream",
          "name": "stdout",
          "text": [
            "80.0\n",
            "9.0\n",
            "11.0\n",
            "69.0\n",
            "5.0\n",
            "81.0\n",
            "37.0\n",
            "18.0\n",
            "0.0\n",
            "2.0\n",
            "56.0\n",
            "90.0\n",
            "67.0\n",
            "45.0\n",
            "41.0\n",
            "49.0\n",
            "1.0\n",
            "96.0\n",
            "83.0\n",
            "26.0\n"
          ]
        }
      ]
    },
    {
      "cell_type": "code",
      "metadata": {
        "colab": {
          "base_uri": "https://localhost:8080/"
        },
        "id": "d5hwBFMiYGbh",
        "outputId": "980860b9-3930-4731-db3b-6b614ca3dda6"
      },
      "source": [
        "print(calc_list)\n",
        "print(capa_list)\n",
        "boolean_list=list()\n",
        "for i in range(len(calc_list)):\n",
        "  boolean_list.append(calc_list[i]==capa_list[i])\n",
        "\n",
        "print(boolean_list)"
      ],
      "execution_count": null,
      "outputs": [
        {
          "output_type": "stream",
          "name": "stdout",
          "text": [
            "[80.0, 9.0, 11.0, 69.0, 5.0, 81.0, 37.0, 18.0, 0.0, 2.0, 56.0, 90.0, 67.0, 45.0, 41.0, 49.0, 1.0, 96.0, 83.0, 26.0]\n",
            "[80, 9, 22, 69, 5, 81, 37, 18, 53, 2, 56, 90, 67, 45, 56, 49, 1, 96, 83, 26]\n",
            "[True, True, False, True, True, True, True, True, False, True, True, True, True, True, False, True, True, True, True, True]\n"
          ]
        }
      ]
    },
    {
      "cell_type": "code",
      "metadata": {
        "colab": {
          "base_uri": "https://localhost:8080/"
        },
        "id": "crZZzYQkYlzY",
        "outputId": "01207417-a2e5-4de5-ea58-d2022af7a48f"
      },
      "source": [
        "dataframe = pd.DataFrame(\n",
        "    {'calculated': calc_list,\n",
        "     'capacity': capa_list,\n",
        "     'boolean': boolean_list\n",
        "    })\n",
        "\n",
        "print(dataframe)"
      ],
      "execution_count": null,
      "outputs": [
        {
          "output_type": "stream",
          "name": "stdout",
          "text": [
            "    calculated  capacity  boolean\n",
            "0         80.0        80     True\n",
            "1          9.0         9     True\n",
            "2         11.0        22    False\n",
            "3         69.0        69     True\n",
            "4          5.0         5     True\n",
            "5         81.0        81     True\n",
            "6         37.0        37     True\n",
            "7         18.0        18     True\n",
            "8          0.0        53    False\n",
            "9          2.0         2     True\n",
            "10        56.0        56     True\n",
            "11        90.0        90     True\n",
            "12        67.0        67     True\n",
            "13        45.0        45     True\n",
            "14        41.0        56    False\n",
            "15        49.0        49     True\n",
            "16         1.0         1     True\n",
            "17        96.0        96     True\n",
            "18        83.0        83     True\n",
            "19        26.0        26     True\n"
          ]
        }
      ]
    },
    {
      "cell_type": "code",
      "metadata": {
        "id": "8AFMMI6ETKbE",
        "colab": {
          "base_uri": "https://localhost:8080/"
        },
        "outputId": "c24cb080-1500-4a8a-e67c-6f12d32f0f8c"
      },
      "source": [
        "calc_list =list()\n",
        "for i,p in enumerate(plants):\n",
        "    val=0\n",
        "    for j,m in enumerate(markets): \n",
        "      val=val+(freightCost[p][m] + plants[p]['Cost'])*myArray[i,j]\n",
        "  # list[i]=i\n",
        "    print(val)\n",
        "    calc_list.append(val)\n",
        "print(calc_list)"
      ],
      "execution_count": null,
      "outputs": [
        {
          "output_type": "stream",
          "name": "stdout",
          "text": [
            "1360.0\n",
            "81.0\n",
            "319.0\n",
            "2001.0\n",
            "105.0\n",
            "729.0\n",
            "222.0\n",
            "360.0\n",
            "0.0\n",
            "24.0\n",
            "480.0\n",
            "2115.0\n",
            "1809.0\n",
            "990.0\n",
            "1189.0\n",
            "637.0\n",
            "23.0\n",
            "2109.0\n",
            "1826.0\n",
            "468.0\n",
            "[1360.0, 81.0, 319.0, 2001.0, 105.0, 729.0, 222.0, 360.0, 0.0, 24.0, 480.0, 2115.0, 1809.0, 990.0, 1189.0, 637.0, 23.0, 2109.0, 1826.0, 468.0]\n"
          ]
        }
      ]
    },
    {
      "cell_type": "code",
      "metadata": {
        "colab": {
          "base_uri": "https://localhost:8080/"
        },
        "id": "3O1kGtI_V56E",
        "outputId": "37d84cdc-7791-4ff8-b16a-035c593960b3"
      },
      "source": [
        "sum(calc_list)"
      ],
      "execution_count": null,
      "outputs": [
        {
          "output_type": "execute_result",
          "data": {
            "text/plain": [
              "16847.0"
            ]
          },
          "metadata": {},
          "execution_count": 21
        }
      ]
    },
    {
      "cell_type": "markdown",
      "metadata": {
        "id": "54OUS_YZRMe3"
      },
      "source": [
        "###**4- Impose a constraint stating that a supplier shall have not more than 50% of market share on any market . What is the impact on the prices ?**"
      ]
    },
    {
      "cell_type": "code",
      "metadata": {
        "id": "8vesoT_HMFz6"
      },
      "source": [
        "# # #New constraint \n",
        "for i in (plants) :\n",
        "  for j in (markets) :\n",
        "    prob += Xvar[i,j] <= 0.5 * markets[j]['Demand'],\"New_constraint plant[%s] market[%s]\"%(i,j)"
      ],
      "execution_count": null,
      "outputs": []
    },
    {
      "cell_type": "code",
      "metadata": {
        "id": "ql3sww2lSn9J"
      },
      "source": [
        "# prob"
      ],
      "execution_count": null,
      "outputs": []
    },
    {
      "cell_type": "code",
      "metadata": {
        "colab": {
          "base_uri": "https://localhost:8080/"
        },
        "id": "00FLTZ9DMF3O",
        "outputId": "2c0cd019-5ad4-4dee-b4f6-8aafc0ed8585"
      },
      "source": [
        "prob.writeLP(\"transportationProblem_primal_mod2.lp\", writeSOS=1, mip=1)\n",
        "prob.solve()\n",
        "print(\"Status:\", LpStatus[prob.status])\n",
        "print(\"Objective =\", value(prob.objective))\n",
        "varsDict = {}\n",
        "for v in prob.variables():\n",
        "    varsDict[v.name] = v.varValue\n",
        "    if \"X\" in v.name:\n",
        "        print(v.name, \"=\", v.varValue)"
      ],
      "execution_count": null,
      "outputs": [
        {
          "output_type": "stream",
          "name": "stdout",
          "text": [
            "Status: Optimal\n",
            "Objective = 16990.0\n",
            "X_('P1',_'M1') = 0.0\n",
            "X_('P1',_'M10') = 0.0\n",
            "X_('P1',_'M2') = 64.5\n",
            "X_('P1',_'M3') = 0.0\n",
            "X_('P1',_'M4') = 0.0\n",
            "X_('P1',_'M5') = 0.0\n",
            "X_('P1',_'M6') = 0.0\n",
            "X_('P1',_'M7') = 0.0\n",
            "X_('P1',_'M8') = 15.5\n",
            "X_('P1',_'M9') = 0.0\n",
            "X_('P10',_'M1') = 0.0\n",
            "X_('P10',_'M10') = 0.0\n",
            "X_('P10',_'M2') = 0.0\n",
            "X_('P10',_'M3') = 2.0\n",
            "X_('P10',_'M4') = 0.0\n",
            "X_('P10',_'M5') = 0.0\n",
            "X_('P10',_'M6') = 0.0\n",
            "X_('P10',_'M7') = 0.0\n",
            "X_('P10',_'M8') = 0.0\n",
            "X_('P10',_'M9') = 0.0\n",
            "X_('P11',_'M1') = 0.0\n",
            "X_('P11',_'M10') = 0.0\n",
            "X_('P11',_'M2') = 52.5\n",
            "X_('P11',_'M3') = 0.0\n",
            "X_('P11',_'M4') = 0.0\n",
            "X_('P11',_'M5') = 0.0\n",
            "X_('P11',_'M6') = 0.0\n",
            "X_('P11',_'M7') = 0.0\n",
            "X_('P11',_'M8') = 0.0\n",
            "X_('P11',_'M9') = 3.5\n",
            "X_('P12',_'M1') = 0.0\n",
            "X_('P12',_'M10') = 0.0\n",
            "X_('P12',_'M2') = 0.0\n",
            "X_('P12',_'M3') = 0.0\n",
            "X_('P12',_'M4') = 37.5\n",
            "X_('P12',_'M5') = 0.0\n",
            "X_('P12',_'M6') = 0.0\n",
            "X_('P12',_'M7') = 7.5\n",
            "X_('P12',_'M8') = 21.5\n",
            "X_('P12',_'M9') = 23.5\n",
            "X_('P13',_'M1') = 0.0\n",
            "X_('P13',_'M10') = 0.0\n",
            "X_('P13',_'M2') = 0.0\n",
            "X_('P13',_'M3') = 0.0\n",
            "X_('P13',_'M4') = 0.0\n",
            "X_('P13',_'M5') = 0.0\n",
            "X_('P13',_'M6') = 0.0\n",
            "X_('P13',_'M7') = 52.5\n",
            "X_('P13',_'M8') = 0.0\n",
            "X_('P13',_'M9') = 14.5\n",
            "X_('P14',_'M1') = 0.0\n",
            "X_('P14',_'M10') = 0.0\n",
            "X_('P14',_'M2') = 0.0\n",
            "X_('P14',_'M3') = 0.0\n",
            "X_('P14',_'M4') = 37.5\n",
            "X_('P14',_'M5') = 0.0\n",
            "X_('P14',_'M6') = 0.0\n",
            "X_('P14',_'M7') = 7.5\n",
            "X_('P14',_'M8') = 0.0\n",
            "X_('P14',_'M9') = 0.0\n",
            "X_('P15',_'M1') = 13.0\n",
            "X_('P15',_'M10') = 0.0\n",
            "X_('P15',_'M2') = 0.0\n",
            "X_('P15',_'M3') = 0.0\n",
            "X_('P15',_'M4') = 0.0\n",
            "X_('P15',_'M5') = 43.0\n",
            "X_('P15',_'M6') = 0.0\n",
            "X_('P15',_'M7') = 0.0\n",
            "X_('P15',_'M8') = 0.0\n",
            "X_('P15',_'M9') = 0.0\n",
            "X_('P16',_'M1') = 0.0\n",
            "X_('P16',_'M10') = 30.5\n",
            "X_('P16',_'M2') = 0.0\n",
            "X_('P16',_'M3') = 0.0\n",
            "X_('P16',_'M4') = 0.0\n",
            "X_('P16',_'M5') = 0.0\n",
            "X_('P16',_'M6') = 18.5\n",
            "X_('P16',_'M7') = 0.0\n",
            "X_('P16',_'M8') = 0.0\n",
            "X_('P16',_'M9') = 0.0\n",
            "X_('P17',_'M1') = 0.0\n",
            "X_('P17',_'M10') = 0.0\n",
            "X_('P17',_'M2') = 1.0\n",
            "X_('P17',_'M3') = 0.0\n",
            "X_('P17',_'M4') = 0.0\n",
            "X_('P17',_'M5') = 0.0\n",
            "X_('P17',_'M6') = 0.0\n",
            "X_('P17',_'M7') = 0.0\n",
            "X_('P17',_'M8') = 0.0\n",
            "X_('P17',_'M9') = 0.0\n",
            "X_('P18',_'M1') = 6.0\n",
            "X_('P18',_'M10') = 0.0\n",
            "X_('P18',_'M2') = 0.0\n",
            "X_('P18',_'M3') = 52.0\n",
            "X_('P18',_'M4') = 0.0\n",
            "X_('P18',_'M5') = 0.0\n",
            "X_('P18',_'M6') = 26.5\n",
            "X_('P18',_'M7') = 11.5\n",
            "X_('P18',_'M8') = 0.0\n",
            "X_('P18',_'M9') = 0.0\n",
            "X_('P19',_'M1') = 0.0\n",
            "X_('P19',_'M10') = 0.0\n",
            "X_('P19',_'M2') = 6.0\n",
            "X_('P19',_'M3') = 41.0\n",
            "X_('P19',_'M4') = 0.0\n",
            "X_('P19',_'M5') = 0.0\n",
            "X_('P19',_'M6') = 0.0\n",
            "X_('P19',_'M7') = 0.0\n",
            "X_('P19',_'M8') = 36.0\n",
            "X_('P19',_'M9') = 0.0\n",
            "X_('P2',_'M1') = 0.0\n",
            "X_('P2',_'M10') = 0.0\n",
            "X_('P2',_'M2') = 0.0\n",
            "X_('P2',_'M3') = 9.0\n",
            "X_('P2',_'M4') = 0.0\n",
            "X_('P2',_'M5') = 0.0\n",
            "X_('P2',_'M6') = 0.0\n",
            "X_('P2',_'M7') = 0.0\n",
            "X_('P2',_'M8') = 0.0\n",
            "X_('P2',_'M9') = 0.0\n",
            "X_('P20',_'M1') = 0.0\n",
            "X_('P20',_'M10') = 0.0\n",
            "X_('P20',_'M2') = 0.0\n",
            "X_('P20',_'M3') = 0.0\n",
            "X_('P20',_'M4') = 0.0\n",
            "X_('P20',_'M5') = 0.0\n",
            "X_('P20',_'M6') = 0.0\n",
            "X_('P20',_'M7') = 26.0\n",
            "X_('P20',_'M8') = 0.0\n",
            "X_('P20',_'M9') = 0.0\n",
            "X_('P3',_'M1') = 0.0\n",
            "X_('P3',_'M10') = 0.0\n",
            "X_('P3',_'M2') = 0.0\n",
            "X_('P3',_'M3') = 0.0\n",
            "X_('P3',_'M4') = 0.0\n",
            "X_('P3',_'M5') = 2.0\n",
            "X_('P3',_'M6') = 0.0\n",
            "X_('P3',_'M7') = 0.0\n",
            "X_('P3',_'M8') = 0.0\n",
            "X_('P3',_'M9') = 0.0\n",
            "X_('P4',_'M1') = 0.0\n",
            "X_('P4',_'M10') = 0.0\n",
            "X_('P4',_'M2') = 0.0\n",
            "X_('P4',_'M3') = 0.0\n",
            "X_('P4',_'M4') = 0.0\n",
            "X_('P4',_'M5') = 63.0\n",
            "X_('P4',_'M6') = 0.0\n",
            "X_('P4',_'M7') = 0.0\n",
            "X_('P4',_'M8') = 0.0\n",
            "X_('P4',_'M9') = 0.0\n",
            "X_('P5',_'M1') = 0.0\n",
            "X_('P5',_'M10') = 0.0\n",
            "X_('P5',_'M2') = 5.0\n",
            "X_('P5',_'M3') = 0.0\n",
            "X_('P5',_'M4') = 0.0\n",
            "X_('P5',_'M5') = 0.0\n",
            "X_('P5',_'M6') = 0.0\n",
            "X_('P5',_'M7') = 0.0\n",
            "X_('P5',_'M8') = 0.0\n",
            "X_('P5',_'M9') = 0.0\n",
            "X_('P6',_'M1') = 0.0\n",
            "X_('P6',_'M10') = 30.5\n",
            "X_('P6',_'M2') = 0.0\n",
            "X_('P6',_'M3') = 0.0\n",
            "X_('P6',_'M4') = 0.0\n",
            "X_('P6',_'M5') = 0.0\n",
            "X_('P6',_'M6') = 45.0\n",
            "X_('P6',_'M7') = 0.0\n",
            "X_('P6',_'M8') = 0.0\n",
            "X_('P6',_'M9') = 5.5\n",
            "X_('P7',_'M1') = 19.0\n",
            "X_('P7',_'M10') = 0.0\n",
            "X_('P7',_'M2') = 0.0\n",
            "X_('P7',_'M3') = 0.0\n",
            "X_('P7',_'M4') = 0.0\n",
            "X_('P7',_'M5') = 0.0\n",
            "X_('P7',_'M6') = 0.0\n",
            "X_('P7',_'M7') = 0.0\n",
            "X_('P7',_'M8') = 18.0\n",
            "X_('P7',_'M9') = 0.0\n",
            "X_('P8',_'M1') = 0.0\n",
            "X_('P8',_'M10') = 0.0\n",
            "X_('P8',_'M2') = 0.0\n",
            "X_('P8',_'M3') = 0.0\n",
            "X_('P8',_'M4') = 0.0\n",
            "X_('P8',_'M5') = 18.0\n",
            "X_('P8',_'M6') = 0.0\n",
            "X_('P8',_'M7') = 0.0\n",
            "X_('P8',_'M8') = 0.0\n",
            "X_('P8',_'M9') = 0.0\n",
            "X_('P9',_'M1') = 0.0\n",
            "X_('P9',_'M10') = 0.0\n",
            "X_('P9',_'M2') = 0.0\n",
            "X_('P9',_'M3') = 0.0\n",
            "X_('P9',_'M4') = 0.0\n",
            "X_('P9',_'M5') = 0.0\n",
            "X_('P9',_'M6') = 0.0\n",
            "X_('P9',_'M7') = 0.0\n",
            "X_('P9',_'M8') = 0.0\n",
            "X_('P9',_'M9') = 0.0\n"
          ]
        }
      ]
    },
    {
      "cell_type": "code",
      "metadata": {
        "colab": {
          "base_uri": "https://localhost:8080/"
        },
        "id": "6LYFb7ujbmS8",
        "outputId": "227a4aea-abce-4a31-f3b5-072507eb38e2"
      },
      "source": [
        "print((prob.objective))"
      ],
      "execution_count": null,
      "outputs": [
        {
          "output_type": "stream",
          "name": "stdout",
          "text": [
            "19*X_('P1',_'M1') + 22*X_('P1',_'M10') + 17*X_('P1',_'M2') + 18*X_('P1',_'M3') + 19*X_('P1',_'M4') + 22*X_('P1',_'M5') + 16*X_('P1',_'M6') + 17*X_('P1',_'M7') + 15*X_('P1',_'M8') + 16*X_('P1',_'M9') + 13*X_('P10',_'M1') + 16*X_('P10',_'M10') + 14*X_('P10',_'M2') + 12*X_('P10',_'M3') + 16*X_('P10',_'M4') + 18*X_('P10',_'M5') + 17*X_('P10',_'M6') + 14*X_('P10',_'M7') + 14*X_('P10',_'M8') + 18*X_('P10',_'M9') + 14*X_('P11',_'M1') + 10*X_('P11',_'M10') + 9*X_('P11',_'M2') + 13*X_('P11',_'M3') + 13*X_('P11',_'M4') + 10*X_('P11',_'M5') + 12*X_('P11',_'M6') + 14*X_('P11',_'M7') + 12*X_('P11',_'M8') + 7*X_('P11',_'M9') + 29*X_('P12',_'M1') + 26*X_('P12',_'M10') + 30*X_('P12',_'M2') + 32*X_('P12',_'M3') + 23*X_('P12',_'M4') + 28*X_('P12',_'M5') + 28*X_('P12',_'M6') + 27*X_('P12',_'M7') + 26*X_('P12',_'M8') + 26*X_('P12',_'M9') + 34*X_('P13',_'M1') + 32*X_('P13',_'M10') + 32*X_('P13',_'M2') + 31*X_('P13',_'M3') + 35*X_('P13',_'M4') + 33*X_('P13',_'M5') + 27*X_('P13',_'M6') + 27*X_('P13',_'M7') + 30*X_('P13',_'M8') + 28*X_('P13',_'M9') + 27*X_('P14',_'M1') + 24*X_('P14',_'M10') + 27*X_('P14',_'M2') + 23*X_('P14',_'M3') + 20*X_('P14',_'M4') + 28*X_('P14',_'M5') + 22*X_('P14',_'M6') + 22*X_('P14',_'M7') + 25*X_('P14',_'M8') + 23*X_('P14',_'M9') + 29*X_('P15',_'M1') + 33*X_('P15',_'M10') + 35*X_('P15',_'M2') + 33*X_('P15',_'M3') + 32*X_('P15',_'M4') + 29*X_('P15',_'M5') + 32*X_('P15',_'M6') + 33*X_('P15',_'M7') + 32*X_('P15',_'M8') + 29*X_('P15',_'M9') + 19*X_('P16',_'M1') + 13*X_('P16',_'M10') + 17*X_('P16',_'M2') + 21*X_('P16',_'M3') + 17*X_('P16',_'M4') + 17*X_('P16',_'M5') + 13*X_('P16',_'M6') + 21*X_('P16',_'M7') + 17*X_('P16',_'M8') + 19*X_('P16',_'M9') + 28*X_('P17',_'M1') + 26*X_('P17',_'M10') + 25*X_('P17',_'M2') + 26*X_('P17',_'M3') + 24*X_('P17',_'M4') + 28*X_('P17',_'M5') + 29*X_('P17',_'M6') + 31*X_('P17',_'M7') + 23*X_('P17',_'M8') + 24*X_('P17',_'M9') + 23*X_('P18',_'M1') + 26*X_('P18',_'M10') + 27*X_('P18',_'M2') + 22*X_('P18',_'M3') + 23*X_('P18',_'M4') + 24*X_('P18',_'M5') + 21*X_('P18',_'M6') + 24*X_('P18',_'M7') + 23*X_('P18',_'M8') + 24*X_('P18',_'M9') + 24*X_('P19',_'M1') + 29*X_('P19',_'M10') + 24*X_('P19',_'M2') + 23*X_('P19',_'M3') + 22*X_('P19',_'M4') + 23*X_('P19',_'M5') + 28*X_('P19',_'M6') + 28*X_('P19',_'M7') + 22*X_('P19',_'M8') + 29*X_('P19',_'M9') + 17*X_('P2',_'M1') + 11*X_('P2',_'M10') + 17*X_('P2',_'M2') + 9*X_('P2',_'M3') + 18*X_('P2',_'M4') + 10*X_('P2',_'M5') + 12*X_('P2',_'M6') + 13*X_('P2',_'M7') + 15*X_('P2',_'M8') + 10*X_('P2',_'M9') + 21*X_('P20',_'M1') + 21*X_('P20',_'M10') + 25*X_('P20',_'M2') + 24*X_('P20',_'M3') + 18*X_('P20',_'M4') + 19*X_('P20',_'M5') + 22*X_('P20',_'M6') + 19*X_('P20',_'M7') + 25*X_('P20',_'M8') + 18*X_('P20',_'M9') + 30*X_('P3',_'M1') + 29*X_('P3',_'M10') + 34*X_('P3',_'M2') + 36*X_('P3',_'M3') + 30*X_('P3',_'M4') + 29*X_('P3',_'M5') + 37*X_('P3',_'M6') + 33*X_('P3',_'M7') + 34*X_('P3',_'M8') + 31*X_('P3',_'M9') + 31*X_('P4',_'M1') + 34*X_('P4',_'M10') + 34*X_('P4',_'M2') + 36*X_('P4',_'M3') + 36*X_('P4',_'M4') + 29*X_('P4',_'M5') + 31*X_('P4',_'M6') + 32*X_('P4',_'M7') + 36*X_('P4',_'M8') + 33*X_('P4',_'M9') + 27*X_('P5',_'M1') + 21*X_('P5',_'M10') + 21*X_('P5',_'M2') + 25*X_('P5',_'M3') + 22*X_('P5',_'M4') + 21*X_('P5',_'M5') + 22*X_('P5',_'M6') + 22*X_('P5',_'M7') + 29*X_('P5',_'M8') + 26*X_('P5',_'M9') + 15*X_('P6',_'M1') + 9*X_('P6',_'M10') + 17*X_('P6',_'M2') + 17*X_('P6',_'M3') + 17*X_('P6',_'M4') + 12*X_('P6',_'M5') + 9*X_('P6',_'M6') + 13*X_('P6',_'M7') + 12*X_('P6',_'M8') + 11*X_('P6',_'M9') + 6*X_('P7',_'M1') + 10*X_('P7',_'M10') + 12*X_('P7',_'M2') + 14*X_('P7',_'M3') + 15*X_('P7',_'M4') + 11*X_('P7',_'M5') + 14*X_('P7',_'M6') + 12*X_('P7',_'M7') + 6*X_('P7',_'M8') + 14*X_('P7',_'M9') + 26*X_('P8',_'M1') + 24*X_('P8',_'M10') + 23*X_('P8',_'M2') + 24*X_('P8',_'M3') + 26*X_('P8',_'M4') + 20*X_('P8',_'M5') + 21*X_('P8',_'M6') + 27*X_('P8',_'M7') + 26*X_('P8',_'M8') + 28*X_('P8',_'M9') + 35*X_('P9',_'M1') + 33*X_('P9',_'M10') + 33*X_('P9',_'M2') + 31*X_('P9',_'M3') + 30*X_('P9',_'M4') + 35*X_('P9',_'M5') + 33*X_('P9',_'M6') + 35*X_('P9',_'M7') + 30*X_('P9',_'M8') + 36*X_('P9',_'M9')\n"
          ]
        }
      ]
    },
    {
      "cell_type": "code",
      "metadata": {
        "colab": {
          "base_uri": "https://localhost:8080/"
        },
        "id": "mIAaStjhMF6V",
        "outputId": "07e9537b-d220-4a02-ec30-303d078e9236"
      },
      "source": [
        "for name, c in list(prob.constraints.items()):\n",
        "     if \"capacity\" in name or \"demand\" in name:\n",
        "        print(name, \":\", c.pi, \"\\t\\t\", c.slack)"
      ],
      "execution_count": null,
      "outputs": [
        {
          "output_type": "stream",
          "name": "stdout",
          "text": [
            "capacity_P1_ : -14.0 \t\t -0.0\n",
            "capacity_P2_ : -21.0 \t\t -0.0\n",
            "capacity_P3_ : 0.0 \t\t 20.0\n",
            "capacity_P4_ : 0.0 \t\t 6.0\n",
            "capacity_P5_ : -10.0 \t\t -0.0\n",
            "capacity_P6_ : -18.0 \t\t -0.0\n",
            "capacity_P7_ : -23.0 \t\t -0.0\n",
            "capacity_P8_ : -9.0 \t\t -0.0\n",
            "capacity_P9_ : 0.0 \t\t 53.0\n",
            "capacity_P10_ : -18.0 \t\t -0.0\n",
            "capacity_P11_ : -22.0 \t\t -0.0\n",
            "capacity_P12_ : -3.0 \t\t -0.0\n",
            "capacity_P13_ : -1.0 \t\t -0.0\n",
            "capacity_P14_ : -8.0 \t\t -0.0\n",
            "capacity_P15_ : 0.0 \t\t -0.0\n",
            "capacity_P16_ : -14.0 \t\t -0.0\n",
            "capacity_P17_ : -6.0 \t\t -0.0\n",
            "capacity_P18_ : -6.0 \t\t -0.0\n",
            "capacity_P19_ : -7.0 \t\t -0.0\n",
            "capacity_P20_ : -11.0 \t\t -0.0\n",
            "demand_M1_ : 29.0 \t\t -0.0\n",
            "demand_M2_ : 31.0 \t\t -0.0\n",
            "demand_M3_ : 30.0 \t\t -0.0\n",
            "demand_M4_ : 28.0 \t\t -0.0\n",
            "demand_M5_ : 29.0 \t\t -0.0\n",
            "demand_M6_ : 27.0 \t\t -0.0\n",
            "demand_M7_ : 30.0 \t\t -0.0\n",
            "demand_M8_ : 29.0 \t\t -0.0\n",
            "demand_M9_ : 29.0 \t\t -0.0\n",
            "demand_M10_ : 27.0 \t\t -0.0\n"
          ]
        }
      ]
    },
    {
      "cell_type": "code",
      "metadata": {
        "id": "rkUC1jaSUxiu"
      },
      "source": [
        "#obj = 16847 (old) ==> new : Objective =  16990.0\n",
        "#demand_M1_ : 29.0 \t\t -0.0\n",
        "#demand_M2_ : 31.0 \t\t -0.0\n",
        "#demand_M3_ : 30.0 \t\t -0.0\n",
        "#demand_M4_ : 26.0 \t\t -0.0\n",
        "#demand_M5_ : 29.0 \t\t -0.0\n",
        "#demand_M6_ : 29.0 \t\t -0.0\n",
        "#demand_M7_ : 29.0 \t\t -0.0\n",
        "#demand_M8_ : 29.0 \t\t -0.0\n",
        "#demand_M9_ : 29.0 \t\t -0.0\n",
        "#demand_M10_ : 29.0 "
      ],
      "execution_count": null,
      "outputs": []
    },
    {
      "cell_type": "markdown",
      "metadata": {
        "id": "C2VoMjvXdRfn"
      },
      "source": [
        "###**5.Write the dual of the problem , and solve it with PuLP . Check that the value of the variables are the same that what was obtained with the primal**"
      ]
    },
    {
      "cell_type": "code",
      "metadata": {
        "colab": {
          "base_uri": "https://localhost:8080/"
        },
        "id": "uaPv0gQbdQgM",
        "outputId": "cbe1ca54-2e34-4749-936b-ec1a55cc0765"
      },
      "source": [
        "B=[markets[j]['Demand'] for j in markets]+[plants[i]['Capacity'] for i in plants]\n",
        "print(B)\n"
      ],
      "execution_count": null,
      "outputs": [
        {
          "output_type": "stream",
          "name": "stdout",
          "text": [
            "[38, 129, 104, 75, 126, 90, 105, 91, 47, 61, 80, 9, 22, 69, 5, 81, 37, 18, 53, 2, 56, 90, 67, 45, 56, 49, 1, 96, 83, 26]\n"
          ]
        }
      ]
    },
    {
      "cell_type": "code",
      "metadata": {
        "colab": {
          "base_uri": "https://localhost:8080/"
        },
        "id": "_VzrsB8MbIXn",
        "outputId": "6776de36-6c32-4a6e-eee7-11a75b64b8bb"
      },
      "source": [
        "import numpy as np\n",
        "\n",
        "A=np.zeros((30,230))\n",
        "k=0\n",
        "for i in range(10) :\n",
        "        for j in range(20):\n",
        "            A[i,j*10+k]=1.0\n",
        "        k+=1\n",
        "        \n",
        "for i in range(10) :\n",
        "    A[i,i+200]=-1.\n",
        "\n",
        "for i in range(20) :\n",
        "        for j in range(10):\n",
        "            A[i+10,i*10+j]=1.0\n",
        "        \n",
        "for i in range(20) :\n",
        "    A[i+10,i+210]=1.0\n",
        "print(A)\n",
        "tA=A.transpose()"
      ],
      "execution_count": null,
      "outputs": [
        {
          "output_type": "stream",
          "name": "stdout",
          "text": [
            "[[1. 0. 0. ... 0. 0. 0.]\n",
            " [0. 1. 0. ... 0. 0. 0.]\n",
            " [0. 0. 1. ... 0. 0. 0.]\n",
            " ...\n",
            " [0. 0. 0. ... 1. 0. 0.]\n",
            " [0. 0. 0. ... 0. 1. 0.]\n",
            " [0. 0. 0. ... 0. 0. 1.]]\n"
          ]
        }
      ]
    },
    {
      "cell_type": "code",
      "metadata": {
        "colab": {
          "base_uri": "https://localhost:8080/"
        },
        "id": "VuYuywU7bIaq",
        "outputId": "b8f18165-b83f-4b27-a29c-c91835148dbc"
      },
      "source": [
        "C=[freightCost[i][j] + plants[i]['Cost'] for i in plants for j in markets ]+[0]*30\n",
        "print(C)"
      ],
      "execution_count": null,
      "outputs": [
        {
          "output_type": "stream",
          "name": "stdout",
          "text": [
            "[19, 17, 18, 19, 22, 16, 17, 15, 16, 22, 17, 17, 9, 18, 10, 12, 13, 15, 10, 11, 30, 34, 36, 30, 29, 37, 33, 34, 31, 29, 31, 34, 36, 36, 29, 31, 32, 36, 33, 34, 27, 21, 25, 22, 21, 22, 22, 29, 26, 21, 15, 17, 17, 17, 12, 9, 13, 12, 11, 9, 6, 12, 14, 15, 11, 14, 12, 6, 14, 10, 26, 23, 24, 26, 20, 21, 27, 26, 28, 24, 35, 33, 31, 30, 35, 33, 35, 30, 36, 33, 13, 14, 12, 16, 18, 17, 14, 14, 18, 16, 14, 9, 13, 13, 10, 12, 14, 12, 7, 10, 29, 30, 32, 23, 28, 28, 27, 26, 26, 26, 34, 32, 31, 35, 33, 27, 27, 30, 28, 32, 27, 27, 23, 20, 28, 22, 22, 25, 23, 24, 29, 35, 33, 32, 29, 32, 33, 32, 29, 33, 19, 17, 21, 17, 17, 13, 21, 17, 19, 13, 28, 25, 26, 24, 28, 29, 31, 23, 24, 26, 23, 27, 22, 23, 24, 21, 24, 23, 24, 26, 24, 24, 23, 22, 23, 28, 28, 22, 29, 29, 21, 25, 24, 18, 19, 22, 19, 25, 18, 21, 0, 0, 0, 0, 0, 0, 0, 0, 0, 0, 0, 0, 0, 0, 0, 0, 0, 0, 0, 0, 0, 0, 0, 0, 0, 0, 0, 0, 0, 0]\n"
          ]
        }
      ]
    },
    {
      "cell_type": "code",
      "metadata": {
        "id": "R1OVZG7idnsK"
      },
      "source": [
        "prob2 = LpProblem(\"Transportation_problem_dual\",LpMaximize)"
      ],
      "execution_count": null,
      "outputs": []
    },
    {
      "cell_type": "code",
      "metadata": {
        "id": "AwWdYmn1dnve"
      },
      "source": [
        "Xvar2=LpVariable.dict(\"dual\", (i for i in range(30)), lowBound=None, cat='Continuous')\n",
        "print(Xvar2[1])"
      ],
      "execution_count": null,
      "outputs": []
    },
    {
      "cell_type": "code",
      "metadata": {
        "id": "0dQkoobkdnzP"
      },
      "source": [
        "prob2+= lpSum(Xvar2[i]*B[i] for i in Xvar2.keys())\n",
        "for i in range(len(tA)) :\n",
        "    K=[]\n",
        "    for j in range(30):\n",
        "        K+=Xvar2[j]*tA[i][j]\n",
        "        print(j)\n",
        "    prob2+= lpSum(K)<=C[i],\"constraint [%s]]\"%(i)"
      ],
      "execution_count": null,
      "outputs": []
    },
    {
      "cell_type": "code",
      "metadata": {
        "id": "lokxcbPsdv_4"
      },
      "source": [
        "print(prob2)"
      ],
      "execution_count": null,
      "outputs": []
    },
    {
      "cell_type": "code",
      "metadata": {
        "id": "R9L5cus7dwDQ"
      },
      "source": [
        "prob2.writeLP(\"TransportationProblem_dual.lp\", writeSOS=1, mip=1)\n",
        "prob2.solve()\n",
        "print(\"Status:\", LpStatus[prob2.status])\n",
        "print(\"Objective = \", value(prob2.objective))\n",
        "varsDict = {}\n",
        "\n",
        "for v in prob2.variables():\n",
        "    varsDict[v.name] = v.varValue\n",
        "    if \"dual\" in v.name:\n",
        "        print(v.name, \"=\", v.varValue)"
      ],
      "execution_count": null,
      "outputs": []
    },
    {
      "cell_type": "code",
      "metadata": {
        "id": "JgoV89fGdgUF",
        "colab": {
          "base_uri": "https://localhost:8080/"
        },
        "outputId": "5380f4ab-61fc-4539-e2f9-a22f43a5f90d"
      },
      "source": [
        "print(prob2.objective)\n",
        "print(type(prob2.objective))\n",
        "value(prob2.objective)\n"
      ],
      "execution_count": null,
      "outputs": [
        {
          "output_type": "stream",
          "name": "stdout",
          "text": [
            "38*dual_0 + 129*dual_1 + 80*dual_10 + 9*dual_11 + 22*dual_12 + 69*dual_13 + 5*dual_14 + 81*dual_15 + 37*dual_16 + 18*dual_17 + 53*dual_18 + 2*dual_19 + 104*dual_2 + 56*dual_20 + 90*dual_21 + 67*dual_22 + 45*dual_23 + 56*dual_24 + 49*dual_25 + dual_26 + 96*dual_27 + 83*dual_28 + 26*dual_29 + 75*dual_3 + 126*dual_4 + 90*dual_5 + 105*dual_6 + 91*dual_7 + 47*dual_8 + 61*dual_9\n",
            "<class 'pulp.pulp.LpAffineExpression'>\n"
          ]
        },
        {
          "output_type": "execute_result",
          "data": {
            "text/plain": [
              "16846.999999999945"
            ]
          },
          "metadata": {},
          "execution_count": 36
        }
      ]
    },
    {
      "cell_type": "code",
      "metadata": {
        "id": "zL3zZoP8dgrz"
      },
      "source": [
        "prob2.writeLP(\"TransportationProblem_dual.lp\", writeSOS=1, mip=1)\n",
        "prob2.solve()\n",
        "print(\"Status:\", LpStatus[prob2.status])\n",
        "print(\"Objective = \", value(prob2.objective))\n",
        "varsDict = {}\n",
        "\n",
        "for v in prob2.variables():\n",
        "    varsDict[v.name] = v.varValue\n",
        "    if \"dual\" in v.name:\n",
        "        print(v.name, \"=\", v.varValue)"
      ],
      "execution_count": null,
      "outputs": []
    },
    {
      "cell_type": "markdown",
      "metadata": {
        "id": "AGAMLPoerECO"
      },
      "source": [
        "weak dualiyy cx >= pb"
      ]
    },
    {
      "cell_type": "markdown",
      "metadata": {
        "id": "o2c0_kB6eBI9"
      },
      "source": [
        "###**6.Solve the problem by using the strong duality theorem : find the solution by defining both dual variables and constraints , then setting that primal objective = dual objective. Use a dummy objective**"
      ]
    },
    {
      "cell_type": "code",
      "metadata": {
        "id": "9pZEW5DAdwG7"
      },
      "source": [
        "prob3 = LpProblem(\"strong_duality\",LpMinimize)\n",
        "constante=10\n",
        "prob3 += constante\n",
        "for i in range(len(tA)) :\n",
        "    K=[]\n",
        "    for j in range(30):\n",
        "        K+=Xvar2[j]*tA[i][j]\n",
        "        # print(j)\n",
        "    prob3+= lpSum(K)<=C[i],\"constraint [%s]]\"%(i)\n",
        "    \n",
        "#Capacity constraint (for each plant)\n",
        "for i in (plants) : \n",
        "        prob3 += lpSum(Xvar[i,j] for j in markets) <= plants[i]['Capacity'] , \"capacity[%s]\"%(i)\n",
        "\n",
        "# # #Demand constraint\n",
        "for j in (markets) :\n",
        "    prob3 += lpSum(Xvar[i,j] for i in plants) >= markets[j]['Demand'] , \"demand[%s]\"%(j)\n",
        "    \n",
        "prob3 += lpSum([(freightCost[i][j] + plants[i]['Cost'])* Xvar[i,j] for i in plants for j in markets ])==lpSum(Xvar2[i]*B[i] for i in Xvar2.keys())"
      ],
      "execution_count": null,
      "outputs": []
    },
    {
      "cell_type": "code",
      "metadata": {
        "id": "_nR2YS-zdwKG",
        "colab": {
          "base_uri": "https://localhost:8080/"
        },
        "outputId": "61e05c45-6ee3-4d2b-a0e3-49589250dd2f"
      },
      "source": [
        "prob3.writeLP(\"TransportationProblem_strong_duality.lp\", writeSOS=1, mip=1)\n",
        "prob3.solve()\n",
        "print(\"Status:\", LpStatus[prob3.status])\n",
        "print (\"Objective = \", value(prob3.objective))\n",
        "varsDict = {}\n"
      ],
      "execution_count": null,
      "outputs": [
        {
          "output_type": "stream",
          "name": "stdout",
          "text": [
            "Status: Optimal\n",
            "Objective =  None\n"
          ]
        }
      ]
    },
    {
      "cell_type": "code",
      "metadata": {
        "id": "Jr2yl9bsdwVp",
        "colab": {
          "base_uri": "https://localhost:8080/"
        },
        "outputId": "ab293674-b0db-4058-c70f-be6475a7c767"
      },
      "source": [
        "for v in prob3.variables():\n",
        "    varsDict[v.name] = v.varValue\n",
        "    print(v.name, \"=\", v.varValue)"
      ],
      "execution_count": null,
      "outputs": [
        {
          "output_type": "stream",
          "name": "stdout",
          "text": [
            "X_('P1',_'M1') = 0.0\n",
            "X_('P1',_'M10') = 0.0\n",
            "X_('P1',_'M2') = 1.0\n",
            "X_('P1',_'M3') = 0.0\n",
            "X_('P1',_'M4') = 0.0\n",
            "X_('P1',_'M5') = 0.0\n",
            "X_('P1',_'M6') = 0.0\n",
            "X_('P1',_'M7') = 0.0\n",
            "X_('P1',_'M8') = 79.0\n",
            "X_('P1',_'M9') = 0.0\n",
            "X_('P10',_'M1') = 0.0\n",
            "X_('P10',_'M10') = 0.0\n",
            "X_('P10',_'M2') = 0.0\n",
            "X_('P10',_'M3') = 2.0\n",
            "X_('P10',_'M4') = 0.0\n",
            "X_('P10',_'M5') = 0.0\n",
            "X_('P10',_'M6') = 0.0\n",
            "X_('P10',_'M7') = 0.0\n",
            "X_('P10',_'M8') = 0.0\n",
            "X_('P10',_'M9') = 0.0\n",
            "X_('P11',_'M1') = 0.0\n",
            "X_('P11',_'M10') = 0.0\n",
            "X_('P11',_'M2') = 39.0\n",
            "X_('P11',_'M3') = 0.0\n",
            "X_('P11',_'M4') = 0.0\n",
            "X_('P11',_'M5') = 0.0\n",
            "X_('P11',_'M6') = 0.0\n",
            "X_('P11',_'M7') = 0.0\n",
            "X_('P11',_'M8') = 0.0\n",
            "X_('P11',_'M9') = 17.0\n",
            "X_('P12',_'M1') = 0.0\n",
            "X_('P12',_'M10') = 11.0\n",
            "X_('P12',_'M2') = 0.0\n",
            "X_('P12',_'M3') = 0.0\n",
            "X_('P12',_'M4') = 75.0\n",
            "X_('P12',_'M5') = 0.0\n",
            "X_('P12',_'M6') = 0.0\n",
            "X_('P12',_'M7') = 0.0\n",
            "X_('P12',_'M8') = 0.0\n",
            "X_('P12',_'M9') = 4.0\n",
            "X_('P13',_'M1') = 0.0\n",
            "X_('P13',_'M10') = 0.0\n",
            "X_('P13',_'M2') = 0.0\n",
            "X_('P13',_'M3') = 0.0\n",
            "X_('P13',_'M4') = 0.0\n",
            "X_('P13',_'M5') = 0.0\n",
            "X_('P13',_'M6') = 0.0\n",
            "X_('P13',_'M7') = 67.0\n",
            "X_('P13',_'M8') = 0.0\n",
            "X_('P13',_'M9') = 0.0\n",
            "X_('P14',_'M1') = 0.0\n",
            "X_('P14',_'M10') = 0.0\n",
            "X_('P14',_'M2') = 0.0\n",
            "X_('P14',_'M3') = 0.0\n",
            "X_('P14',_'M4') = 0.0\n",
            "X_('P14',_'M5') = 0.0\n",
            "X_('P14',_'M6') = 7.0\n",
            "X_('P14',_'M7') = 38.0\n",
            "X_('P14',_'M8') = 0.0\n",
            "X_('P14',_'M9') = 0.0\n",
            "X_('P15',_'M1') = 13.0\n",
            "X_('P15',_'M10') = 0.0\n",
            "X_('P15',_'M2') = 0.0\n",
            "X_('P15',_'M3') = 0.0\n",
            "X_('P15',_'M4') = 0.0\n",
            "X_('P15',_'M5') = 43.0\n",
            "X_('P15',_'M6') = 0.0\n",
            "X_('P15',_'M7') = 0.0\n",
            "X_('P15',_'M8') = 0.0\n",
            "X_('P15',_'M9') = 0.0\n",
            "X_('P16',_'M1') = 0.0\n",
            "X_('P16',_'M10') = 0.0\n",
            "X_('P16',_'M2') = 0.0\n",
            "X_('P16',_'M3') = 0.0\n",
            "X_('P16',_'M4') = 0.0\n",
            "X_('P16',_'M5') = 0.0\n",
            "X_('P16',_'M6') = 49.0\n",
            "X_('P16',_'M7') = 0.0\n",
            "X_('P16',_'M8') = 0.0\n",
            "X_('P16',_'M9') = 0.0\n",
            "X_('P17',_'M1') = 0.0\n",
            "X_('P17',_'M10') = 0.0\n",
            "X_('P17',_'M2') = 1.0\n",
            "X_('P17',_'M3') = 0.0\n",
            "X_('P17',_'M4') = 0.0\n",
            "X_('P17',_'M5') = 0.0\n",
            "X_('P17',_'M6') = 0.0\n",
            "X_('P17',_'M7') = 0.0\n",
            "X_('P17',_'M8') = 0.0\n",
            "X_('P17',_'M9') = 0.0\n",
            "X_('P18',_'M1') = 0.0\n",
            "X_('P18',_'M10') = 0.0\n",
            "X_('P18',_'M2') = 0.0\n",
            "X_('P18',_'M3') = 93.0\n",
            "X_('P18',_'M4') = 0.0\n",
            "X_('P18',_'M5') = 0.0\n",
            "X_('P18',_'M6') = 3.0\n",
            "X_('P18',_'M7') = 0.0\n",
            "X_('P18',_'M8') = 0.0\n",
            "X_('P18',_'M9') = 0.0\n",
            "X_('P19',_'M1') = 0.0\n",
            "X_('P19',_'M10') = 0.0\n",
            "X_('P19',_'M2') = 83.0\n",
            "X_('P19',_'M3') = 0.0\n",
            "X_('P19',_'M4') = 0.0\n",
            "X_('P19',_'M5') = 0.0\n",
            "X_('P19',_'M6') = 0.0\n",
            "X_('P19',_'M7') = 0.0\n",
            "X_('P19',_'M8') = 0.0\n",
            "X_('P19',_'M9') = 0.0\n",
            "X_('P2',_'M1') = 0.0\n",
            "X_('P2',_'M10') = 0.0\n",
            "X_('P2',_'M2') = 0.0\n",
            "X_('P2',_'M3') = 9.0\n",
            "X_('P2',_'M4') = 0.0\n",
            "X_('P2',_'M5') = 0.0\n",
            "X_('P2',_'M6') = 0.0\n",
            "X_('P2',_'M7') = 0.0\n",
            "X_('P2',_'M8') = 0.0\n",
            "X_('P2',_'M9') = 0.0\n",
            "X_('P20',_'M1') = 0.0\n",
            "X_('P20',_'M10') = 0.0\n",
            "X_('P20',_'M2') = 0.0\n",
            "X_('P20',_'M3') = 0.0\n",
            "X_('P20',_'M4') = 0.0\n",
            "X_('P20',_'M5') = 0.0\n",
            "X_('P20',_'M6') = 0.0\n",
            "X_('P20',_'M7') = 0.0\n",
            "X_('P20',_'M8') = 0.0\n",
            "X_('P20',_'M9') = 26.0\n",
            "X_('P3',_'M1') = 0.0\n",
            "X_('P3',_'M10') = 0.0\n",
            "X_('P3',_'M2') = 0.0\n",
            "X_('P3',_'M3') = 0.0\n",
            "X_('P3',_'M4') = 0.0\n",
            "X_('P3',_'M5') = 22.0\n",
            "X_('P3',_'M6') = 0.0\n",
            "X_('P3',_'M7') = 0.0\n",
            "X_('P3',_'M8') = 0.0\n",
            "X_('P3',_'M9') = 0.0\n",
            "X_('P4',_'M1') = 0.0\n",
            "X_('P4',_'M10') = 0.0\n",
            "X_('P4',_'M2') = 0.0\n",
            "X_('P4',_'M3') = 0.0\n",
            "X_('P4',_'M4') = 0.0\n",
            "X_('P4',_'M5') = 43.0\n",
            "X_('P4',_'M6') = 0.0\n",
            "X_('P4',_'M7') = 0.0\n",
            "X_('P4',_'M8') = 0.0\n",
            "X_('P4',_'M9') = 0.0\n",
            "X_('P5',_'M1') = 0.0\n",
            "X_('P5',_'M10') = 0.0\n",
            "X_('P5',_'M2') = 5.0\n",
            "X_('P5',_'M3') = 0.0\n",
            "X_('P5',_'M4') = 0.0\n",
            "X_('P5',_'M5') = -2.5296796e-12\n",
            "X_('P5',_'M6') = 0.0\n",
            "X_('P5',_'M7') = 0.0\n",
            "X_('P5',_'M8') = 0.0\n",
            "X_('P5',_'M9') = 0.0\n",
            "X_('P6',_'M1') = 0.0\n",
            "X_('P6',_'M10') = 50.0\n",
            "X_('P6',_'M2') = 0.0\n",
            "X_('P6',_'M3') = 0.0\n",
            "X_('P6',_'M4') = 0.0\n",
            "X_('P6',_'M5') = 0.0\n",
            "X_('P6',_'M6') = 31.0\n",
            "X_('P6',_'M7') = 0.0\n",
            "X_('P6',_'M8') = 0.0\n",
            "X_('P6',_'M9') = 0.0\n",
            "X_('P7',_'M1') = 25.0\n",
            "X_('P7',_'M10') = 0.0\n",
            "X_('P7',_'M2') = 0.0\n",
            "X_('P7',_'M3') = 0.0\n",
            "X_('P7',_'M4') = 0.0\n",
            "X_('P7',_'M5') = 0.0\n",
            "X_('P7',_'M6') = 0.0\n",
            "X_('P7',_'M7') = 0.0\n",
            "X_('P7',_'M8') = 12.0\n",
            "X_('P7',_'M9') = 0.0\n",
            "X_('P8',_'M1') = 0.0\n",
            "X_('P8',_'M10') = 0.0\n",
            "X_('P8',_'M2') = 0.0\n",
            "X_('P8',_'M3') = 0.0\n",
            "X_('P8',_'M4') = 0.0\n",
            "X_('P8',_'M5') = 18.0\n",
            "X_('P8',_'M6') = 0.0\n",
            "X_('P8',_'M7') = 0.0\n",
            "X_('P8',_'M8') = 0.0\n",
            "X_('P8',_'M9') = 0.0\n",
            "X_('P9',_'M1') = 0.0\n",
            "X_('P9',_'M10') = 0.0\n",
            "X_('P9',_'M2') = 0.0\n",
            "X_('P9',_'M3') = 0.0\n",
            "X_('P9',_'M4') = 0.0\n",
            "X_('P9',_'M5') = 0.0\n",
            "X_('P9',_'M6') = 0.0\n",
            "X_('P9',_'M7') = 0.0\n",
            "X_('P9',_'M8') = 0.0\n",
            "X_('P9',_'M9') = 0.0\n",
            "__dummy = None\n",
            "dual_0 = 29.0\n",
            "dual_1 = 31.0\n",
            "dual_10 = -14.0\n",
            "dual_11 = -21.0\n",
            "dual_12 = 0.0\n",
            "dual_13 = -5.5053597e-13\n",
            "dual_14 = -10.0\n",
            "dual_15 = -20.0\n",
            "dual_16 = -23.0\n",
            "dual_17 = -9.0\n",
            "dual_18 = 0.0\n",
            "dual_19 = -18.0\n",
            "dual_2 = 30.0\n",
            "dual_20 = -22.0\n",
            "dual_21 = -3.0\n",
            "dual_22 = -2.0\n",
            "dual_23 = -7.0\n",
            "dual_24 = 0.0\n",
            "dual_25 = -16.0\n",
            "dual_26 = -6.0\n",
            "dual_27 = -8.0\n",
            "dual_28 = -7.0\n",
            "dual_29 = -11.0\n",
            "dual_3 = 26.0\n",
            "dual_4 = 29.0\n",
            "dual_5 = 29.0\n",
            "dual_6 = 29.0\n",
            "dual_7 = 29.0\n",
            "dual_8 = 29.0\n",
            "dual_9 = 29.0\n"
          ]
        }
      ]
    },
    {
      "cell_type": "markdown",
      "metadata": {
        "id": "x1LjFkoKsMqL"
      },
      "source": [
        "Les var primales sont + modifiées que les dual (car le dual est plus serré que le primal, ==> plus de relachement pr le primal)\n",
        "dual : max capa + demand\n",
        "primal : min production +transportation costs"
      ]
    },
    {
      "cell_type": "markdown",
      "metadata": {
        "id": "9siqGJb9ePCL"
      },
      "source": [
        "###**7.Use this to find a solution that minimizes at the same time the cost and the flows arising from plant P4**###"
      ]
    },
    {
      "cell_type": "markdown",
      "metadata": {
        "id": "MFjYjbuIsmRB"
      },
      "source": [
        "X_('P4',_'M1') = 0.0\n",
        "X_('P4',_'M10') = 0.0\n",
        "X_('P4',_'M2') = 0.0\n",
        "X_('P4',_'M3') = 0.0\n",
        "X_('P4',_'M4') = 0.0\n",
        "X_('P4',_'M5') = 43.0\n",
        "X_('P4',_'M6') = 0.0\n",
        "X_('P4',_'M7') = 0.0\n",
        "X_('P4',_'M8') = 0.0\n",
        "X_('P4',_'M9') = 0.0\n",
        "43 <= capa total de P4 , non saturé"
      ]
    },
    {
      "cell_type": "code",
      "metadata": {
        "id": "vZAk49uWbIeD",
        "colab": {
          "base_uri": "https://localhost:8080/"
        },
        "outputId": "9fa79060-e6fb-4ce0-9431-fba4a94bc89e"
      },
      "source": [
        "prob4 = LpProblem(\"strong_duality\",LpMaximize)\n",
        "\n",
        "prob4 += lpSum([(freightCost['P4'][j] + plants['P4']['Cost'])* Xvar['P4',j]  for j in markets ])\n",
        "for i in range(len(tA)) :\n",
        "    K=[]\n",
        "    for j in range(30):\n",
        "        K+=Xvar2[j]*tA[i][j]\n",
        "        # print(j)\n",
        "    prob4+= lpSum(K)<=C[i],\"constraint [%s]]\"%(i)\n",
        "    \n",
        "#Capacity constraint (for each plant)\n",
        "for i in (plants) : \n",
        "        prob4 += lpSum(Xvar[i,j] for j in markets) <= plants[i]['Capacity'] , \"capacity[%s]\"%(i)\n",
        "\n",
        "# # #Demand constraint\n",
        "for j in (markets) :\n",
        "    prob4 += lpSum(Xvar[i,j] for i in plants) >= markets[j]['Demand'] , \"demand[%s]\"%(j)\n",
        "    \n",
        "prob4 += lpSum([(freightCost[i][j] + plants[i]['Cost'])* Xvar[i,j] for i in plants for j in markets ])==lpSum(Xvar2[i]*B[i] for i in Xvar2.keys())\n",
        "\n",
        "print(K)"
      ],
      "execution_count": null,
      "outputs": [
        {
          "output_type": "stream",
          "name": "stdout",
          "text": [
            "dual_29\n"
          ]
        }
      ]
    },
    {
      "cell_type": "code",
      "metadata": {
        "colab": {
          "base_uri": "https://localhost:8080/"
        },
        "id": "uofjhoSwkT-D",
        "outputId": "77b83cfa-4b2e-4d9e-c9fb-7b8cc594c0b8"
      },
      "source": [
        "# prob4.writeLP(\"TransportationProblem_strong_duality.lp\", writeSOS=1, mip=1)\n",
        "prob4.solve()\n",
        "print(\"Status:\", LpStatus[prob4.status])\n",
        "print (\"Objective = \", value(prob4.objective))\n",
        "varsDict = {}\n"
      ],
      "execution_count": null,
      "outputs": [
        {
          "output_type": "stream",
          "name": "stdout",
          "text": [
            "Status: Optimal\n",
            "Objective =  2001.0\n"
          ]
        }
      ]
    },
    {
      "cell_type": "markdown",
      "metadata": {
        "id": "SvUpiLBgeo9E"
      },
      "source": [
        "###**8.Can you use the same trick to both miminise the cost and maximise the margin of a given plan ?**###"
      ]
    },
    {
      "cell_type": "code",
      "metadata": {
        "id": "tSTTJ8B9euY3"
      },
      "source": [
        ""
      ],
      "execution_count": null,
      "outputs": []
    }
  ]
}