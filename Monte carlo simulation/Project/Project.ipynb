{
 "cells": [
  {
   "cell_type": "markdown",
   "id": "dfd1be79-c764-42d9-8c8a-3cc9b16ad8be",
   "metadata": {},
   "source": [
    "# Project Monte Carlo"
   ]
  },
  {
   "cell_type": "markdown",
   "id": "833df922-ed0d-44d1-8e31-f98621adc76a",
   "metadata": {},
   "source": [
    "### Initiation"
   ]
  },
  {
   "cell_type": "code",
   "execution_count": 160,
   "id": "cdd2b1c5-958c-4817-8179-6e5aa137ba59",
   "metadata": {},
   "outputs": [],
   "source": [
    "import numpy as np\n",
    "import matplotlib.pyplot as plt\n",
    "from time import time\n",
    "from scipy.stats import beta \n",
    "import scipy.stats as sps\n",
    "import sympy as sp"
   ]
  },
  {
   "cell_type": "markdown",
   "id": "b7ffc0d3-7748-4288-8ab3-ee6225dc8a49",
   "metadata": {},
   "source": [
    "lets start by simulating the geometric brownian mouvement"
   ]
  },
  {
   "cell_type": "code",
   "execution_count": 161,
   "id": "bfb32f4a-fa09-4b39-8182-c7ed107f5eed",
   "metadata": {},
   "outputs": [
    {
     "data": {
      "text/plain": [
       "[104.6, 74.76116940793952, 32.626922357701844]"
      ]
     },
     "execution_count": 161,
     "metadata": {},
     "output_type": "execute_result"
    }
   ],
   "source": [
    "#Defining the brownian motion :\n",
    "def BM(N,dt): \n",
    "    W = np.zeros(N)\n",
    "    for i in range(N-1):\n",
    "        dW = np.sqrt(dt[i])* np.random.randn(1)\n",
    "        W[i+1] = W[i] + dW        #Brownian path\n",
    "    return W\n",
    "\n",
    "def GBM(X_0, sigma, W, N, t):\n",
    "    X = []\n",
    "    X.append(X_0)     \n",
    "    for i in range(1,N):\n",
    "        Xi = X_0 * np.exp(sigma * W[i]  + (-0.5 * sigma**2) *t[i])\n",
    "        X.append(Xi)   \n",
    "    return X\n",
    "\n",
    "\n",
    "X_0= 104.6\n",
    "sigma = 0.2 \n",
    "N = 3 #number of steps\n",
    "dt = np.array([1, 5])  \n",
    "W = BM(N,dt)\n",
    "t2 = 6   \n",
    "t = np.array([0, 1, 6])\n",
    "\n",
    "#the brownian motion is. :\n",
    "s=GBM(X_0,sigma,W,N,t)\n",
    "sb"
   ]
  },
  {
   "cell_type": "code",
   "execution_count": null,
   "id": "ae36badf-5b95-4870-b573-ac3ad38d85b1",
   "metadata": {},
   "outputs": [],
   "source": [
    "X2_res=X2\n",
    "X1_res=X1\n",
    "X0 = np.repeat(X0, N_i*M)\n",
    "X1 = np.repeat(X1, N_i)\n",
    "X2 = X2.flatten()\n",
    "X0 = X0[:, np.newaxis]\n",
    "X1 = X1[:, np.newaxis]\n",
    "X2 = X2[:, np.newaxis]\n",
    "Matrix = np.concatenate((X0, X1, X2), axis=1)\n",
    "\n",
    "\n",
    "\n",
    "plt.plot(t, Matrix.T)\n",
    "plt.title(\"X Simulation, M = {0} , N_i={1}\".format(M,N_i))\n",
    "X2=X2_res\n",
    "X1=X1_res"
   ]
  },
  {
   "cell_type": "code",
   "execution_count": null,
   "id": "79d245d1-6717-4b31-beb7-324b5787721e",
   "metadata": {},
   "outputs": [],
   "source": []
  },
  {
   "cell_type": "code",
   "execution_count": 182,
   "id": "b1ee4ba6-1dd4-4d19-b505-6869bd1d32f6",
   "metadata": {},
   "outputs": [],
   "source": [
    "#Creating W and X\n",
    "\n",
    "t = np.array([0, 1, 6])\n",
    "X0 = 104.6\n",
    "sigma = 0.2\n",
    "dt = [1, 5]\n",
    "M = 100\n",
    "N_i = 2000\n",
    "\n",
    "\n",
    "W1 = np.zeros(M)\n",
    "W2 = np.zeros(N_i)\n",
    "X1 = np.zeros(M)\n",
    "X2 = np.zeros((M,N_i))\n",
    "\n",
    "# gaussian\n",
    "g = np.random.randn(M)\n",
    "# brownian\n",
    "dW = np.sqrt(dt[0]) * g\n",
    "# Brownian trajectory\n",
    "W1 = W1 + dW\n",
    "X1 = X0 * np.exp(sigma * W1 - sigma**2*t[1]/2)\n",
    "for i in range(M):\n",
    "    g = np.random.randn(N_i)\n",
    "    dW = np.sqrt(dt[1]) * g\n",
    "    W2 = W1[i] + dW\n",
    "    X2[i,:] = X0 * np.exp(sigma * W2 - sigma**2*t[2]/2)\n",
    "    \n"
   ]
  },
  {
   "cell_type": "code",
   "execution_count": 183,
   "id": "ffdc7992-74fa-4554-8107-3790f5604705",
   "metadata": {},
   "outputs": [],
   "source": [
    "#Simulate Q\n"
   ]
  },
  {
   "cell_type": "code",
   "execution_count": 184,
   "id": "c4e8a4e3-0df2-40dd-9f00-a97cb38d571e",
   "metadata": {},
   "outputs": [],
   "source": [
    "\n",
    "q_0=100\n",
    "a=2.36\n",
    "b=4.15\n",
    "c = 7.76\n",
    "\n",
    "B=np.random.beta(a,b,size=(M,N_i))\n",
    "Q=q_0*(1+B)\n",
    "\n",
    "\n",
    "\n"
   ]
  },
  {
   "cell_type": "code",
   "execution_count": 185,
   "id": "c3054cec-9e77-4058-a450-265c0da50bbf",
   "metadata": {},
   "outputs": [],
   "source": [
    "#defining f1 and f2"
   ]
  },
  {
   "cell_type": "code",
   "execution_count": 186,
   "id": "b96e2314-bc19-4798-9be5-55205abdb973",
   "metadata": {},
   "outputs": [],
   "source": [
    "def f1(x):\n",
    "    return q_0*(x - c)\n",
    " \n",
    "def f2(X2, Q):\n",
    "    return Q*X2 - 2.5 * c * (q_0+Q)"
   ]
  },
  {
   "cell_type": "code",
   "execution_count": 187,
   "id": "f9460c58-0492-4747-9bf2-70f525b08fab",
   "metadata": {},
   "outputs": [
    {
     "data": {
      "image/png": "[encoded data removed]",
      "text/plain": [
       "<Figure size 432x288 with 1 Axes>"
      ]
     },
     "metadata": {
      "needs_background": "light"
     },
     "output_type": "display_data"
    }
   ],
   "source": [
    "#identifying u1\n",
    "u1=np.mean(f2(X2, Q),axis=1)\n",
    "\n",
    "#plotting U_1\n",
    "plt.hist(u1)\n",
    "plt.title('Values of the expected payoff U_1', fontsize='10')\n",
    "plt.show()"
   ]
  },
  {
   "cell_type": "code",
   "execution_count": 188,
   "id": "07f01d7c-13f2-4b60-b112-96f79f6101b1",
   "metadata": {},
   "outputs": [
    {
     "data": {
      "image/png": "[encoded data removed]",
      "text/plain": [
       "<Figure size 360x360 with 1 Axes>"
      ]
     },
     "metadata": {
      "needs_background": "light"
     },
     "output_type": "display_data"
    }
   ],
   "source": [
    "\n",
    "\n",
    "Gain_X1=np.maximum((u1-f1(X1)),0)\n",
    "\n",
    "# Plotting Gain_X1\n",
    "\n",
    "plt.figure(figsize=(5,5))\n",
    "plt.hist(X1[Gain_X1>0])\n",
    "plt.xlabel('Gain exceedance')\n",
    "plt.ylabel('Frequency')\n",
    "\n",
    "plt.title('Distribution of the gain exceedance at time t1', fontsize='12')\n",
    "\n",
    "plt.show()\n",
    "\n"
   ]
  },
  {
   "cell_type": "code",
   "execution_count": 189,
   "id": "9177ec64-550c-40aa-93ec-655799a71c13",
   "metadata": {},
   "outputs": [
    {
     "data": {
      "image/png": "[encoded data removed]",
      "text/plain": [
       "<Figure size 720x360 with 1 Axes>"
      ]
     },
     "metadata": {
      "needs_background": "light"
     },
     "output_type": "display_data"
    },
    {
     "name": "stdout",
     "output_type": "stream",
     "text": [
      "The positive set is given by the following array: \n",
      "[115.76641714 151.93727962 109.82469688 102.69435769 139.3945593\n",
      " 116.711948   127.55931765 124.90608268 105.79705019 111.72092983\n",
      " 105.7606114  134.08321434 121.03665758 115.20534989 113.49642322\n",
      " 114.09621954 161.24911176 117.20225793 134.43121656 157.61062885\n",
      " 118.2093674  204.67410401 170.45215094 142.4605823  111.08736692\n",
      " 106.56586228 131.21400142 137.07426157 110.38556209 115.74336213\n",
      " 114.28350426 135.78723498 116.63423118 122.60380448 136.98018197\n",
      " 124.42551973 184.54024704 118.40599733 107.00499395 112.28731659\n",
      " 128.50475427 109.99318596 110.21466462 127.95759768 134.15123348\n",
      " 125.67381257 126.49791697 114.76104891 104.99833308 110.63235875\n",
      " 120.01422744 111.21983459 112.26452737]\n"
     ]
    }
   ],
   "source": [
    "# Plotting positive set points\n",
    "plt.figure(figsize=(10,5))\n",
    "plt.scatter(X1,Gain_X1, marker='.')\n",
    "plt.plot(X1, np.zeros(M), color=\"red\" , label=\"f1\")\n",
    "plt.title('Positive Set Points', fontsize='12')\n",
    "plt.xlabel('X1')\n",
    "plt.ylabel('Gain')\n",
    "\n",
    "plt.show()\n",
    "print(\"The positive set is given by the following array: \")\n",
    "print(X1[Gain_X1>0])\n"
   ]
  },
  {
   "cell_type": "code",
   "execution_count": 191,
   "id": "e5616ec2-94c5-4663-a867-cfe6cfcae68a",
   "metadata": {},
   "outputs": [
    {
     "data": {
      "text/plain": [
       "400.07546888818155"
      ]
     },
     "execution_count": 191,
     "metadata": {},
     "output_type": "execute_result"
    }
   ],
   "source": [
    "gain0=Gain_X1.mean()\n",
    "gain0"
   ]
  },
  {
   "cell_type": "code",
   "execution_count": null,
   "id": "8eb77285-a0bf-43cf-9806-394f3f3bb469",
   "metadata": {},
   "outputs": [],
   "source": []
  }
 ],
 "metadata": {
  "kernelspec": {
   "display_name": "Python 3",
   "language": "python",
   "name": "python3"
  },
  "language_info": {
   "codemirror_mode": {
    "name": "ipython",
    "version": 3
   },
   "file_extension": ".py",
   "mimetype": "text/x-python",
   "name": "python",
   "nbconvert_exporter": "python",
   "pygments_lexer": "ipython3",
   "version": "3.8.8"
  }
 },
 "nbformat": 4,
 "nbformat_minor": 5
}
